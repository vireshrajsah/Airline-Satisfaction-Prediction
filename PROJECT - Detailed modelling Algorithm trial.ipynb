{
 "cells": [
  {
   "cell_type": "markdown",
   "id": "45a9e6c0",
   "metadata": {},
   "source": [
    "# Airline Satisfaction Prediction"
   ]
  },
  {
   "cell_type": "markdown",
   "id": "f5d1ce8c",
   "metadata": {},
   "source": [
    "## PROBLEM STATEMENT\n",
    "Predicting customer satisfaction based on their holistic experience while traveling by air.\n",
    "\n",
    "## PROJECT OUTCOME\n",
    "For this project, we intend to explore survey results provided by passengers (anonymized), and understand what causes them to be satisfied or dissatisfied. Ultimately, we hope our findings enable us to make recommendations on how to address the factors that cause dissatisfaction.\n",
    "\n",
    "## BUSINESS IMPACT\n",
    "Airline businesses around the world are decimated by Covid-19 as most international air travel has been grounded. In fact, some airlines such as Thai Airways have already filed for bankruptcy. Nonetheless, once the storm is over, demand for air travel is expected to surge as people rush back for overseas holidays. What can airlines prepare to give themselves a competitive edge when the crowd finally arrives? Customer satisfaction is always top of mind for airlines. Unhappy or disengaged customers naturally mean fewer passengers and less revenue. It’s important that customers have an excellent experience every time they travel. On-time flights, good in-flight entertainment, more (and better) snacks, and more legroom might be the obvious contributors to a good experience and more loyalty. While we might hear about those aspects the most, the customer experience is not about just the flight itself. It’s everything from purchasing the ticket on the company’s website or mobile app to checking bags in at the airport or via a mobile app to waiting in the terminal. This mindset has been, and continues to be, adapted to the post-security, onboard, and post-flight experience. So how can we determine which of these factors contribute to the satisfaction of the customer? To answer this, we intend on building a classification problem to predict the customer satisfactio"
   ]
  },
  {
   "cell_type": "code",
   "execution_count": 60,
   "id": "7d0286f5",
   "metadata": {},
   "outputs": [],
   "source": [
    "import pandas as pd\n",
    "import numpy as np\n",
    "from sklearn.preprocessing import LabelEncoder,StandardScaler\n",
    "from sklearn.model_selection import train_test_split,GridSearchCV\n",
    "from warnings import filterwarnings\n",
    "filterwarnings('ignore')\n",
    "from statsmodels.api import OLS\n",
    "import seaborn as sns\n",
    "import statsmodels.api as sm\n",
    "from sklearn.metrics import accuracy_score,confusion_matrix,roc_auc_score,roc_curve\n",
    "from sklearn.ensemble import RandomForestClassifier"
   ]
  },
  {
   "cell_type": "markdown",
   "id": "57dbf5d4",
   "metadata": {},
   "source": [
    "## Dataset"
   ]
  },
  {
   "cell_type": "code",
   "execution_count": 2,
   "id": "38ceb615",
   "metadata": {},
   "outputs": [],
   "source": [
    "df=pd.read_csv('train.csv')"
   ]
  },
  {
   "cell_type": "code",
   "execution_count": 3,
   "id": "ce881724",
   "metadata": {},
   "outputs": [
    {
     "data": {
      "text/html": [
       "<div>\n",
       "<style scoped>\n",
       "    .dataframe tbody tr th:only-of-type {\n",
       "        vertical-align: middle;\n",
       "    }\n",
       "\n",
       "    .dataframe tbody tr th {\n",
       "        vertical-align: top;\n",
       "    }\n",
       "\n",
       "    .dataframe thead th {\n",
       "        text-align: right;\n",
       "    }\n",
       "</style>\n",
       "<table border=\"1\" class=\"dataframe\">\n",
       "  <thead>\n",
       "    <tr style=\"text-align: right;\">\n",
       "      <th></th>\n",
       "      <th>Unnamed: 0</th>\n",
       "      <th>id</th>\n",
       "      <th>Gender</th>\n",
       "      <th>Customer Type</th>\n",
       "      <th>Age</th>\n",
       "      <th>Type of Travel</th>\n",
       "      <th>Class</th>\n",
       "      <th>Flight Distance</th>\n",
       "      <th>Inflight wifi service</th>\n",
       "      <th>Departure/Arrival time convenient</th>\n",
       "      <th>...</th>\n",
       "      <th>Inflight entertainment</th>\n",
       "      <th>On-board service</th>\n",
       "      <th>Leg room service</th>\n",
       "      <th>Baggage handling</th>\n",
       "      <th>Checkin service</th>\n",
       "      <th>Inflight service</th>\n",
       "      <th>Cleanliness</th>\n",
       "      <th>Departure Delay in Minutes</th>\n",
       "      <th>Arrival Delay in Minutes</th>\n",
       "      <th>satisfaction</th>\n",
       "    </tr>\n",
       "  </thead>\n",
       "  <tbody>\n",
       "    <tr>\n",
       "      <th>0</th>\n",
       "      <td>0</td>\n",
       "      <td>70172</td>\n",
       "      <td>Male</td>\n",
       "      <td>Loyal Customer</td>\n",
       "      <td>13</td>\n",
       "      <td>Personal Travel</td>\n",
       "      <td>Eco Plus</td>\n",
       "      <td>460</td>\n",
       "      <td>3</td>\n",
       "      <td>4</td>\n",
       "      <td>...</td>\n",
       "      <td>5</td>\n",
       "      <td>4</td>\n",
       "      <td>3</td>\n",
       "      <td>4</td>\n",
       "      <td>4</td>\n",
       "      <td>5</td>\n",
       "      <td>5</td>\n",
       "      <td>25</td>\n",
       "      <td>18.0</td>\n",
       "      <td>neutral or dissatisfied</td>\n",
       "    </tr>\n",
       "    <tr>\n",
       "      <th>1</th>\n",
       "      <td>1</td>\n",
       "      <td>5047</td>\n",
       "      <td>Male</td>\n",
       "      <td>disloyal Customer</td>\n",
       "      <td>25</td>\n",
       "      <td>Business travel</td>\n",
       "      <td>Business</td>\n",
       "      <td>235</td>\n",
       "      <td>3</td>\n",
       "      <td>2</td>\n",
       "      <td>...</td>\n",
       "      <td>1</td>\n",
       "      <td>1</td>\n",
       "      <td>5</td>\n",
       "      <td>3</td>\n",
       "      <td>1</td>\n",
       "      <td>4</td>\n",
       "      <td>1</td>\n",
       "      <td>1</td>\n",
       "      <td>6.0</td>\n",
       "      <td>neutral or dissatisfied</td>\n",
       "    </tr>\n",
       "    <tr>\n",
       "      <th>2</th>\n",
       "      <td>2</td>\n",
       "      <td>110028</td>\n",
       "      <td>Female</td>\n",
       "      <td>Loyal Customer</td>\n",
       "      <td>26</td>\n",
       "      <td>Business travel</td>\n",
       "      <td>Business</td>\n",
       "      <td>1142</td>\n",
       "      <td>2</td>\n",
       "      <td>2</td>\n",
       "      <td>...</td>\n",
       "      <td>5</td>\n",
       "      <td>4</td>\n",
       "      <td>3</td>\n",
       "      <td>4</td>\n",
       "      <td>4</td>\n",
       "      <td>4</td>\n",
       "      <td>5</td>\n",
       "      <td>0</td>\n",
       "      <td>0.0</td>\n",
       "      <td>satisfied</td>\n",
       "    </tr>\n",
       "    <tr>\n",
       "      <th>3</th>\n",
       "      <td>3</td>\n",
       "      <td>24026</td>\n",
       "      <td>Female</td>\n",
       "      <td>Loyal Customer</td>\n",
       "      <td>25</td>\n",
       "      <td>Business travel</td>\n",
       "      <td>Business</td>\n",
       "      <td>562</td>\n",
       "      <td>2</td>\n",
       "      <td>5</td>\n",
       "      <td>...</td>\n",
       "      <td>2</td>\n",
       "      <td>2</td>\n",
       "      <td>5</td>\n",
       "      <td>3</td>\n",
       "      <td>1</td>\n",
       "      <td>4</td>\n",
       "      <td>2</td>\n",
       "      <td>11</td>\n",
       "      <td>9.0</td>\n",
       "      <td>neutral or dissatisfied</td>\n",
       "    </tr>\n",
       "    <tr>\n",
       "      <th>4</th>\n",
       "      <td>4</td>\n",
       "      <td>119299</td>\n",
       "      <td>Male</td>\n",
       "      <td>Loyal Customer</td>\n",
       "      <td>61</td>\n",
       "      <td>Business travel</td>\n",
       "      <td>Business</td>\n",
       "      <td>214</td>\n",
       "      <td>3</td>\n",
       "      <td>3</td>\n",
       "      <td>...</td>\n",
       "      <td>3</td>\n",
       "      <td>3</td>\n",
       "      <td>4</td>\n",
       "      <td>4</td>\n",
       "      <td>3</td>\n",
       "      <td>3</td>\n",
       "      <td>3</td>\n",
       "      <td>0</td>\n",
       "      <td>0.0</td>\n",
       "      <td>satisfied</td>\n",
       "    </tr>\n",
       "  </tbody>\n",
       "</table>\n",
       "<p>5 rows × 25 columns</p>\n",
       "</div>"
      ],
      "text/plain": [
       "   Unnamed: 0      id  Gender      Customer Type  Age   Type of Travel  \\\n",
       "0           0   70172    Male     Loyal Customer   13  Personal Travel   \n",
       "1           1    5047    Male  disloyal Customer   25  Business travel   \n",
       "2           2  110028  Female     Loyal Customer   26  Business travel   \n",
       "3           3   24026  Female     Loyal Customer   25  Business travel   \n",
       "4           4  119299    Male     Loyal Customer   61  Business travel   \n",
       "\n",
       "      Class  Flight Distance  Inflight wifi service  \\\n",
       "0  Eco Plus              460                      3   \n",
       "1  Business              235                      3   \n",
       "2  Business             1142                      2   \n",
       "3  Business              562                      2   \n",
       "4  Business              214                      3   \n",
       "\n",
       "   Departure/Arrival time convenient  ...  Inflight entertainment  \\\n",
       "0                                  4  ...                       5   \n",
       "1                                  2  ...                       1   \n",
       "2                                  2  ...                       5   \n",
       "3                                  5  ...                       2   \n",
       "4                                  3  ...                       3   \n",
       "\n",
       "   On-board service  Leg room service  Baggage handling  Checkin service  \\\n",
       "0                 4                 3                 4                4   \n",
       "1                 1                 5                 3                1   \n",
       "2                 4                 3                 4                4   \n",
       "3                 2                 5                 3                1   \n",
       "4                 3                 4                 4                3   \n",
       "\n",
       "   Inflight service  Cleanliness  Departure Delay in Minutes  \\\n",
       "0                 5            5                          25   \n",
       "1                 4            1                           1   \n",
       "2                 4            5                           0   \n",
       "3                 4            2                          11   \n",
       "4                 3            3                           0   \n",
       "\n",
       "   Arrival Delay in Minutes             satisfaction  \n",
       "0                      18.0  neutral or dissatisfied  \n",
       "1                       6.0  neutral or dissatisfied  \n",
       "2                       0.0                satisfied  \n",
       "3                       9.0  neutral or dissatisfied  \n",
       "4                       0.0                satisfied  \n",
       "\n",
       "[5 rows x 25 columns]"
      ]
     },
     "execution_count": 3,
     "metadata": {},
     "output_type": "execute_result"
    }
   ],
   "source": [
    "df.head()"
   ]
  },
  {
   "cell_type": "markdown",
   "id": "b2e1f196",
   "metadata": {},
   "source": [
    "## Data Understanding"
   ]
  },
  {
   "cell_type": "code",
   "execution_count": 4,
   "id": "1b71727d",
   "metadata": {},
   "outputs": [
    {
     "data": {
      "text/plain": [
       "(103904, 25)"
      ]
     },
     "execution_count": 4,
     "metadata": {},
     "output_type": "execute_result"
    }
   ],
   "source": [
    "df.shape"
   ]
  },
  {
   "cell_type": "code",
   "execution_count": 5,
   "id": "a25722cf",
   "metadata": {},
   "outputs": [
    {
     "data": {
      "text/plain": [
       "Unnamed: 0                             0\n",
       "id                                     0\n",
       "Gender                                 0\n",
       "Customer Type                          0\n",
       "Age                                    0\n",
       "Type of Travel                         0\n",
       "Class                                  0\n",
       "Flight Distance                        0\n",
       "Inflight wifi service                  0\n",
       "Departure/Arrival time convenient      0\n",
       "Ease of Online booking                 0\n",
       "Gate location                          0\n",
       "Food and drink                         0\n",
       "Online boarding                        0\n",
       "Seat comfort                           0\n",
       "Inflight entertainment                 0\n",
       "On-board service                       0\n",
       "Leg room service                       0\n",
       "Baggage handling                       0\n",
       "Checkin service                        0\n",
       "Inflight service                       0\n",
       "Cleanliness                            0\n",
       "Departure Delay in Minutes             0\n",
       "Arrival Delay in Minutes             310\n",
       "satisfaction                           0\n",
       "dtype: int64"
      ]
     },
     "execution_count": 5,
     "metadata": {},
     "output_type": "execute_result"
    }
   ],
   "source": [
    "df.isnull().sum()"
   ]
  },
  {
   "cell_type": "code",
   "execution_count": 6,
   "id": "df7eb6d4",
   "metadata": {},
   "outputs": [],
   "source": [
    "x=df.drop('satisfaction',1)\n",
    "y=df['satisfaction']"
   ]
  },
  {
   "cell_type": "code",
   "execution_count": 7,
   "id": "0c5a62bb",
   "metadata": {},
   "outputs": [],
   "source": [
    "data=df"
   ]
  },
  {
   "cell_type": "code",
   "execution_count": 8,
   "id": "802a87ab",
   "metadata": {},
   "outputs": [],
   "source": [
    "le=LabelEncoder()"
   ]
  },
  {
   "cell_type": "code",
   "execution_count": 9,
   "id": "48973473",
   "metadata": {},
   "outputs": [
    {
     "data": {
      "text/plain": [
       "Index(['Gender', 'Customer Type', 'Type of Travel', 'Class', 'satisfaction'], dtype='object')"
      ]
     },
     "execution_count": 9,
     "metadata": {},
     "output_type": "execute_result"
    }
   ],
   "source": [
    "df.select_dtypes(include=np.object).columns"
   ]
  },
  {
   "cell_type": "code",
   "execution_count": 10,
   "id": "31b239cd",
   "metadata": {
    "scrolled": true
   },
   "outputs": [
    {
     "data": {
      "text/html": [
       "<div>\n",
       "<style scoped>\n",
       "    .dataframe tbody tr th:only-of-type {\n",
       "        vertical-align: middle;\n",
       "    }\n",
       "\n",
       "    .dataframe tbody tr th {\n",
       "        vertical-align: top;\n",
       "    }\n",
       "\n",
       "    .dataframe thead th {\n",
       "        text-align: right;\n",
       "    }\n",
       "</style>\n",
       "<table border=\"1\" class=\"dataframe\">\n",
       "  <thead>\n",
       "    <tr style=\"text-align: right;\">\n",
       "      <th></th>\n",
       "      <th>Unnamed: 0</th>\n",
       "      <th>id</th>\n",
       "      <th>Gender</th>\n",
       "      <th>Customer Type</th>\n",
       "      <th>Age</th>\n",
       "      <th>Type of Travel</th>\n",
       "      <th>Class</th>\n",
       "      <th>Flight Distance</th>\n",
       "      <th>Inflight wifi service</th>\n",
       "      <th>Departure/Arrival time convenient</th>\n",
       "      <th>...</th>\n",
       "      <th>Inflight entertainment</th>\n",
       "      <th>On-board service</th>\n",
       "      <th>Leg room service</th>\n",
       "      <th>Baggage handling</th>\n",
       "      <th>Checkin service</th>\n",
       "      <th>Inflight service</th>\n",
       "      <th>Cleanliness</th>\n",
       "      <th>Departure Delay in Minutes</th>\n",
       "      <th>Arrival Delay in Minutes</th>\n",
       "      <th>satisfaction</th>\n",
       "    </tr>\n",
       "  </thead>\n",
       "  <tbody>\n",
       "    <tr>\n",
       "      <th>0</th>\n",
       "      <td>0</td>\n",
       "      <td>70172</td>\n",
       "      <td>1</td>\n",
       "      <td>0</td>\n",
       "      <td>13</td>\n",
       "      <td>1</td>\n",
       "      <td>2</td>\n",
       "      <td>460</td>\n",
       "      <td>3</td>\n",
       "      <td>4</td>\n",
       "      <td>...</td>\n",
       "      <td>5</td>\n",
       "      <td>4</td>\n",
       "      <td>3</td>\n",
       "      <td>4</td>\n",
       "      <td>4</td>\n",
       "      <td>5</td>\n",
       "      <td>5</td>\n",
       "      <td>25</td>\n",
       "      <td>18.0</td>\n",
       "      <td>0</td>\n",
       "    </tr>\n",
       "    <tr>\n",
       "      <th>1</th>\n",
       "      <td>1</td>\n",
       "      <td>5047</td>\n",
       "      <td>1</td>\n",
       "      <td>1</td>\n",
       "      <td>25</td>\n",
       "      <td>0</td>\n",
       "      <td>0</td>\n",
       "      <td>235</td>\n",
       "      <td>3</td>\n",
       "      <td>2</td>\n",
       "      <td>...</td>\n",
       "      <td>1</td>\n",
       "      <td>1</td>\n",
       "      <td>5</td>\n",
       "      <td>3</td>\n",
       "      <td>1</td>\n",
       "      <td>4</td>\n",
       "      <td>1</td>\n",
       "      <td>1</td>\n",
       "      <td>6.0</td>\n",
       "      <td>0</td>\n",
       "    </tr>\n",
       "    <tr>\n",
       "      <th>2</th>\n",
       "      <td>2</td>\n",
       "      <td>110028</td>\n",
       "      <td>0</td>\n",
       "      <td>0</td>\n",
       "      <td>26</td>\n",
       "      <td>0</td>\n",
       "      <td>0</td>\n",
       "      <td>1142</td>\n",
       "      <td>2</td>\n",
       "      <td>2</td>\n",
       "      <td>...</td>\n",
       "      <td>5</td>\n",
       "      <td>4</td>\n",
       "      <td>3</td>\n",
       "      <td>4</td>\n",
       "      <td>4</td>\n",
       "      <td>4</td>\n",
       "      <td>5</td>\n",
       "      <td>0</td>\n",
       "      <td>0.0</td>\n",
       "      <td>1</td>\n",
       "    </tr>\n",
       "    <tr>\n",
       "      <th>3</th>\n",
       "      <td>3</td>\n",
       "      <td>24026</td>\n",
       "      <td>0</td>\n",
       "      <td>0</td>\n",
       "      <td>25</td>\n",
       "      <td>0</td>\n",
       "      <td>0</td>\n",
       "      <td>562</td>\n",
       "      <td>2</td>\n",
       "      <td>5</td>\n",
       "      <td>...</td>\n",
       "      <td>2</td>\n",
       "      <td>2</td>\n",
       "      <td>5</td>\n",
       "      <td>3</td>\n",
       "      <td>1</td>\n",
       "      <td>4</td>\n",
       "      <td>2</td>\n",
       "      <td>11</td>\n",
       "      <td>9.0</td>\n",
       "      <td>0</td>\n",
       "    </tr>\n",
       "    <tr>\n",
       "      <th>4</th>\n",
       "      <td>4</td>\n",
       "      <td>119299</td>\n",
       "      <td>1</td>\n",
       "      <td>0</td>\n",
       "      <td>61</td>\n",
       "      <td>0</td>\n",
       "      <td>0</td>\n",
       "      <td>214</td>\n",
       "      <td>3</td>\n",
       "      <td>3</td>\n",
       "      <td>...</td>\n",
       "      <td>3</td>\n",
       "      <td>3</td>\n",
       "      <td>4</td>\n",
       "      <td>4</td>\n",
       "      <td>3</td>\n",
       "      <td>3</td>\n",
       "      <td>3</td>\n",
       "      <td>0</td>\n",
       "      <td>0.0</td>\n",
       "      <td>1</td>\n",
       "    </tr>\n",
       "  </tbody>\n",
       "</table>\n",
       "<p>5 rows × 25 columns</p>\n",
       "</div>"
      ],
      "text/plain": [
       "   Unnamed: 0      id  Gender  Customer Type  Age  Type of Travel  Class  \\\n",
       "0           0   70172       1              0   13               1      2   \n",
       "1           1    5047       1              1   25               0      0   \n",
       "2           2  110028       0              0   26               0      0   \n",
       "3           3   24026       0              0   25               0      0   \n",
       "4           4  119299       1              0   61               0      0   \n",
       "\n",
       "   Flight Distance  Inflight wifi service  Departure/Arrival time convenient  \\\n",
       "0              460                      3                                  4   \n",
       "1              235                      3                                  2   \n",
       "2             1142                      2                                  2   \n",
       "3              562                      2                                  5   \n",
       "4              214                      3                                  3   \n",
       "\n",
       "   ...  Inflight entertainment  On-board service  Leg room service  \\\n",
       "0  ...                       5                 4                 3   \n",
       "1  ...                       1                 1                 5   \n",
       "2  ...                       5                 4                 3   \n",
       "3  ...                       2                 2                 5   \n",
       "4  ...                       3                 3                 4   \n",
       "\n",
       "   Baggage handling  Checkin service  Inflight service  Cleanliness  \\\n",
       "0                 4                4                 5            5   \n",
       "1                 3                1                 4            1   \n",
       "2                 4                4                 4            5   \n",
       "3                 3                1                 4            2   \n",
       "4                 4                3                 3            3   \n",
       "\n",
       "   Departure Delay in Minutes  Arrival Delay in Minutes  satisfaction  \n",
       "0                          25                      18.0             0  \n",
       "1                           1                       6.0             0  \n",
       "2                           0                       0.0             1  \n",
       "3                          11                       9.0             0  \n",
       "4                           0                       0.0             1  \n",
       "\n",
       "[5 rows x 25 columns]"
      ]
     },
     "execution_count": 10,
     "metadata": {},
     "output_type": "execute_result"
    }
   ],
   "source": [
    "df['Gender']=le.fit_transform(df['Gender'])\n",
    "df['Customer Type']=le.fit_transform(df['Customer Type'])\n",
    "df['Type of Travel']=le.fit_transform(df['Type of Travel'])\n",
    "df['Class']=le.fit_transform(df['Class'])\n",
    "df['satisfaction']=le.fit_transform(df['satisfaction'])\n",
    "\n",
    "df.head()"
   ]
  },
  {
   "cell_type": "markdown",
   "id": "ab25627a",
   "metadata": {},
   "source": [
    "### Null Values"
   ]
  },
  {
   "cell_type": "code",
   "execution_count": 11,
   "id": "9dfa9ddb",
   "metadata": {},
   "outputs": [
    {
     "data": {
      "text/plain": [
       "Unnamed: 0                             0\n",
       "id                                     0\n",
       "Gender                                 0\n",
       "Customer Type                          0\n",
       "Age                                    0\n",
       "Type of Travel                         0\n",
       "Class                                  0\n",
       "Flight Distance                        0\n",
       "Inflight wifi service                  0\n",
       "Departure/Arrival time convenient      0\n",
       "Ease of Online booking                 0\n",
       "Gate location                          0\n",
       "Food and drink                         0\n",
       "Online boarding                        0\n",
       "Seat comfort                           0\n",
       "Inflight entertainment                 0\n",
       "On-board service                       0\n",
       "Leg room service                       0\n",
       "Baggage handling                       0\n",
       "Checkin service                        0\n",
       "Inflight service                       0\n",
       "Cleanliness                            0\n",
       "Departure Delay in Minutes             0\n",
       "Arrival Delay in Minutes             310\n",
       "satisfaction                           0\n",
       "dtype: int64"
      ]
     },
     "execution_count": 11,
     "metadata": {},
     "output_type": "execute_result"
    }
   ],
   "source": [
    "df.isnull().sum()"
   ]
  },
  {
   "cell_type": "code",
   "execution_count": 12,
   "id": "c43e5476",
   "metadata": {},
   "outputs": [
    {
     "data": {
      "text/html": [
       "<div>\n",
       "<style scoped>\n",
       "    .dataframe tbody tr th:only-of-type {\n",
       "        vertical-align: middle;\n",
       "    }\n",
       "\n",
       "    .dataframe tbody tr th {\n",
       "        vertical-align: top;\n",
       "    }\n",
       "\n",
       "    .dataframe thead th {\n",
       "        text-align: right;\n",
       "    }\n",
       "</style>\n",
       "<table border=\"1\" class=\"dataframe\">\n",
       "  <thead>\n",
       "    <tr style=\"text-align: right;\">\n",
       "      <th></th>\n",
       "      <th>Unnamed: 0</th>\n",
       "      <th>id</th>\n",
       "      <th>Gender</th>\n",
       "      <th>Customer Type</th>\n",
       "      <th>Age</th>\n",
       "      <th>Type of Travel</th>\n",
       "      <th>Class</th>\n",
       "      <th>Flight Distance</th>\n",
       "      <th>Inflight wifi service</th>\n",
       "      <th>Departure/Arrival time convenient</th>\n",
       "      <th>...</th>\n",
       "      <th>Inflight entertainment</th>\n",
       "      <th>On-board service</th>\n",
       "      <th>Leg room service</th>\n",
       "      <th>Baggage handling</th>\n",
       "      <th>Checkin service</th>\n",
       "      <th>Inflight service</th>\n",
       "      <th>Cleanliness</th>\n",
       "      <th>Departure Delay in Minutes</th>\n",
       "      <th>Arrival Delay in Minutes</th>\n",
       "      <th>satisfaction</th>\n",
       "    </tr>\n",
       "  </thead>\n",
       "  <tbody>\n",
       "    <tr>\n",
       "      <th>213</th>\n",
       "      <td>213</td>\n",
       "      <td>49608</td>\n",
       "      <td>0</td>\n",
       "      <td>0</td>\n",
       "      <td>38</td>\n",
       "      <td>0</td>\n",
       "      <td>1</td>\n",
       "      <td>109</td>\n",
       "      <td>5</td>\n",
       "      <td>3</td>\n",
       "      <td>...</td>\n",
       "      <td>5</td>\n",
       "      <td>5</td>\n",
       "      <td>2</td>\n",
       "      <td>4</td>\n",
       "      <td>1</td>\n",
       "      <td>1</td>\n",
       "      <td>5</td>\n",
       "      <td>31</td>\n",
       "      <td>NaN</td>\n",
       "      <td>1</td>\n",
       "    </tr>\n",
       "    <tr>\n",
       "      <th>1124</th>\n",
       "      <td>1124</td>\n",
       "      <td>73442</td>\n",
       "      <td>1</td>\n",
       "      <td>0</td>\n",
       "      <td>53</td>\n",
       "      <td>1</td>\n",
       "      <td>1</td>\n",
       "      <td>1012</td>\n",
       "      <td>3</td>\n",
       "      <td>2</td>\n",
       "      <td>...</td>\n",
       "      <td>4</td>\n",
       "      <td>4</td>\n",
       "      <td>4</td>\n",
       "      <td>4</td>\n",
       "      <td>3</td>\n",
       "      <td>3</td>\n",
       "      <td>4</td>\n",
       "      <td>38</td>\n",
       "      <td>NaN</td>\n",
       "      <td>0</td>\n",
       "    </tr>\n",
       "    <tr>\n",
       "      <th>1529</th>\n",
       "      <td>1529</td>\n",
       "      <td>71178</td>\n",
       "      <td>1</td>\n",
       "      <td>0</td>\n",
       "      <td>39</td>\n",
       "      <td>0</td>\n",
       "      <td>0</td>\n",
       "      <td>733</td>\n",
       "      <td>2</td>\n",
       "      <td>5</td>\n",
       "      <td>...</td>\n",
       "      <td>2</td>\n",
       "      <td>2</td>\n",
       "      <td>2</td>\n",
       "      <td>2</td>\n",
       "      <td>2</td>\n",
       "      <td>2</td>\n",
       "      <td>3</td>\n",
       "      <td>11</td>\n",
       "      <td>NaN</td>\n",
       "      <td>0</td>\n",
       "    </tr>\n",
       "    <tr>\n",
       "      <th>2004</th>\n",
       "      <td>2004</td>\n",
       "      <td>72940</td>\n",
       "      <td>0</td>\n",
       "      <td>1</td>\n",
       "      <td>26</td>\n",
       "      <td>0</td>\n",
       "      <td>0</td>\n",
       "      <td>1035</td>\n",
       "      <td>3</td>\n",
       "      <td>3</td>\n",
       "      <td>...</td>\n",
       "      <td>2</td>\n",
       "      <td>3</td>\n",
       "      <td>3</td>\n",
       "      <td>4</td>\n",
       "      <td>5</td>\n",
       "      <td>5</td>\n",
       "      <td>2</td>\n",
       "      <td>41</td>\n",
       "      <td>NaN</td>\n",
       "      <td>0</td>\n",
       "    </tr>\n",
       "    <tr>\n",
       "      <th>2108</th>\n",
       "      <td>2108</td>\n",
       "      <td>116374</td>\n",
       "      <td>0</td>\n",
       "      <td>0</td>\n",
       "      <td>24</td>\n",
       "      <td>1</td>\n",
       "      <td>1</td>\n",
       "      <td>417</td>\n",
       "      <td>2</td>\n",
       "      <td>1</td>\n",
       "      <td>...</td>\n",
       "      <td>5</td>\n",
       "      <td>1</td>\n",
       "      <td>4</td>\n",
       "      <td>2</td>\n",
       "      <td>1</td>\n",
       "      <td>2</td>\n",
       "      <td>5</td>\n",
       "      <td>1</td>\n",
       "      <td>NaN</td>\n",
       "      <td>0</td>\n",
       "    </tr>\n",
       "    <tr>\n",
       "      <th>...</th>\n",
       "      <td>...</td>\n",
       "      <td>...</td>\n",
       "      <td>...</td>\n",
       "      <td>...</td>\n",
       "      <td>...</td>\n",
       "      <td>...</td>\n",
       "      <td>...</td>\n",
       "      <td>...</td>\n",
       "      <td>...</td>\n",
       "      <td>...</td>\n",
       "      <td>...</td>\n",
       "      <td>...</td>\n",
       "      <td>...</td>\n",
       "      <td>...</td>\n",
       "      <td>...</td>\n",
       "      <td>...</td>\n",
       "      <td>...</td>\n",
       "      <td>...</td>\n",
       "      <td>...</td>\n",
       "      <td>...</td>\n",
       "      <td>...</td>\n",
       "    </tr>\n",
       "    <tr>\n",
       "      <th>102067</th>\n",
       "      <td>102067</td>\n",
       "      <td>36729</td>\n",
       "      <td>1</td>\n",
       "      <td>0</td>\n",
       "      <td>49</td>\n",
       "      <td>1</td>\n",
       "      <td>2</td>\n",
       "      <td>1249</td>\n",
       "      <td>2</td>\n",
       "      <td>5</td>\n",
       "      <td>...</td>\n",
       "      <td>3</td>\n",
       "      <td>4</td>\n",
       "      <td>5</td>\n",
       "      <td>4</td>\n",
       "      <td>3</td>\n",
       "      <td>4</td>\n",
       "      <td>3</td>\n",
       "      <td>230</td>\n",
       "      <td>NaN</td>\n",
       "      <td>0</td>\n",
       "    </tr>\n",
       "    <tr>\n",
       "      <th>102384</th>\n",
       "      <td>102384</td>\n",
       "      <td>71241</td>\n",
       "      <td>1</td>\n",
       "      <td>0</td>\n",
       "      <td>58</td>\n",
       "      <td>0</td>\n",
       "      <td>1</td>\n",
       "      <td>733</td>\n",
       "      <td>3</td>\n",
       "      <td>3</td>\n",
       "      <td>...</td>\n",
       "      <td>3</td>\n",
       "      <td>3</td>\n",
       "      <td>1</td>\n",
       "      <td>2</td>\n",
       "      <td>4</td>\n",
       "      <td>2</td>\n",
       "      <td>3</td>\n",
       "      <td>55</td>\n",
       "      <td>NaN</td>\n",
       "      <td>0</td>\n",
       "    </tr>\n",
       "    <tr>\n",
       "      <th>102552</th>\n",
       "      <td>102552</td>\n",
       "      <td>27684</td>\n",
       "      <td>0</td>\n",
       "      <td>1</td>\n",
       "      <td>29</td>\n",
       "      <td>0</td>\n",
       "      <td>1</td>\n",
       "      <td>1107</td>\n",
       "      <td>2</td>\n",
       "      <td>1</td>\n",
       "      <td>...</td>\n",
       "      <td>5</td>\n",
       "      <td>4</td>\n",
       "      <td>1</td>\n",
       "      <td>5</td>\n",
       "      <td>5</td>\n",
       "      <td>3</td>\n",
       "      <td>5</td>\n",
       "      <td>0</td>\n",
       "      <td>NaN</td>\n",
       "      <td>0</td>\n",
       "    </tr>\n",
       "    <tr>\n",
       "      <th>102960</th>\n",
       "      <td>102960</td>\n",
       "      <td>36787</td>\n",
       "      <td>1</td>\n",
       "      <td>0</td>\n",
       "      <td>58</td>\n",
       "      <td>0</td>\n",
       "      <td>1</td>\n",
       "      <td>1088</td>\n",
       "      <td>4</td>\n",
       "      <td>4</td>\n",
       "      <td>...</td>\n",
       "      <td>5</td>\n",
       "      <td>1</td>\n",
       "      <td>5</td>\n",
       "      <td>5</td>\n",
       "      <td>5</td>\n",
       "      <td>3</td>\n",
       "      <td>5</td>\n",
       "      <td>0</td>\n",
       "      <td>NaN</td>\n",
       "      <td>1</td>\n",
       "    </tr>\n",
       "    <tr>\n",
       "      <th>103540</th>\n",
       "      <td>103540</td>\n",
       "      <td>45022</td>\n",
       "      <td>0</td>\n",
       "      <td>0</td>\n",
       "      <td>33</td>\n",
       "      <td>1</td>\n",
       "      <td>1</td>\n",
       "      <td>359</td>\n",
       "      <td>4</td>\n",
       "      <td>4</td>\n",
       "      <td>...</td>\n",
       "      <td>4</td>\n",
       "      <td>3</td>\n",
       "      <td>2</td>\n",
       "      <td>5</td>\n",
       "      <td>3</td>\n",
       "      <td>5</td>\n",
       "      <td>4</td>\n",
       "      <td>42</td>\n",
       "      <td>NaN</td>\n",
       "      <td>0</td>\n",
       "    </tr>\n",
       "  </tbody>\n",
       "</table>\n",
       "<p>310 rows × 25 columns</p>\n",
       "</div>"
      ],
      "text/plain": [
       "        Unnamed: 0      id  Gender  Customer Type  Age  Type of Travel  Class  \\\n",
       "213            213   49608       0              0   38               0      1   \n",
       "1124          1124   73442       1              0   53               1      1   \n",
       "1529          1529   71178       1              0   39               0      0   \n",
       "2004          2004   72940       0              1   26               0      0   \n",
       "2108          2108  116374       0              0   24               1      1   \n",
       "...            ...     ...     ...            ...  ...             ...    ...   \n",
       "102067      102067   36729       1              0   49               1      2   \n",
       "102384      102384   71241       1              0   58               0      1   \n",
       "102552      102552   27684       0              1   29               0      1   \n",
       "102960      102960   36787       1              0   58               0      1   \n",
       "103540      103540   45022       0              0   33               1      1   \n",
       "\n",
       "        Flight Distance  Inflight wifi service  \\\n",
       "213                 109                      5   \n",
       "1124               1012                      3   \n",
       "1529                733                      2   \n",
       "2004               1035                      3   \n",
       "2108                417                      2   \n",
       "...                 ...                    ...   \n",
       "102067             1249                      2   \n",
       "102384              733                      3   \n",
       "102552             1107                      2   \n",
       "102960             1088                      4   \n",
       "103540              359                      4   \n",
       "\n",
       "        Departure/Arrival time convenient  ...  Inflight entertainment  \\\n",
       "213                                     3  ...                       5   \n",
       "1124                                    2  ...                       4   \n",
       "1529                                    5  ...                       2   \n",
       "2004                                    3  ...                       2   \n",
       "2108                                    1  ...                       5   \n",
       "...                                   ...  ...                     ...   \n",
       "102067                                  5  ...                       3   \n",
       "102384                                  3  ...                       3   \n",
       "102552                                  1  ...                       5   \n",
       "102960                                  4  ...                       5   \n",
       "103540                                  4  ...                       4   \n",
       "\n",
       "        On-board service  Leg room service  Baggage handling  Checkin service  \\\n",
       "213                    5                 2                 4                1   \n",
       "1124                   4                 4                 4                3   \n",
       "1529                   2                 2                 2                2   \n",
       "2004                   3                 3                 4                5   \n",
       "2108                   1                 4                 2                1   \n",
       "...                  ...               ...               ...              ...   \n",
       "102067                 4                 5                 4                3   \n",
       "102384                 3                 1                 2                4   \n",
       "102552                 4                 1                 5                5   \n",
       "102960                 1                 5                 5                5   \n",
       "103540                 3                 2                 5                3   \n",
       "\n",
       "        Inflight service  Cleanliness  Departure Delay in Minutes  \\\n",
       "213                    1            5                          31   \n",
       "1124                   3            4                          38   \n",
       "1529                   2            3                          11   \n",
       "2004                   5            2                          41   \n",
       "2108                   2            5                           1   \n",
       "...                  ...          ...                         ...   \n",
       "102067                 4            3                         230   \n",
       "102384                 2            3                          55   \n",
       "102552                 3            5                           0   \n",
       "102960                 3            5                           0   \n",
       "103540                 5            4                          42   \n",
       "\n",
       "        Arrival Delay in Minutes  satisfaction  \n",
       "213                          NaN             1  \n",
       "1124                         NaN             0  \n",
       "1529                         NaN             0  \n",
       "2004                         NaN             0  \n",
       "2108                         NaN             0  \n",
       "...                          ...           ...  \n",
       "102067                       NaN             0  \n",
       "102384                       NaN             0  \n",
       "102552                       NaN             0  \n",
       "102960                       NaN             1  \n",
       "103540                       NaN             0  \n",
       "\n",
       "[310 rows x 25 columns]"
      ]
     },
     "execution_count": 12,
     "metadata": {},
     "output_type": "execute_result"
    }
   ],
   "source": [
    "df[df['Arrival Delay in Minutes'].isnull()]"
   ]
  },
  {
   "cell_type": "code",
   "execution_count": 13,
   "id": "5ce2b227",
   "metadata": {},
   "outputs": [
    {
     "data": {
      "text/plain": [
       "(103594, 25)"
      ]
     },
     "execution_count": 13,
     "metadata": {},
     "output_type": "execute_result"
    }
   ],
   "source": [
    "df.dropna(inplace=True)\n",
    "df.shape"
   ]
  },
  {
   "cell_type": "code",
   "execution_count": 14,
   "id": "f34ca45e",
   "metadata": {},
   "outputs": [
    {
     "data": {
      "text/plain": [
       "<AxesSubplot:xlabel='Arrival Delay in Minutes', ylabel='Density'>"
      ]
     },
     "execution_count": 14,
     "metadata": {},
     "output_type": "execute_result"
    },
    {
     "data": {
      "image/png": "[encoded data removed]",
      "text/plain": [
       "<Figure size 432x288 with 1 Axes>"
      ]
     },
     "metadata": {
      "needs_background": "light"
     },
     "output_type": "display_data"
    }
   ],
   "source": [
    "sns.distplot(df['Arrival Delay in Minutes'])"
   ]
  },
  {
   "cell_type": "markdown",
   "id": "fdc5e198",
   "metadata": {},
   "source": [
    "## Data Preparation"
   ]
  },
  {
   "cell_type": "code",
   "execution_count": 46,
   "id": "73c1ba82",
   "metadata": {},
   "outputs": [],
   "source": [
    "x=df.drop(['satisfaction','Unnamed: 0','id'],1)\n",
    "y=df.satisfaction\n",
    "xtrain,xtest,ytrain,ytest=train_test_split(x,y,test_size=0.2,random_state=10)"
   ]
  },
  {
   "cell_type": "code",
   "execution_count": 50,
   "id": "cb4e3a86",
   "metadata": {},
   "outputs": [],
   "source": [
    "s=StandardScaler().fit(xtrain)\n",
    "\n",
    "xstrain=s.fit_transform(xtrain)\n",
    "xstest=s.transform(xtest)"
   ]
  },
  {
   "cell_type": "code",
   "execution_count": 48,
   "id": "64c05586",
   "metadata": {},
   "outputs": [],
   "source": [
    "xstrain=sm.add_constant(xstrain)"
   ]
  },
  {
   "cell_type": "code",
   "execution_count": 52,
   "id": "55e5c3df",
   "metadata": {},
   "outputs": [
    {
     "data": {
      "text/plain": [
       "array([[ 1.01427993, -0.47438099,  0.97195618, ...,  1.3042827 ,\n",
       "        -0.38856674, -0.39391025],\n",
       "       [-0.98592112, -0.47438099, -1.74390777, ...,  1.3042827 ,\n",
       "        -0.36222027, -0.39391025],\n",
       "       [-0.98592112, -0.47438099, -1.14774251, ...,  0.54257491,\n",
       "        -0.38856674, -0.39391025],\n",
       "       ...,\n",
       "       [ 1.01427993, -0.47438099,  1.43564027, ..., -0.21913288,\n",
       "        -0.38856674, -0.39391025],\n",
       "       [ 1.01427993, -0.47438099,  1.30315911, ..., -0.21913288,\n",
       "        -0.38856674, -0.39391025],\n",
       "       [-0.98592112, -0.47438099, -0.61781784, ...,  1.3042827 ,\n",
       "        -0.38856674, -0.39391025]])"
      ]
     },
     "execution_count": 52,
     "metadata": {},
     "output_type": "execute_result"
    }
   ],
   "source": [
    "xstrain"
   ]
  },
  {
   "cell_type": "markdown",
   "id": "63f2a342",
   "metadata": {},
   "source": [
    "## Base Model"
   ]
  },
  {
   "cell_type": "markdown",
   "id": "fdc3c58e",
   "metadata": {},
   "source": [
    "### Logistic Regression"
   ]
  },
  {
   "cell_type": "code",
   "execution_count": 54,
   "id": "8ea4e784",
   "metadata": {},
   "outputs": [
    {
     "name": "stdout",
     "output_type": "stream",
     "text": [
      "Optimization terminated successfully.\n",
      "         Current function value: 0.348145\n",
      "         Iterations 7\n"
     ]
    }
   ],
   "source": [
    "base_model=sm.Logit(ytrain,xstrain).fit()"
   ]
  },
  {
   "cell_type": "code",
   "execution_count": 55,
   "id": "7b29c18f",
   "metadata": {},
   "outputs": [
    {
     "name": "stdout",
     "output_type": "stream",
     "text": [
      "                           Logit Regression Results                           \n",
      "==============================================================================\n",
      "Dep. Variable:           satisfaction   No. Observations:                82875\n",
      "Model:                          Logit   Df Residuals:                    82853\n",
      "Method:                           MLE   Df Model:                           21\n",
      "Date:                Thu, 30 Jun 2022   Pseudo R-squ.:                  0.4911\n",
      "Time:                        14:56:37   Log-Likelihood:                -28853.\n",
      "converged:                       True   LL-Null:                       -56698.\n",
      "Covariance Type:            nonrobust   LLR p-value:                     0.000\n",
      "==============================================================================\n",
      "                 coef    std err          z      P>|z|      [0.025      0.975]\n",
      "------------------------------------------------------------------------------\n",
      "x1             0.0277      0.011      2.609      0.009       0.007       0.049\n",
      "x2            -0.8301      0.012    -67.294      0.000      -0.854      -0.806\n",
      "x3            -0.1235      0.011    -10.882      0.000      -0.146      -0.101\n",
      "x4            -1.2747      0.015    -87.501      0.000      -1.303      -1.246\n",
      "x5            -0.3266      0.013    -25.733      0.000      -0.352      -0.302\n",
      "x6             0.0167      0.013      1.301      0.193      -0.008       0.042\n",
      "x7             0.4621      0.017     26.799      0.000       0.428       0.496\n",
      "x8            -0.1610      0.013    -12.247      0.000      -0.187      -0.135\n",
      "x9            -0.2850      0.017    -16.354      0.000      -0.319      -0.251\n",
      "x10            0.0855      0.012      6.934      0.000       0.061       0.110\n",
      "x11           -0.0682      0.016     -4.246      0.000      -0.100      -0.037\n",
      "x12            0.8390      0.015     54.751      0.000       0.809       0.869\n",
      "x13            0.1015      0.016      6.357      0.000       0.070       0.133\n",
      "x14            0.1301      0.021      6.313      0.000       0.090       0.171\n",
      "x15            0.3758      0.014     27.124      0.000       0.349       0.403\n",
      "x16            0.3775      0.012     31.810      0.000       0.354       0.401\n",
      "x17            0.1720      0.014     11.876      0.000       0.144       0.200\n",
      "x18            0.4076      0.012     34.536      0.000       0.385       0.431\n",
      "x19            0.1492      0.015      9.848      0.000       0.120       0.179\n",
      "x20            0.2820      0.018     15.673      0.000       0.247       0.317\n",
      "x21            0.1593      0.041      3.926      0.000       0.080       0.239\n",
      "x22           -0.3474      0.041     -8.544      0.000      -0.427      -0.268\n",
      "==============================================================================\n"
     ]
    }
   ],
   "source": [
    "print(base_model.summary())"
   ]
  },
  {
   "cell_type": "code",
   "execution_count": 33,
   "id": "57fa99af",
   "metadata": {},
   "outputs": [],
   "source": [
    "from sklearn.metrics import classification_report"
   ]
  },
  {
   "cell_type": "code",
   "execution_count": 56,
   "id": "32ce4393",
   "metadata": {},
   "outputs": [],
   "source": [
    "def cfm(model):\n",
    "    ypred=model.predict(xstest)\n",
    "    ypred=[1 if i>=0.5 else 0 for i in ypred]\n",
    "    ypred1=model.predict(xstrain)\n",
    "    ypred1=[1 if i>=0.5 else 0 for i in ypred1]    \n",
    "    print('TEST')\n",
    "    print(classification_report(ytest,ypred))\n",
    "    print()\n",
    "    print('TRAIN')\n",
    "    print(classification_report(ytrain,ypred1))    "
   ]
  },
  {
   "cell_type": "code",
   "execution_count": 42,
   "id": "50245a60",
   "metadata": {},
   "outputs": [
    {
     "data": {
      "text/plain": [
       "(20719, 24)"
      ]
     },
     "execution_count": 42,
     "metadata": {},
     "output_type": "execute_result"
    }
   ],
   "source": [
    "xstest.shape"
   ]
  },
  {
   "cell_type": "code",
   "execution_count": 57,
   "id": "003b2344",
   "metadata": {},
   "outputs": [
    {
     "name": "stdout",
     "output_type": "stream",
     "text": [
      "TEST\n",
      "              precision    recall  f1-score   support\n",
      "\n",
      "           0       0.89      0.86      0.87     11707\n",
      "           1       0.82      0.87      0.84      9012\n",
      "\n",
      "    accuracy                           0.86     20719\n",
      "   macro avg       0.86      0.86      0.86     20719\n",
      "weighted avg       0.86      0.86      0.86     20719\n",
      "\n",
      "\n",
      "TRAIN\n",
      "              precision    recall  f1-score   support\n",
      "\n",
      "           0       0.89      0.85      0.87     46990\n",
      "           1       0.82      0.87      0.84     35885\n",
      "\n",
      "    accuracy                           0.86     82875\n",
      "   macro avg       0.86      0.86      0.86     82875\n",
      "weighted avg       0.86      0.86      0.86     82875\n",
      "\n"
     ]
    }
   ],
   "source": [
    "cfm(base_model)"
   ]
  },
  {
   "cell_type": "code",
   "execution_count": null,
   "id": "90503c22",
   "metadata": {},
   "outputs": [],
   "source": [
    "ypredt=logreg.predict(xtrain)\n",
    "fpr,tpr,threshold=roc_curve(ytrain,ypredt)\n",
    "plt.plot(fpr,tpr)\n",
    "plt.plot([0,1],[0,1],'r--')\n",
    "roc_auc_score(ytrain,ypredt)"
   ]
  },
  {
   "cell_type": "markdown",
   "id": "952688eb",
   "metadata": {},
   "source": [
    "### Random Forest"
   ]
  },
  {
   "cell_type": "code",
   "execution_count": 18,
   "id": "5572d497",
   "metadata": {},
   "outputs": [],
   "source": [
    "rf=RandomForestClassifier()"
   ]
  },
  {
   "cell_type": "code",
   "execution_count": 19,
   "id": "5b5cab19",
   "metadata": {},
   "outputs": [
    {
     "data": {
      "text/plain": [
       "RandomForestClassifier()"
      ]
     },
     "execution_count": 19,
     "metadata": {},
     "output_type": "execute_result"
    }
   ],
   "source": [
    "rf.fit(xstrain,ytrain)"
   ]
  },
  {
   "cell_type": "code",
   "execution_count": 20,
   "id": "adeaa988",
   "metadata": {},
   "outputs": [],
   "source": [
    "ypred=rf.predict(xstrain)"
   ]
  },
  {
   "cell_type": "code",
   "execution_count": 21,
   "id": "5ac82765",
   "metadata": {},
   "outputs": [
    {
     "data": {
      "text/plain": [
       "1.0"
      ]
     },
     "execution_count": 21,
     "metadata": {},
     "output_type": "execute_result"
    }
   ],
   "source": [
    "accuracy_score(ypred,ytrain)"
   ]
  },
  {
   "cell_type": "code",
   "execution_count": 22,
   "id": "7093b552",
   "metadata": {},
   "outputs": [
    {
     "data": {
      "text/plain": [
       "array([[46990,     0],\n",
       "       [    0, 35885]], dtype=int64)"
      ]
     },
     "execution_count": 22,
     "metadata": {},
     "output_type": "execute_result"
    }
   ],
   "source": [
    "cm=confusion_matrix(ypred,ytrain)\n",
    "cm"
   ]
  },
  {
   "cell_type": "markdown",
   "id": "5f7a3778",
   "metadata": {},
   "source": [
    "The Model seems overfitted"
   ]
  },
  {
   "cell_type": "markdown",
   "id": "2b1dfef4",
   "metadata": {},
   "source": [
    "### KMeans"
   ]
  },
  {
   "cell_type": "code",
   "execution_count": 23,
   "id": "235ec9e7",
   "metadata": {},
   "outputs": [],
   "source": [
    "from sklearn.cluster import KMeans"
   ]
  },
  {
   "cell_type": "code",
   "execution_count": 24,
   "id": "f69e25fe",
   "metadata": {},
   "outputs": [],
   "source": [
    "km=KMeans(n_clusters=2)"
   ]
  },
  {
   "cell_type": "code",
   "execution_count": 25,
   "id": "c4660849",
   "metadata": {},
   "outputs": [],
   "source": [
    "ypred=km.fit_predict(xstrain)"
   ]
  },
  {
   "cell_type": "code",
   "execution_count": 26,
   "id": "599051bf",
   "metadata": {},
   "outputs": [
    {
     "data": {
      "text/plain": [
       "array([0, 0, 0, ..., 1, 0, 0])"
      ]
     },
     "execution_count": 26,
     "metadata": {},
     "output_type": "execute_result"
    }
   ],
   "source": [
    "ypred"
   ]
  },
  {
   "cell_type": "code",
   "execution_count": 27,
   "id": "47876f77",
   "metadata": {},
   "outputs": [
    {
     "data": {
      "text/plain": [
       "0.2399396681749623"
      ]
     },
     "execution_count": 27,
     "metadata": {},
     "output_type": "execute_result"
    }
   ],
   "source": [
    "accuracy_score(ypred,ytrain)"
   ]
  },
  {
   "cell_type": "code",
   "execution_count": 28,
   "id": "99e60f5a",
   "metadata": {},
   "outputs": [],
   "source": [
    "cm=confusion_matrix(ypred,ytrain)"
   ]
  },
  {
   "cell_type": "code",
   "execution_count": 29,
   "id": "3a12a445",
   "metadata": {},
   "outputs": [
    {
     "data": {
      "text/plain": [
       "array([[13535, 29535],\n",
       "       [33455,  6350]], dtype=int64)"
      ]
     },
     "execution_count": 29,
     "metadata": {},
     "output_type": "execute_result"
    }
   ],
   "source": [
    "cm"
   ]
  },
  {
   "cell_type": "markdown",
   "id": "7bd5fde5",
   "metadata": {},
   "source": [
    "## Improvising the Base Model"
   ]
  },
  {
   "cell_type": "code",
   "execution_count": 58,
   "id": "434b19e0",
   "metadata": {},
   "outputs": [],
   "source": [
    "from xgboost import XGBClassifier\n",
    "from sklearn.tree import DecisionTreeClassifier\n",
    "from sklearn.ensemble import RandomForestClassifier\n",
    "from sklearn.neighbors import KNeighborsClassifier\n",
    "from sklearn.ensemble import AdaBoostClassifier,GradientBoostingClassifier"
   ]
  },
  {
   "cell_type": "code",
   "execution_count": 61,
   "id": "dc385152",
   "metadata": {
    "scrolled": false
   },
   "outputs": [
    {
     "name": "stdout",
     "output_type": "stream",
     "text": [
      "KNEIGHBORSCLASSIFIER()\n",
      "TEST\n",
      "              precision    recall  f1-score   support\n",
      "\n",
      "           0       0.57      1.00      0.72     11707\n",
      "           1       0.00      0.00      0.00      9012\n",
      "\n",
      "    accuracy                           0.57     20719\n",
      "   macro avg       0.28      0.50      0.36     20719\n",
      "weighted avg       0.32      0.57      0.41     20719\n",
      "\n",
      "\n",
      "TRAIN\n",
      "              precision    recall  f1-score   support\n",
      "\n",
      "           0       0.57      1.00      0.72     46990\n",
      "           1       0.00      0.00      0.00     35885\n",
      "\n",
      "    accuracy                           0.57     82875\n",
      "   macro avg       0.28      0.50      0.36     82875\n",
      "weighted avg       0.32      0.57      0.41     82875\n",
      "\n",
      "============================================================\n",
      "\n",
      "DECISIONTREECLASSIFIER()\n",
      "TEST\n",
      "              precision    recall  f1-score   support\n",
      "\n",
      "           0       0.58      0.87      0.70     11707\n",
      "           1       0.51      0.18      0.26      9012\n",
      "\n",
      "    accuracy                           0.57     20719\n",
      "   macro avg       0.55      0.52      0.48     20719\n",
      "weighted avg       0.55      0.57      0.51     20719\n",
      "\n",
      "\n",
      "TRAIN\n",
      "              precision    recall  f1-score   support\n",
      "\n",
      "           0       0.58      0.87      0.70     46990\n",
      "           1       0.51      0.18      0.26     35885\n",
      "\n",
      "    accuracy                           0.57     82875\n",
      "   macro avg       0.55      0.52      0.48     82875\n",
      "weighted avg       0.55      0.57      0.51     82875\n",
      "\n",
      "============================================================\n",
      "\n",
      "RANDOMFORESTCLASSIFIER()\n",
      "TEST\n",
      "              precision    recall  f1-score   support\n",
      "\n",
      "           0       0.27      0.15      0.19     11707\n",
      "           1       0.30      0.48      0.37      9012\n",
      "\n",
      "    accuracy                           0.29     20719\n",
      "   macro avg       0.29      0.32      0.28     20719\n",
      "weighted avg       0.29      0.29      0.27     20719\n",
      "\n",
      "\n",
      "TRAIN\n",
      "              precision    recall  f1-score   support\n",
      "\n",
      "           0       0.28      0.16      0.20     46990\n",
      "           1       0.30      0.48      0.37     35885\n",
      "\n",
      "    accuracy                           0.30     82875\n",
      "   macro avg       0.29      0.32      0.29     82875\n",
      "weighted avg       0.29      0.30      0.28     82875\n",
      "\n",
      "============================================================\n",
      "\n",
      "ADABOOSTCLASSIFIER()\n",
      "TEST\n",
      "              precision    recall  f1-score   support\n",
      "\n",
      "           0       0.58      0.87      0.70     11707\n",
      "           1       0.51      0.18      0.26      9012\n",
      "\n",
      "    accuracy                           0.57     20719\n",
      "   macro avg       0.55      0.52      0.48     20719\n",
      "weighted avg       0.55      0.57      0.51     20719\n",
      "\n",
      "\n",
      "TRAIN\n",
      "              precision    recall  f1-score   support\n",
      "\n",
      "           0       0.58      0.87      0.70     46990\n",
      "           1       0.51      0.18      0.26     35885\n",
      "\n",
      "    accuracy                           0.57     82875\n",
      "   macro avg       0.55      0.52      0.48     82875\n",
      "weighted avg       0.55      0.57      0.51     82875\n",
      "\n",
      "============================================================\n",
      "\n",
      "GRADIENTBOOSTINGCLASSIFIER()\n",
      "TEST\n",
      "              precision    recall  f1-score   support\n",
      "\n",
      "           0       0.36      0.25      0.29     11707\n",
      "           1       0.30      0.41      0.35      9012\n",
      "\n",
      "    accuracy                           0.32     20719\n",
      "   macro avg       0.33      0.33      0.32     20719\n",
      "weighted avg       0.33      0.32      0.32     20719\n",
      "\n",
      "\n",
      "TRAIN\n",
      "              precision    recall  f1-score   support\n",
      "\n",
      "           0       0.37      0.26      0.31     46990\n",
      "           1       0.30      0.42      0.35     35885\n",
      "\n",
      "    accuracy                           0.33     82875\n",
      "   macro avg       0.34      0.34      0.33     82875\n",
      "weighted avg       0.34      0.33      0.33     82875\n",
      "\n",
      "============================================================\n",
      "\n",
      "XGBCLASSIFIER(BASE_SCORE=0.5, BOOSTER='GBTREE', CALLBACKS=NONE,\n",
      "              COLSAMPLE_BYLEVEL=1, COLSAMPLE_BYNODE=1, COLSAMPLE_BYTREE=1,\n",
      "              EARLY_STOPPING_ROUNDS=NONE, ENABLE_CATEGORICAL=FALSE,\n",
      "              EVAL_METRIC=NONE, GAMMA=0, GPU_ID=-1, GROW_POLICY='DEPTHWISE',\n",
      "              IMPORTANCE_TYPE=NONE, INTERACTION_CONSTRAINTS='',\n",
      "              LEARNING_RATE=0.300000012, MAX_BIN=256, MAX_CAT_TO_ONEHOT=4,\n",
      "              MAX_DELTA_STEP=0, MAX_DEPTH=6, MAX_LEAVES=0, MIN_CHILD_WEIGHT=1,\n",
      "              MISSING=NAN, MONOTONE_CONSTRAINTS='()', N_ESTIMATORS=100,\n",
      "              N_JOBS=0, NUM_PARALLEL_TREE=1, PREDICTOR='AUTO', RANDOM_STATE=0,\n",
      "              REG_ALPHA=0, REG_LAMBDA=1, ...)\n",
      "TEST\n",
      "              precision    recall  f1-score   support\n",
      "\n",
      "           0       0.38      0.26      0.31     11707\n",
      "           1       0.32      0.46      0.38      9012\n",
      "\n",
      "    accuracy                           0.34     20719\n",
      "   macro avg       0.35      0.36      0.34     20719\n",
      "weighted avg       0.35      0.34      0.34     20719\n",
      "\n",
      "\n",
      "TRAIN\n",
      "              precision    recall  f1-score   support\n",
      "\n",
      "           0       0.39      0.26      0.31     46990\n",
      "           1       0.32      0.46      0.38     35885\n",
      "\n",
      "    accuracy                           0.35     82875\n",
      "   macro avg       0.35      0.36      0.34     82875\n",
      "weighted avg       0.36      0.35      0.34     82875\n",
      "\n",
      "============================================================\n",
      "\n"
     ]
    }
   ],
   "source": [
    "algo=[KNeighborsClassifier(),DecisionTreeClassifier(),RandomForestClassifier(),AdaBoostClassifier(),GradientBoostingClassifier(),XGBClassifier()]\n",
    "for i in algo:\n",
    "    i.fit(xtrain,ytrain)\n",
    "    print(str(i).upper())\n",
    "    cfm(i)\n",
    "    print('='*60)\n",
    "    print()"
   ]
  },
  {
   "cell_type": "markdown",
   "id": "5404be46",
   "metadata": {},
   "source": [
    "We procede with Decision Tree Classifier\n",
    "\n",
    "### Improvising the Decision Tree Classifier"
   ]
  },
  {
   "cell_type": "code",
   "execution_count": 69,
   "id": "fbbeaabb",
   "metadata": {},
   "outputs": [
    {
     "data": {
      "text/plain": [
       "GridSearchCV(cv=5, estimator=DecisionTreeClassifier(),\n",
       "             param_grid={'criterion': ['gini', 'entropy'],\n",
       "                         'max_depth': [4, 5, 6, 7, 8, 9, 10, 11, 12, 15, 20, 30,\n",
       "                                       40, 50, 70, 90, 120, 150],\n",
       "                         'min_samples_leaf': [5, 8, 10, 15, 20]})"
      ]
     },
     "execution_count": 69,
     "metadata": {},
     "output_type": "execute_result"
    }
   ],
   "source": [
    "from sklearn.model_selection import GridSearchCV\n",
    "\n",
    "tree_para = {'criterion':['gini','entropy'],'max_depth':[4,5,6,7,8,9,10,11,12,15,20,30,40,50,70,90,120,150],\n",
    "            'min_samples_leaf': [5,8,10,15,20]}\n",
    "model = GridSearchCV(DecisionTreeClassifier(), tree_para, cv=5)\n",
    "model.fit(xstrain,ytrain)"
   ]
  },
  {
   "cell_type": "code",
   "execution_count": 70,
   "id": "75771012",
   "metadata": {},
   "outputs": [
    {
     "data": {
      "text/plain": [
       "{'criterion': 'gini', 'max_depth': 50, 'min_samples_leaf': 15}"
      ]
     },
     "execution_count": 70,
     "metadata": {},
     "output_type": "execute_result"
    }
   ],
   "source": [
    "model.best_params_"
   ]
  },
  {
   "cell_type": "code",
   "execution_count": 73,
   "id": "2cb2c34f",
   "metadata": {},
   "outputs": [
    {
     "name": "stdout",
     "output_type": "stream",
     "text": [
      "TEST\n",
      "              precision    recall  f1-score   support\n",
      "\n",
      "           0       0.95      0.97      0.96     11707\n",
      "           1       0.95      0.93      0.94      9012\n",
      "\n",
      "    accuracy                           0.95     20719\n",
      "   macro avg       0.95      0.95      0.95     20719\n",
      "weighted avg       0.95      0.95      0.95     20719\n",
      "\n",
      "\n",
      "TRAIN\n",
      "              precision    recall  f1-score   support\n",
      "\n",
      "           0       0.96      0.98      0.97     46990\n",
      "           1       0.97      0.95      0.96     35885\n",
      "\n",
      "    accuracy                           0.96     82875\n",
      "   macro avg       0.97      0.96      0.96     82875\n",
      "weighted avg       0.96      0.96      0.96     82875\n",
      "\n"
     ]
    }
   ],
   "source": [
    "DT=DecisionTreeClassifier(criterion= 'gini', max_depth= 50, min_samples_leaf=15)\n",
    "final_model=DT.fit(xstrain,ytrain)\n",
    "cfm(final_model)"
   ]
  },
  {
   "cell_type": "markdown",
   "id": "9a2b1e19",
   "metadata": {},
   "source": [
    "We get excellent resunts wit 95% accuracy on test data"
   ]
  },
  {
   "cell_type": "markdown",
   "id": "a93100f7",
   "metadata": {},
   "source": [
    "## Feature Importance"
   ]
  },
  {
   "cell_type": "code",
   "execution_count": 74,
   "id": "ed9e3d1e",
   "metadata": {},
   "outputs": [],
   "source": [
    "imp_features = pd.DataFrame({'Features':xtrain.columns,\n",
    "                            'Importances':final_model.feature_importances_})\n",
    "imp_features = imp_features.sort_values(by = 'Importances',ascending = False).reset_index(drop = True)"
   ]
  },
  {
   "cell_type": "code",
   "execution_count": 75,
   "id": "d9d26423",
   "metadata": {},
   "outputs": [
    {
     "data": {
      "text/plain": [
       "<AxesSubplot:xlabel='Importances', ylabel='Features'>"
      ]
     },
     "execution_count": 75,
     "metadata": {},
     "output_type": "execute_result"
    },
    {
     "data": {
      "image/png": "[encoded data removed]",
      "text/plain": [
       "<Figure size 432x288 with 1 Axes>"
      ]
     },
     "metadata": {
      "needs_background": "light"
     },
     "output_type": "display_data"
    }
   ],
   "source": [
    "sns.barplot(data = imp_features,x = 'Importances',y ='Features')"
   ]
  },
  {
   "cell_type": "markdown",
   "id": "a24877b9",
   "metadata": {},
   "source": [
    "The above are the important features"
   ]
  },
  {
   "cell_type": "code",
   "execution_count": null,
   "id": "9fc464ed",
   "metadata": {},
   "outputs": [],
   "source": []
  }
 ],
 "metadata": {
  "kernelspec": {
   "display_name": "Python 3 (ipykernel)",
   "language": "python",
   "name": "python3"
  },
  "language_info": {
   "codemirror_mode": {
    "name": "ipython",
    "version": 3
   },
   "file_extension": ".py",
   "mimetype": "text/x-python",
   "name": "python",
   "nbconvert_exporter": "python",
   "pygments_lexer": "ipython3",
   "version": "3.9.7"
  }
 },
 "nbformat": 4,
 "nbformat_minor": 5
}
