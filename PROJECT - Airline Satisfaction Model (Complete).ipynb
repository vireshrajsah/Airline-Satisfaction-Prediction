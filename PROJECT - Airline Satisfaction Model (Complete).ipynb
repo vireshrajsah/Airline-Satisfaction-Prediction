{
 "cells": [
  {
   "cell_type": "markdown",
   "id": "7a5e1722",
   "metadata": {},
   "source": [
    "<table align=\"center\" width=100%>\n",
    "    <tr>\n",
    "        <td width=\"15%\">\n",
    "            <img src=\"imagepassengersatisfaction.png\">\n",
    "        </td>\n",
    "        <td>\n",
    "            <div align=\"center\">\n",
    "                <font color=\"#21618C\" size=24px>\n",
    "                   <b>CAPSTONE PROJECT\n",
    "                   </b>\n",
    "                </font>\n",
    "            </div>\n",
    "        </td>\n",
    "    </tr>\n",
    "</table>"
   ]
  },
  {
   "cell_type": "markdown",
   "id": "58896c59",
   "metadata": {},
   "source": [
    "## PROBLEM STATEMENT\n",
    "Predicting customer satisfaction based on their holistic experience while traveling by air.\n",
    "\n",
    "## PROJECT OUTCOME\n",
    "For this project, we intend to explore survey results provided by passengers (anonymized), and understand what causes them to be satisfied or dissatisfied. Ultimately, we hope our findings enable us to make\n",
    "recommendations on how to address the factors that cause dissatisfaction.\n",
    "\n",
    "## BUSINESS IMPACT\n",
    "Airline businesses around the world are decimated by Covid-19 as most international air travel \n",
    "has been grounded. In fact, some airlines such as Thai Airways have already filed for bankruptcy. \n",
    "Nonetheless, once the storm is over, demand for air travel is expected to surge as people rush \n",
    "back for overseas holidays. What can airlines prepare to give themselves a competitive edge \n",
    "when the crowd finally arrives?\n",
    "Customer satisfaction is always top of mind for airlines. Unhappy or disengaged customers \n",
    "naturally mean fewer passengers and less revenue. It’s important that customers have an \n",
    "excellent experience every time they travel. On-time flights, good in-flight entertainment, \n",
    "more (and better) snacks, and more legroom might be the obvious contributors to a good \n",
    "experience and more loyalty.\n",
    "While we might hear about those aspects the most, the customer experience is not about just \n",
    "the flight itself. It’s everything from purchasing the ticket on the company’s website or mobile \n",
    "app to checking bags in at the airport or via a mobile app to waiting in the terminal. This \n",
    "mindset has been, and continues to be, adapted to the post-security, onboard, and post-flight \n",
    "experience. So how can we determine which of these factors contribute to the satisfaction of \n",
    "the customer?\n",
    "To answer this, we intend on building a classification problem to predict the customer \n",
    "satisfactio\n",
    "\n"
   ]
  },
  {
   "cell_type": "markdown",
   "id": "4e53f9e5",
   "metadata": {},
   "source": [
    "## DATA DEFINITION\n",
    "\n",
    "**Unnamed:0**: Index value\n",
    "\n",
    "**Id numeric**: Unique identifier\n",
    "\n",
    "**Gender object**:Gender of the passengers (Female, Male)\n",
    "\n",
    "**Customer Type**: The customer type (Loyal customer, disloyal customer)\n",
    "\n",
    "**Age**: The actual age of the passengers\n",
    "\n",
    "**Type of Travel**:object Purpose of the flight of the passengers (Personal Travel, Business Travel)\n",
    "\n",
    "**Class**:Travel class in the plane of the passengers (Business, Eco, Eco Plus)\n",
    "\n",
    "**Flight distance**:The flight distance of this journey\n",
    "\n",
    "**Inflight wifi service**: Satisfaction level of the inflight wifi service (0:Not Applicable;1-5)\n",
    "\n",
    "**Departure/Arrival time convenient**:Departure/Arrival time convenient\n",
    "\n",
    "**Ease of Online booking**:Satisfaction level of online booking\n",
    "\n",
    "**Gate location**: Satisfaction level of Gate location\n",
    "\n",
    "**Food and drink**:Satisfaction level of Food and drink\n",
    "\n",
    "**Online boarding**:Satisfaction level of online boarding\n",
    "\n",
    "**Seat comfort**:Satisfaction level of Seat comfort\n",
    "\n",
    "**Inflight entertainment**:Satisfaction level of inflight \n",
    "entertainment\n",
    "\n",
    "**On-board service**: Satisfaction level of On-board service\n",
    "\n",
    "**Leg room service**: Satisfaction level of Leg room service\n",
    "\n",
    "**Baggage handling**:Satisfaction level of baggage handling\n",
    "\n",
    "**Check-in service**: Satisfaction level of Check-in service\n",
    "\n",
    "**Inflight service**: Satisfaction level of inflight service\n",
    "\n",
    "**Cleanliness**: Satisfaction level of Cleanliness\n",
    "\n",
    "**Departure Delay in Minutes**:Minutes delayed when departure\n",
    "\n",
    "**Arrival Delay in Minutes**: Minutes delayed when Arrival\n",
    "\n",
    "**Satisfaction**:Airline satisfaction level(Satisfaction, \n",
    "neutral or dissatisfaction)"
   ]
  },
  {
   "cell_type": "markdown",
   "id": "a2d9b529",
   "metadata": {},
   "source": [
    "## Table Of Contents\n",
    "\n",
    "1. **[Import Libraries](#import_lib)**\n",
    "2. **[Set Options](#set_options)**\n",
    "3. **[Read Data](#Read_Data)**\n",
    "4. **[Data Analysis and Preparation](#data_preparation)**\n",
    "    - 4.1 - [Understand the Data](#data_understanding)\n",
    "        - 4.1.1 - [Data Dimension](#Data_Shape)\n",
    "        - 4.1.2 - [Data Types](#Data_Types)\n",
    "        - 4.1.3 - [Summary Statistics](#Summary_Statistics)\n",
    "        - 4.1.4 - [Missing Values](#Missing_Values)\n",
    "        - 4.1.5 - [Outliers](#Outliers)\n",
    "        - 4.1.6 - [Insignificant Columns](#Insignificant_Columns)\n",
    "    - 4.2 - [Exploratory Data Analysis](#Exploratory_Data_Analysis)\n",
    "        - 4.2.1 - [Univariate Analysis](#Univariate_Analysis)\n",
    "        - 4.2.2 - [Bivariate Analysis](#Bivariate_Analysis)\n",
    "    - 4.3 - [Statistical Tests](#Statistical_Tests)\n",
    "        - 4.3.1 - [Chi-Square Test Of Independence](#Chisquare)\n",
    "        - 4.3.2 - [Kruskal Wallis Test](#Kruskal_Wallis_Test)\n",
    "    - 4.4 - [Prepare The Data](#Prepare)\n",
    "        - 4.4.1 - [Dummy Encoding Of Categorical Varaibles](#Dummy_Encoding)\n",
    "5. **[Logistic Regression](#Base_Model)**\n",
    "    - 5.1 - [Train Test Split](#Train_Test_Split)\n",
    "6. **[Decision Tree](#Decision_Tree)**\n",
    "7. **[Random_Forest](#Random_Forest)**"
   ]
  },
  {
   "cell_type": "markdown",
   "id": "471c9cda",
   "metadata": {},
   "source": [
    "<a id='import_lib'></a>\n",
    "## 1. Import Libraries"
   ]
  },
  {
   "cell_type": "markdown",
   "id": "243f8532",
   "metadata": {},
   "source": [
    "**Let us import the required libraries and functions**"
   ]
  },
  {
   "cell_type": "code",
   "execution_count": 405,
   "id": "dee6c423",
   "metadata": {},
   "outputs": [],
   "source": [
    "# supress warnings \n",
    "from warnings import filterwarnings\n",
    "filterwarnings('ignore')\n",
    "\n",
    "# 'Pandas' is used for data manipulation and analysis\n",
    "import pandas as pd \n",
    "\n",
    "# 'Numpy' is used for mathematical operations on large, multi-dimensional arrays and matrices\n",
    "import numpy as np\n",
    "\n",
    "# 'Matplotlib' is a data visualization library for 2D and 3D plots, built on numpy\n",
    "import matplotlib.pyplot as plt\n",
    "\n",
    "# 'Seaborn' is based on matplotlib; used for plotting statistical graphics\n",
    "import seaborn as sns\n",
    "\n",
    "# 'Scikit-learn' (sklearn) emphasizes various regression, classification and clustering algorithms\n",
    "from sklearn.model_selection import train_test_split\n",
    "from sklearn.model_selection import GridSearchCV\n",
    "from sklearn.linear_model import LogisticRegression\n",
    "from sklearn.metrics import classification_report\n",
    "\n",
    "# 'Statsmodels' is used to build and analyze various statistical models\n",
    "import statsmodels\n",
    "import statsmodels.api as sm\n",
    "\n",
    "# 'SciPy' is used to perform scientific computations\n",
    "from scipy.stats import f_oneway\n",
    "from scipy import stats\n",
    "from scipy .stats import chi2\n",
    "from scipy.stats import chi2_contingency\n",
    "\n"
   ]
  },
  {
   "cell_type": "markdown",
   "id": "0dd2986f",
   "metadata": {},
   "source": [
    "<a id='set_options'></a>\n",
    "## 2. Set Options"
   ]
  },
  {
   "cell_type": "code",
   "execution_count": 406,
   "id": "44e9c0b6",
   "metadata": {},
   "outputs": [],
   "source": [
    "# display all columns of the dataframe\n",
    "pd.options.display.max_columns = None\n",
    "\n",
    "# display all rows of the dataframe\n",
    "pd.options.display.max_rows = None"
   ]
  },
  {
   "cell_type": "markdown",
   "id": "444e9374",
   "metadata": {},
   "source": [
    "<a id='Read_Data'></a>\n",
    "## 3. Read Data"
   ]
  },
  {
   "cell_type": "markdown",
   "id": "1aed2814",
   "metadata": {},
   "source": [
    "<table align=\"left\">\n",
    "    <tr>\n",
    "        <td>\n",
    "            <div align=\"left\", style=\"font-size:120%\">\n",
    "                <font color=\"#21618C\">\n",
    "                    <b>Read and display data to get insights from the data<br> \n",
    "                </font>\n",
    "            </div>\n",
    "        </td>\n",
    "    </tr>\n",
    "</table>"
   ]
  },
  {
   "cell_type": "markdown",
   "id": "73f38150",
   "metadata": {},
   "source": [
    "**Since our dataset is given as two different train and test sets we concatenate them into a single dataset**"
   ]
  },
  {
   "cell_type": "code",
   "execution_count": 407,
   "id": "87f0a57e",
   "metadata": {
    "scrolled": true
   },
   "outputs": [
    {
     "data": {
      "text/html": [
       "<div>\n",
       "<style scoped>\n",
       "    .dataframe tbody tr th:only-of-type {\n",
       "        vertical-align: middle;\n",
       "    }\n",
       "\n",
       "    .dataframe tbody tr th {\n",
       "        vertical-align: top;\n",
       "    }\n",
       "\n",
       "    .dataframe thead th {\n",
       "        text-align: right;\n",
       "    }\n",
       "</style>\n",
       "<table border=\"1\" class=\"dataframe\">\n",
       "  <thead>\n",
       "    <tr style=\"text-align: right;\">\n",
       "      <th></th>\n",
       "      <th>Unnamed: 0</th>\n",
       "      <th>id</th>\n",
       "      <th>Gender</th>\n",
       "      <th>Customer Type</th>\n",
       "      <th>Age</th>\n",
       "      <th>Type of Travel</th>\n",
       "      <th>Class</th>\n",
       "      <th>Flight Distance</th>\n",
       "      <th>Inflight wifi service</th>\n",
       "      <th>Departure/Arrival time convenient</th>\n",
       "      <th>Ease of Online booking</th>\n",
       "      <th>Gate location</th>\n",
       "      <th>Food and drink</th>\n",
       "      <th>Online boarding</th>\n",
       "      <th>Seat comfort</th>\n",
       "      <th>Inflight entertainment</th>\n",
       "      <th>On-board service</th>\n",
       "      <th>Leg room service</th>\n",
       "      <th>Baggage handling</th>\n",
       "      <th>Checkin service</th>\n",
       "      <th>Inflight service</th>\n",
       "      <th>Cleanliness</th>\n",
       "      <th>Departure Delay in Minutes</th>\n",
       "      <th>Arrival Delay in Minutes</th>\n",
       "      <th>satisfaction</th>\n",
       "    </tr>\n",
       "  </thead>\n",
       "  <tbody>\n",
       "    <tr>\n",
       "      <th>0</th>\n",
       "      <td>0</td>\n",
       "      <td>19556</td>\n",
       "      <td>Female</td>\n",
       "      <td>Loyal Customer</td>\n",
       "      <td>52</td>\n",
       "      <td>Business travel</td>\n",
       "      <td>Eco</td>\n",
       "      <td>160</td>\n",
       "      <td>5</td>\n",
       "      <td>4</td>\n",
       "      <td>3</td>\n",
       "      <td>4</td>\n",
       "      <td>3</td>\n",
       "      <td>4</td>\n",
       "      <td>3</td>\n",
       "      <td>5</td>\n",
       "      <td>5</td>\n",
       "      <td>5</td>\n",
       "      <td>5</td>\n",
       "      <td>2</td>\n",
       "      <td>5</td>\n",
       "      <td>5</td>\n",
       "      <td>50</td>\n",
       "      <td>44.0</td>\n",
       "      <td>satisfied</td>\n",
       "    </tr>\n",
       "    <tr>\n",
       "      <th>1</th>\n",
       "      <td>1</td>\n",
       "      <td>90035</td>\n",
       "      <td>Female</td>\n",
       "      <td>Loyal Customer</td>\n",
       "      <td>36</td>\n",
       "      <td>Business travel</td>\n",
       "      <td>Business</td>\n",
       "      <td>2863</td>\n",
       "      <td>1</td>\n",
       "      <td>1</td>\n",
       "      <td>3</td>\n",
       "      <td>1</td>\n",
       "      <td>5</td>\n",
       "      <td>4</td>\n",
       "      <td>5</td>\n",
       "      <td>4</td>\n",
       "      <td>4</td>\n",
       "      <td>4</td>\n",
       "      <td>4</td>\n",
       "      <td>3</td>\n",
       "      <td>4</td>\n",
       "      <td>5</td>\n",
       "      <td>0</td>\n",
       "      <td>0.0</td>\n",
       "      <td>satisfied</td>\n",
       "    </tr>\n",
       "    <tr>\n",
       "      <th>2</th>\n",
       "      <td>2</td>\n",
       "      <td>12360</td>\n",
       "      <td>Male</td>\n",
       "      <td>disloyal Customer</td>\n",
       "      <td>20</td>\n",
       "      <td>Business travel</td>\n",
       "      <td>Eco</td>\n",
       "      <td>192</td>\n",
       "      <td>2</td>\n",
       "      <td>0</td>\n",
       "      <td>2</td>\n",
       "      <td>4</td>\n",
       "      <td>2</td>\n",
       "      <td>2</td>\n",
       "      <td>2</td>\n",
       "      <td>2</td>\n",
       "      <td>4</td>\n",
       "      <td>1</td>\n",
       "      <td>3</td>\n",
       "      <td>2</td>\n",
       "      <td>2</td>\n",
       "      <td>2</td>\n",
       "      <td>0</td>\n",
       "      <td>0.0</td>\n",
       "      <td>neutral or dissatisfied</td>\n",
       "    </tr>\n",
       "    <tr>\n",
       "      <th>3</th>\n",
       "      <td>3</td>\n",
       "      <td>77959</td>\n",
       "      <td>Male</td>\n",
       "      <td>Loyal Customer</td>\n",
       "      <td>44</td>\n",
       "      <td>Business travel</td>\n",
       "      <td>Business</td>\n",
       "      <td>3377</td>\n",
       "      <td>0</td>\n",
       "      <td>0</td>\n",
       "      <td>0</td>\n",
       "      <td>2</td>\n",
       "      <td>3</td>\n",
       "      <td>4</td>\n",
       "      <td>4</td>\n",
       "      <td>1</td>\n",
       "      <td>1</td>\n",
       "      <td>1</td>\n",
       "      <td>1</td>\n",
       "      <td>3</td>\n",
       "      <td>1</td>\n",
       "      <td>4</td>\n",
       "      <td>0</td>\n",
       "      <td>6.0</td>\n",
       "      <td>satisfied</td>\n",
       "    </tr>\n",
       "    <tr>\n",
       "      <th>4</th>\n",
       "      <td>4</td>\n",
       "      <td>36875</td>\n",
       "      <td>Female</td>\n",
       "      <td>Loyal Customer</td>\n",
       "      <td>49</td>\n",
       "      <td>Business travel</td>\n",
       "      <td>Eco</td>\n",
       "      <td>1182</td>\n",
       "      <td>2</td>\n",
       "      <td>3</td>\n",
       "      <td>4</td>\n",
       "      <td>3</td>\n",
       "      <td>4</td>\n",
       "      <td>1</td>\n",
       "      <td>2</td>\n",
       "      <td>2</td>\n",
       "      <td>2</td>\n",
       "      <td>2</td>\n",
       "      <td>2</td>\n",
       "      <td>4</td>\n",
       "      <td>2</td>\n",
       "      <td>4</td>\n",
       "      <td>0</td>\n",
       "      <td>20.0</td>\n",
       "      <td>satisfied</td>\n",
       "    </tr>\n",
       "  </tbody>\n",
       "</table>\n",
       "</div>"
      ],
      "text/plain": [
       "   Unnamed: 0     id  Gender      Customer Type  Age   Type of Travel  \\\n",
       "0           0  19556  Female     Loyal Customer   52  Business travel   \n",
       "1           1  90035  Female     Loyal Customer   36  Business travel   \n",
       "2           2  12360    Male  disloyal Customer   20  Business travel   \n",
       "3           3  77959    Male     Loyal Customer   44  Business travel   \n",
       "4           4  36875  Female     Loyal Customer   49  Business travel   \n",
       "\n",
       "      Class  Flight Distance  Inflight wifi service  \\\n",
       "0       Eco              160                      5   \n",
       "1  Business             2863                      1   \n",
       "2       Eco              192                      2   \n",
       "3  Business             3377                      0   \n",
       "4       Eco             1182                      2   \n",
       "\n",
       "   Departure/Arrival time convenient  Ease of Online booking  Gate location  \\\n",
       "0                                  4                       3              4   \n",
       "1                                  1                       3              1   \n",
       "2                                  0                       2              4   \n",
       "3                                  0                       0              2   \n",
       "4                                  3                       4              3   \n",
       "\n",
       "   Food and drink  Online boarding  Seat comfort  Inflight entertainment  \\\n",
       "0               3                4             3                       5   \n",
       "1               5                4             5                       4   \n",
       "2               2                2             2                       2   \n",
       "3               3                4             4                       1   \n",
       "4               4                1             2                       2   \n",
       "\n",
       "   On-board service  Leg room service  Baggage handling  Checkin service  \\\n",
       "0                 5                 5                 5                2   \n",
       "1                 4                 4                 4                3   \n",
       "2                 4                 1                 3                2   \n",
       "3                 1                 1                 1                3   \n",
       "4                 2                 2                 2                4   \n",
       "\n",
       "   Inflight service  Cleanliness  Departure Delay in Minutes  \\\n",
       "0                 5            5                          50   \n",
       "1                 4            5                           0   \n",
       "2                 2            2                           0   \n",
       "3                 1            4                           0   \n",
       "4                 2            4                           0   \n",
       "\n",
       "   Arrival Delay in Minutes             satisfaction  \n",
       "0                      44.0                satisfied  \n",
       "1                       0.0                satisfied  \n",
       "2                       0.0  neutral or dissatisfied  \n",
       "3                       6.0                satisfied  \n",
       "4                      20.0                satisfied  "
      ]
     },
     "execution_count": 407,
     "metadata": {},
     "output_type": "execute_result"
    }
   ],
   "source": [
    "# read csv file using pandas\n",
    "df1=pd.read_csv(\"train.csv\",encoding=\"latin-1\")\n",
    "df2=pd.read_csv(\"test.csv\",encoding=\"latin-1\")\n",
    "\n",
    "# concatenating both the datasets.\n",
    "df=pd.concat([df2,df1])\n",
    "\n",
    "# display the top 5 rows of the dataframe\n",
    "df.head()"
   ]
  },
  {
   "cell_type": "markdown",
   "id": "27c6a327",
   "metadata": {},
   "source": [
    "<a id='data_preparation'></a>\n",
    "## 4. Data Analysis and Preparation"
   ]
  },
  {
   "cell_type": "markdown",
   "id": "a19d1ab2",
   "metadata": {},
   "source": [
    "<table align=\"left\">\n",
    "    <tr>\n",
    "        <td>\n",
    "            <div align=\"left\", style=\"font-size:120%\">\n",
    "                <font color=\"#21618C\">\n",
    "                    <b>Data preprocessing is a crucial step that helps enhance the quality of data to promote the \n",
    "extraction of meaningful insights from the data. Data preprocessing in Machine Learning refers \n",
    "to the technique of preparing (cleaning and organizing) the raw data to make it suitable for a\n",
    "building and training MachineLearning models.\n",
    "Data Preparation is the process of collecting, cleaning, and consolidating data into one file or\n",
    "data table,primarily for use in analysis.<br> \n",
    "                </font>\n",
    "            </div>\n",
    "        </td>\n",
    "    </tr>\n",
    "</table>"
   ]
  },
  {
   "cell_type": "markdown",
   "id": "8135322f",
   "metadata": {},
   "source": [
    "<a id='data_understanding'></a>\n",
    "### 4.1 Understand the Dataset"
   ]
  },
  {
   "cell_type": "markdown",
   "id": "35c83dab",
   "metadata": {},
   "source": [
    "<a id='Data_Shape'></a>\n",
    "### 4.1.1 Data Dimension"
   ]
  },
  {
   "cell_type": "markdown",
   "id": "ec9afe29",
   "metadata": {},
   "source": [
    "To know the dimensions of the data:"
   ]
  },
  {
   "cell_type": "code",
   "execution_count": 408,
   "id": "379be69f",
   "metadata": {},
   "outputs": [
    {
     "data": {
      "text/plain": [
       "(129880, 25)"
      ]
     },
     "execution_count": 408,
     "metadata": {},
     "output_type": "execute_result"
    }
   ],
   "source": [
    "# .shape returns the dimension of the data\n",
    "df.shape"
   ]
  },
  {
   "cell_type": "markdown",
   "id": "1f92b360",
   "metadata": {},
   "source": [
    "We see the dataframe has 25 columns and 129880 observations."
   ]
  },
  {
   "cell_type": "markdown",
   "id": "2e69344f",
   "metadata": {},
   "source": [
    "<a id='Data_Types'></a>\n",
    "### 4.1.2 Data Types"
   ]
  },
  {
   "cell_type": "markdown",
   "id": "0a707930",
   "metadata": {},
   "source": [
    "<table align=\"left\">\n",
    "    <tr>\n",
    "        <td>\n",
    "            <div align=\"left\", style=\"font-size:120%\">\n",
    "                <font color=\"#21618C\">\n",
    "                    <b>• The satisfaction levels across columns like'Inflight wifi service','Departure/Arrival time \n",
    "convenient', 'Ease of Online booking','Gate location', 'Food and drink', 'Online boarding', \n",
    "'Seat comfort','Inflight entertainment', 'On-board service', 'Leg room service','Baggage \n",
    "handling', 'Checkin service', 'Inflight service','Cleanliness' work on a rating system and hence \n",
    "can be classified as categorical data.<br>\n",
    "• The variables: Gender, Type of Travel ,Customer Type and Class are also part of categorical \n",
    "data<br>\n",
    "• The variables :Age, Distance, Departure Delay in Minutes and Arrival Delay in Minutes are \n",
    "numerical<br> \n",
    "                </font>\n",
    "            </div>\n",
    "        </td>\n",
    "    </tr>\n",
    "</table>"
   ]
  },
  {
   "cell_type": "markdown",
   "id": "1dd1d4c6",
   "metadata": {},
   "source": [
    "**1. Check data types**"
   ]
  },
  {
   "cell_type": "code",
   "execution_count": 409,
   "id": "24e2c0ce",
   "metadata": {},
   "outputs": [
    {
     "data": {
      "text/plain": [
       "Unnamed: 0                             int64\n",
       "id                                     int64\n",
       "Gender                                object\n",
       "Customer Type                         object\n",
       "Age                                    int64\n",
       "Type of Travel                        object\n",
       "Class                                 object\n",
       "Flight Distance                        int64\n",
       "Inflight wifi service                  int64\n",
       "Departure/Arrival time convenient      int64\n",
       "Ease of Online booking                 int64\n",
       "Gate location                          int64\n",
       "Food and drink                         int64\n",
       "Online boarding                        int64\n",
       "Seat comfort                           int64\n",
       "Inflight entertainment                 int64\n",
       "On-board service                       int64\n",
       "Leg room service                       int64\n",
       "Baggage handling                       int64\n",
       "Checkin service                        int64\n",
       "Inflight service                       int64\n",
       "Cleanliness                            int64\n",
       "Departure Delay in Minutes             int64\n",
       "Arrival Delay in Minutes             float64\n",
       "satisfaction                          object\n",
       "dtype: object"
      ]
     },
     "execution_count": 409,
     "metadata": {},
     "output_type": "execute_result"
    }
   ],
   "source": [
    "# use .dtypes to view the data type of a variable\n",
    "df.dtypes"
   ]
  },
  {
   "cell_type": "markdown",
   "id": "2150d279",
   "metadata": {},
   "source": [
    "<a id='Summary_Statistics'></a>\n",
    "### 4.1.3 Summary Statistics"
   ]
  },
  {
   "cell_type": "markdown",
   "id": "cfec2727",
   "metadata": {},
   "source": [
    "**1. For numerical variables**"
   ]
  },
  {
   "cell_type": "code",
   "execution_count": 410,
   "id": "00e9d458",
   "metadata": {},
   "outputs": [
    {
     "data": {
      "text/html": [
       "<div>\n",
       "<style scoped>\n",
       "    .dataframe tbody tr th:only-of-type {\n",
       "        vertical-align: middle;\n",
       "    }\n",
       "\n",
       "    .dataframe tbody tr th {\n",
       "        vertical-align: top;\n",
       "    }\n",
       "\n",
       "    .dataframe thead th {\n",
       "        text-align: right;\n",
       "    }\n",
       "</style>\n",
       "<table border=\"1\" class=\"dataframe\">\n",
       "  <thead>\n",
       "    <tr style=\"text-align: right;\">\n",
       "      <th></th>\n",
       "      <th>Age</th>\n",
       "      <th>Flight Distance</th>\n",
       "      <th>Departure Delay in Minutes</th>\n",
       "      <th>Arrival Delay in Minutes</th>\n",
       "    </tr>\n",
       "  </thead>\n",
       "  <tbody>\n",
       "    <tr>\n",
       "      <th>count</th>\n",
       "      <td>129880.000000</td>\n",
       "      <td>129880.000000</td>\n",
       "      <td>129880.000000</td>\n",
       "      <td>129487.000000</td>\n",
       "    </tr>\n",
       "    <tr>\n",
       "      <th>mean</th>\n",
       "      <td>39.427957</td>\n",
       "      <td>1190.316392</td>\n",
       "      <td>14.713713</td>\n",
       "      <td>15.091129</td>\n",
       "    </tr>\n",
       "    <tr>\n",
       "      <th>std</th>\n",
       "      <td>15.119360</td>\n",
       "      <td>997.452477</td>\n",
       "      <td>38.071126</td>\n",
       "      <td>38.465650</td>\n",
       "    </tr>\n",
       "    <tr>\n",
       "      <th>min</th>\n",
       "      <td>7.000000</td>\n",
       "      <td>31.000000</td>\n",
       "      <td>0.000000</td>\n",
       "      <td>0.000000</td>\n",
       "    </tr>\n",
       "    <tr>\n",
       "      <th>25%</th>\n",
       "      <td>27.000000</td>\n",
       "      <td>414.000000</td>\n",
       "      <td>0.000000</td>\n",
       "      <td>0.000000</td>\n",
       "    </tr>\n",
       "    <tr>\n",
       "      <th>50%</th>\n",
       "      <td>40.000000</td>\n",
       "      <td>844.000000</td>\n",
       "      <td>0.000000</td>\n",
       "      <td>0.000000</td>\n",
       "    </tr>\n",
       "    <tr>\n",
       "      <th>75%</th>\n",
       "      <td>51.000000</td>\n",
       "      <td>1744.000000</td>\n",
       "      <td>12.000000</td>\n",
       "      <td>13.000000</td>\n",
       "    </tr>\n",
       "    <tr>\n",
       "      <th>max</th>\n",
       "      <td>85.000000</td>\n",
       "      <td>4983.000000</td>\n",
       "      <td>1592.000000</td>\n",
       "      <td>1584.000000</td>\n",
       "    </tr>\n",
       "  </tbody>\n",
       "</table>\n",
       "</div>"
      ],
      "text/plain": [
       "                 Age  Flight Distance  Departure Delay in Minutes  \\\n",
       "count  129880.000000    129880.000000               129880.000000   \n",
       "mean       39.427957      1190.316392                   14.713713   \n",
       "std        15.119360       997.452477                   38.071126   \n",
       "min         7.000000        31.000000                    0.000000   \n",
       "25%        27.000000       414.000000                    0.000000   \n",
       "50%        40.000000       844.000000                    0.000000   \n",
       "75%        51.000000      1744.000000                   12.000000   \n",
       "max        85.000000      4983.000000                 1592.000000   \n",
       "\n",
       "       Arrival Delay in Minutes  \n",
       "count             129487.000000  \n",
       "mean                  15.091129  \n",
       "std                   38.465650  \n",
       "min                    0.000000  \n",
       "25%                    0.000000  \n",
       "50%                    0.000000  \n",
       "75%                   13.000000  \n",
       "max                 1584.000000  "
      ]
     },
     "execution_count": 410,
     "metadata": {},
     "output_type": "execute_result"
    }
   ],
   "source": [
    "# describe the numerical data\n",
    "# since some of the variables are wrongly classified as numerical,seaparately selecting the numerical variables\n",
    "# and then finding the summary statistics.\n",
    "df_num=df[['Age','Flight Distance','Departure Delay in Minutes','Arrival Delay in Minutes']]\n",
    "df_num.describe()"
   ]
  },
  {
   "cell_type": "markdown",
   "id": "7abcd07d",
   "metadata": {},
   "source": [
    "**2. For categorical features**"
   ]
  },
  {
   "cell_type": "code",
   "execution_count": 411,
   "id": "b634d97a",
   "metadata": {},
   "outputs": [
    {
     "data": {
      "text/html": [
       "<div>\n",
       "<style scoped>\n",
       "    .dataframe tbody tr th:only-of-type {\n",
       "        vertical-align: middle;\n",
       "    }\n",
       "\n",
       "    .dataframe tbody tr th {\n",
       "        vertical-align: top;\n",
       "    }\n",
       "\n",
       "    .dataframe thead th {\n",
       "        text-align: right;\n",
       "    }\n",
       "</style>\n",
       "<table border=\"1\" class=\"dataframe\">\n",
       "  <thead>\n",
       "    <tr style=\"text-align: right;\">\n",
       "      <th></th>\n",
       "      <th>Gender</th>\n",
       "      <th>Customer Type</th>\n",
       "      <th>Type of Travel</th>\n",
       "      <th>Class</th>\n",
       "      <th>satisfaction</th>\n",
       "    </tr>\n",
       "  </thead>\n",
       "  <tbody>\n",
       "    <tr>\n",
       "      <th>count</th>\n",
       "      <td>129880</td>\n",
       "      <td>129880</td>\n",
       "      <td>129880</td>\n",
       "      <td>129880</td>\n",
       "      <td>129880</td>\n",
       "    </tr>\n",
       "    <tr>\n",
       "      <th>unique</th>\n",
       "      <td>2</td>\n",
       "      <td>2</td>\n",
       "      <td>2</td>\n",
       "      <td>3</td>\n",
       "      <td>2</td>\n",
       "    </tr>\n",
       "    <tr>\n",
       "      <th>top</th>\n",
       "      <td>Female</td>\n",
       "      <td>Loyal Customer</td>\n",
       "      <td>Business travel</td>\n",
       "      <td>Business</td>\n",
       "      <td>neutral or dissatisfied</td>\n",
       "    </tr>\n",
       "    <tr>\n",
       "      <th>freq</th>\n",
       "      <td>65899</td>\n",
       "      <td>106100</td>\n",
       "      <td>89693</td>\n",
       "      <td>62160</td>\n",
       "      <td>73452</td>\n",
       "    </tr>\n",
       "  </tbody>\n",
       "</table>\n",
       "</div>"
      ],
      "text/plain": [
       "        Gender   Customer Type   Type of Travel     Class  \\\n",
       "count   129880          129880           129880    129880   \n",
       "unique       2               2                2         3   \n",
       "top     Female  Loyal Customer  Business travel  Business   \n",
       "freq     65899          106100            89693     62160   \n",
       "\n",
       "                   satisfaction  \n",
       "count                    129880  \n",
       "unique                        2  \n",
       "top     neutral or dissatisfied  \n",
       "freq                      73452  "
      ]
     },
     "execution_count": 411,
     "metadata": {},
     "output_type": "execute_result"
    }
   ],
   "source": [
    "# describe the categorical data\n",
    "df_cat=df.select_dtypes('object')\n",
    "df_cat.describe()"
   ]
  },
  {
   "cell_type": "markdown",
   "id": "0fd53220",
   "metadata": {},
   "source": [
    "<a id='Missing_Values'></a>\n",
    "### 4.1.4 Missing Values"
   ]
  },
  {
   "cell_type": "markdown",
   "id": "cc52794c",
   "metadata": {},
   "source": [
    "<table align=\"left\">\n",
    "    <tr>\n",
    "        <td>\n",
    "            <div align=\"left\", style=\"font-size:120%\">\n",
    "                <font color=\"#21618C\">\n",
    "                    <b>Impute or drop features with missing values based on the percentage of missing values and\n",
    "relevance for model building.\n",
    "<br> \n",
    "                </font>\n",
    "            </div>\n",
    "        </td>\n",
    "    </tr>\n",
    "</table>"
   ]
  },
  {
   "cell_type": "code",
   "execution_count": 412,
   "id": "68e14739",
   "metadata": {},
   "outputs": [
    {
     "data": {
      "text/html": [
       "<div>\n",
       "<style scoped>\n",
       "    .dataframe tbody tr th:only-of-type {\n",
       "        vertical-align: middle;\n",
       "    }\n",
       "\n",
       "    .dataframe tbody tr th {\n",
       "        vertical-align: top;\n",
       "    }\n",
       "\n",
       "    .dataframe thead th {\n",
       "        text-align: right;\n",
       "    }\n",
       "</style>\n",
       "<table border=\"1\" class=\"dataframe\">\n",
       "  <thead>\n",
       "    <tr style=\"text-align: right;\">\n",
       "      <th></th>\n",
       "      <th>Total</th>\n",
       "      <th>Percentage of Missing Values</th>\n",
       "    </tr>\n",
       "  </thead>\n",
       "  <tbody>\n",
       "    <tr>\n",
       "      <th>Arrival Delay in Minutes</th>\n",
       "      <td>393</td>\n",
       "      <td>0.302587</td>\n",
       "    </tr>\n",
       "    <tr>\n",
       "      <th>Unnamed: 0</th>\n",
       "      <td>0</td>\n",
       "      <td>0.000000</td>\n",
       "    </tr>\n",
       "    <tr>\n",
       "      <th>Online boarding</th>\n",
       "      <td>0</td>\n",
       "      <td>0.000000</td>\n",
       "    </tr>\n",
       "    <tr>\n",
       "      <th>Departure Delay in Minutes</th>\n",
       "      <td>0</td>\n",
       "      <td>0.000000</td>\n",
       "    </tr>\n",
       "    <tr>\n",
       "      <th>Cleanliness</th>\n",
       "      <td>0</td>\n",
       "      <td>0.000000</td>\n",
       "    </tr>\n",
       "    <tr>\n",
       "      <th>Inflight service</th>\n",
       "      <td>0</td>\n",
       "      <td>0.000000</td>\n",
       "    </tr>\n",
       "    <tr>\n",
       "      <th>Checkin service</th>\n",
       "      <td>0</td>\n",
       "      <td>0.000000</td>\n",
       "    </tr>\n",
       "    <tr>\n",
       "      <th>Baggage handling</th>\n",
       "      <td>0</td>\n",
       "      <td>0.000000</td>\n",
       "    </tr>\n",
       "    <tr>\n",
       "      <th>Leg room service</th>\n",
       "      <td>0</td>\n",
       "      <td>0.000000</td>\n",
       "    </tr>\n",
       "    <tr>\n",
       "      <th>On-board service</th>\n",
       "      <td>0</td>\n",
       "      <td>0.000000</td>\n",
       "    </tr>\n",
       "    <tr>\n",
       "      <th>Inflight entertainment</th>\n",
       "      <td>0</td>\n",
       "      <td>0.000000</td>\n",
       "    </tr>\n",
       "    <tr>\n",
       "      <th>Seat comfort</th>\n",
       "      <td>0</td>\n",
       "      <td>0.000000</td>\n",
       "    </tr>\n",
       "    <tr>\n",
       "      <th>Food and drink</th>\n",
       "      <td>0</td>\n",
       "      <td>0.000000</td>\n",
       "    </tr>\n",
       "    <tr>\n",
       "      <th>id</th>\n",
       "      <td>0</td>\n",
       "      <td>0.000000</td>\n",
       "    </tr>\n",
       "    <tr>\n",
       "      <th>Gate location</th>\n",
       "      <td>0</td>\n",
       "      <td>0.000000</td>\n",
       "    </tr>\n",
       "    <tr>\n",
       "      <th>Ease of Online booking</th>\n",
       "      <td>0</td>\n",
       "      <td>0.000000</td>\n",
       "    </tr>\n",
       "    <tr>\n",
       "      <th>Departure/Arrival time convenient</th>\n",
       "      <td>0</td>\n",
       "      <td>0.000000</td>\n",
       "    </tr>\n",
       "    <tr>\n",
       "      <th>Inflight wifi service</th>\n",
       "      <td>0</td>\n",
       "      <td>0.000000</td>\n",
       "    </tr>\n",
       "    <tr>\n",
       "      <th>Flight Distance</th>\n",
       "      <td>0</td>\n",
       "      <td>0.000000</td>\n",
       "    </tr>\n",
       "    <tr>\n",
       "      <th>Class</th>\n",
       "      <td>0</td>\n",
       "      <td>0.000000</td>\n",
       "    </tr>\n",
       "    <tr>\n",
       "      <th>Type of Travel</th>\n",
       "      <td>0</td>\n",
       "      <td>0.000000</td>\n",
       "    </tr>\n",
       "    <tr>\n",
       "      <th>Age</th>\n",
       "      <td>0</td>\n",
       "      <td>0.000000</td>\n",
       "    </tr>\n",
       "    <tr>\n",
       "      <th>Customer Type</th>\n",
       "      <td>0</td>\n",
       "      <td>0.000000</td>\n",
       "    </tr>\n",
       "    <tr>\n",
       "      <th>Gender</th>\n",
       "      <td>0</td>\n",
       "      <td>0.000000</td>\n",
       "    </tr>\n",
       "    <tr>\n",
       "      <th>satisfaction</th>\n",
       "      <td>0</td>\n",
       "      <td>0.000000</td>\n",
       "    </tr>\n",
       "  </tbody>\n",
       "</table>\n",
       "</div>"
      ],
      "text/plain": [
       "                                   Total  Percentage of Missing Values\n",
       "Arrival Delay in Minutes             393                      0.302587\n",
       "Unnamed: 0                             0                      0.000000\n",
       "Online boarding                        0                      0.000000\n",
       "Departure Delay in Minutes             0                      0.000000\n",
       "Cleanliness                            0                      0.000000\n",
       "Inflight service                       0                      0.000000\n",
       "Checkin service                        0                      0.000000\n",
       "Baggage handling                       0                      0.000000\n",
       "Leg room service                       0                      0.000000\n",
       "On-board service                       0                      0.000000\n",
       "Inflight entertainment                 0                      0.000000\n",
       "Seat comfort                           0                      0.000000\n",
       "Food and drink                         0                      0.000000\n",
       "id                                     0                      0.000000\n",
       "Gate location                          0                      0.000000\n",
       "Ease of Online booking                 0                      0.000000\n",
       "Departure/Arrival time convenient      0                      0.000000\n",
       "Inflight wifi service                  0                      0.000000\n",
       "Flight Distance                        0                      0.000000\n",
       "Class                                  0                      0.000000\n",
       "Type of Travel                         0                      0.000000\n",
       "Age                                    0                      0.000000\n",
       "Customer Type                          0                      0.000000\n",
       "Gender                                 0                      0.000000\n",
       "satisfaction                           0                      0.000000"
      ]
     },
     "execution_count": 412,
     "metadata": {},
     "output_type": "execute_result"
    }
   ],
   "source": [
    "# the variable with highest number of missing values will appear first\n",
    "Total = df.isnull().sum().sort_values(ascending=False)\n",
    "\n",
    "# the variable with highest percentage of missing values will appear first\n",
    "Percent = (df.isnull().sum()*100/df.isnull().count()).sort_values(ascending=False)\n",
    "\n",
    "# concat the 'Total' and 'Percent' columns\n",
    "missing_data = pd.concat([Total, Percent], axis = 1, keys = ['Total', 'Percentage of Missing Values'])\n",
    "\n",
    "missing_data"
   ]
  },
  {
   "cell_type": "markdown",
   "id": "cd73e4c6",
   "metadata": {},
   "source": [
    "As the percentage of null values was found to be negligible, we dropped the observations \n",
    "containing these null values.\n"
   ]
  },
  {
   "cell_type": "code",
   "execution_count": 413,
   "id": "4af04e7c",
   "metadata": {},
   "outputs": [
    {
     "data": {
      "text/plain": [
       "Unnamed: 0                           0.0\n",
       "id                                   0.0\n",
       "Gender                               0.0\n",
       "Customer Type                        0.0\n",
       "Age                                  0.0\n",
       "Type of Travel                       0.0\n",
       "Class                                0.0\n",
       "Flight Distance                      0.0\n",
       "Inflight wifi service                0.0\n",
       "Departure/Arrival time convenient    0.0\n",
       "Ease of Online booking               0.0\n",
       "Gate location                        0.0\n",
       "Food and drink                       0.0\n",
       "Online boarding                      0.0\n",
       "Seat comfort                         0.0\n",
       "Inflight entertainment               0.0\n",
       "On-board service                     0.0\n",
       "Leg room service                     0.0\n",
       "Baggage handling                     0.0\n",
       "Checkin service                      0.0\n",
       "Inflight service                     0.0\n",
       "Cleanliness                          0.0\n",
       "Departure Delay in Minutes           0.0\n",
       "Arrival Delay in Minutes             0.0\n",
       "satisfaction                         0.0\n",
       "dtype: float64"
      ]
     },
     "execution_count": 413,
     "metadata": {},
     "output_type": "execute_result"
    }
   ],
   "source": [
    "df=df.dropna()\n",
    "\n",
    "df.isnull().sum()/len(df)"
   ]
  },
  {
   "cell_type": "markdown",
   "id": "4a659a1b",
   "metadata": {},
   "source": [
    "There are no null values in the data now"
   ]
  },
  {
   "cell_type": "markdown",
   "id": "38d6db27",
   "metadata": {},
   "source": [
    " <a id='Outliers'></a>\n",
    "### 4.1.5 Outliers"
   ]
  },
  {
   "cell_type": "code",
   "execution_count": 414,
   "id": "3ffc6bfe",
   "metadata": {},
   "outputs": [
    {
     "data": {
      "image/png": "[encoded data removed]",
      "text/plain": [
       "<Figure size 504x504 with 1 Axes>"
      ]
     },
     "metadata": {
      "needs_background": "light"
     },
     "output_type": "display_data"
    }
   ],
   "source": [
    "df_num.boxplot()\n",
    "plt.xticks(rotation=90)\n",
    "plt.show()"
   ]
  },
  {
   "cell_type": "markdown",
   "id": "cbf5cd9f",
   "metadata": {},
   "source": [
    "<table align=\"left\">\n",
    "    <tr>\n",
    "        <td>\n",
    "            <div align=\"left\", style=\"font-size:120%\">\n",
    "                <font color=\"#21618C\">\n",
    "                    <b>There are outliers present in the Flight Distance, Departure Delay in Minutes and Arrival Delay in \n",
    "Minutes column. As these variables play a role in customer satisfaction (more the delay,we can \n",
    "assume less satisfied the customer), we are not excluding the outliers . As we proceed with \n",
    "model building we can transform the extreme outliers. But for the base model we choose to \n",
    "leave the outliers as it is.\n",
    "<br> \n",
    "                </font>\n",
    "            </div>\n",
    "        </td>\n",
    "    </tr>\n",
    "</table>"
   ]
  },
  {
   "cell_type": "markdown",
   "id": "1bb359d4",
   "metadata": {},
   "source": [
    " <a id='Insignificant_Columns'></a>\n",
    "### 4.1.5 Insignificant Columns"
   ]
  },
  {
   "cell_type": "markdown",
   "id": "2f655ef9",
   "metadata": {},
   "source": [
    "<table align=\"left\">\n",
    "    <tr>\n",
    "        <td>\n",
    "            <div align=\"left\", style=\"font-size:120%\">\n",
    "                <font color=\"#21618C\">\n",
    "                    <b>The below are the redundant features that are dropped from the dataset.<br>\n",
    "o Unnamed: 0- Index value<br>\n",
    "o Id- Unique identifiers of each row, has no impact on the model<br>\n",
    "<br> \n",
    "                </font>\n",
    "            </div>\n",
    "        </td>\n",
    "    </tr>\n",
    "</table>"
   ]
  },
  {
   "cell_type": "code",
   "execution_count": 415,
   "id": "9c1689fb",
   "metadata": {},
   "outputs": [],
   "source": [
    "# dropping the insignificant columns.\n",
    "df.drop(['Unnamed: 0','id'],inplace=True,axis=1)"
   ]
  },
  {
   "cell_type": "markdown",
   "id": "6ddd8913",
   "metadata": {},
   "source": [
    "<a id='Exploratory_Data_Analysis'></a>\n",
    "### 4.2 Exploratory Data Analysis"
   ]
  },
  {
   "cell_type": "markdown",
   "id": "7f9cb06f",
   "metadata": {},
   "source": [
    "<a id='Univariate_Analysis'></a>\n",
    "### 4.2.1 Univariate Analysis"
   ]
  },
  {
   "cell_type": "markdown",
   "id": "a197406d",
   "metadata": {},
   "source": [
    "**The Numerical variables**"
   ]
  },
  {
   "cell_type": "code",
   "execution_count": 416,
   "id": "8d2a9bac",
   "metadata": {},
   "outputs": [
    {
     "data": {
      "image/png": "[encoded data removed]",
      "text/plain": [
       "<Figure size 504x504 with 4 Axes>"
      ]
     },
     "metadata": {
      "needs_background": "light"
     },
     "output_type": "display_data"
    }
   ],
   "source": [
    "# The numerical Variables.\n",
    "plt.rcParams['figure.figsize']=[7,7]\n",
    "for i,j in zip(df_num,range(1,len(df_num))):\n",
    "    plt.subplot(2,2,j)\n",
    "    sns.boxplot(df[i])\n",
    "plt.tight_layout()\n",
    "plt.show()"
   ]
  },
  {
   "cell_type": "markdown",
   "id": "655724d1",
   "metadata": {},
   "source": [
    "<table align=\"left\">\n",
    "    <tr>\n",
    "        <td>\n",
    "            <div align=\"left\", style=\"font-size:120%\">\n",
    "                <font color=\"#21618C\">\n",
    "                    <b>• Heavy presence of outliers in variables: 'Departure Delay in Minutes', 'Arrival Delay in \n",
    "Minutes'<br>\n",
    "• The average age of passengers was found to be ~40<br>\n",
    "• The average distance was found to be 1190 miles<br>\n",
    "<br> \n",
    "                </font>\n",
    "            </div>\n",
    "        </td>\n",
    "    </tr>\n",
    "</table>"
   ]
  },
  {
   "cell_type": "markdown",
   "id": "3da5798c",
   "metadata": {},
   "source": [
    "**The Rating Columns**"
   ]
  },
  {
   "cell_type": "code",
   "execution_count": 417,
   "id": "ca485b5e",
   "metadata": {},
   "outputs": [
    {
     "data": {
      "image/png": "[encoded data removed]",
      "text/plain": [
       "<Figure size 504x504 with 14 Axes>"
      ]
     },
     "metadata": {
      "needs_background": "light"
     },
     "output_type": "display_data"
    }
   ],
   "source": [
    "df_rating=df[['Inflight wifi service','Departure/Arrival time convenient','Ease of Online booking',\n",
    "             'Gate location','Food and drink','Online boarding','Seat comfort','Inflight entertainment','On-board service',\n",
    "             'Leg room service','Baggage handling','Checkin service','Inflight service','Cleanliness']]\n",
    "\n",
    "plt.rcParams['figure.figsize']=[7,7]\n",
    "for i,j in zip(df_rating,range(1,len(df_rating)+1)):\n",
    "    plt.subplot(5,3,j)\n",
    "    sns.countplot(df[i],palette='Paired')\n",
    "plt.tight_layout()\n",
    "plt.show()"
   ]
  },
  {
   "cell_type": "markdown",
   "id": "e7f9cfba",
   "metadata": {},
   "source": [
    "<table align=\"left\">\n",
    "    <tr>\n",
    "        <td>\n",
    "            <div align=\"left\", style=\"font-size:120%\">\n",
    "                <font color=\"#21618C\">\n",
    "                    <b>• A large population of passengers gave an average rating of 4 out of 5 for various factors \n",
    "like ease of online booking, on-board service, checkin service etc.<br>\n",
    "• The factor with the largest amount of dissatisfaction (rating 1) was in-flight service<br>\n",
    "• There were some factors that were voted zero ,which we can assume to be for the cases\n",
    "where the customer refused to provide a rating<br>\n",
    "<br> \n",
    "                </font>\n",
    "            </div>\n",
    "        </td>\n",
    "    </tr>\n",
    "</table>"
   ]
  },
  {
   "cell_type": "markdown",
   "id": "051bbe55",
   "metadata": {},
   "source": [
    "**The Categorical Columns**"
   ]
  },
  {
   "cell_type": "code",
   "execution_count": 76,
   "id": "8c223171",
   "metadata": {},
   "outputs": [
    {
     "data": {
      "image/png": "[encoded data removed]",
      "text/plain": [
       "<Figure size 504x504 with 4 Axes>"
      ]
     },
     "metadata": {
      "needs_background": "light"
     },
     "output_type": "display_data"
    }
   ],
   "source": [
    "df_categorical=df[['Gender','Customer Type','Type of Travel','Class']]\n",
    "plt.rcParams['figure.figsize']=[7,7]\n",
    "for i,j in zip(df_categorical,range(1,len(df_categorical)+1)):\n",
    "    plt.subplot(2,2,j)\n",
    "    sns.countplot(df[i],palette='Paired')\n",
    "plt.tight_layout()\n",
    "plt.show()    "
   ]
  },
  {
   "cell_type": "markdown",
   "id": "9cb5f7cd",
   "metadata": {},
   "source": [
    "<table align=\"left\">\n",
    "    <tr>\n",
    "        <td>\n",
    "            <div align=\"left\", style=\"font-size:120%\">\n",
    "                <font color=\"#21618C\">\n",
    "                    <b>• Majority of passengers chose Business class.<br>\n",
    "• The data contains information predominantly of loyal customers<br>\n",
    "• Both genders were more or less equally captured for this project\n",
    "<br> \n",
    "                </font>\n",
    "            </div>\n",
    "        </td>\n",
    "    </tr>\n",
    "</table>"
   ]
  },
  {
   "cell_type": "markdown",
   "id": "78c521be",
   "metadata": {},
   "source": [
    "<a id='Bivariate_Analysis'></a>\n",
    "### 4.2.1 Bivariate Analysis"
   ]
  },
  {
   "cell_type": "markdown",
   "id": "3fae8ca1",
   "metadata": {},
   "source": [
    "**Numerical Independent vs Target variable**"
   ]
  },
  {
   "cell_type": "code",
   "execution_count": 77,
   "id": "cd4c0461",
   "metadata": {},
   "outputs": [
    {
     "data": {
      "image/png": "[encoded data removed]",
      "text/plain": [
       "<Figure size 504x504 with 2 Axes>"
      ]
     },
     "metadata": {
      "needs_background": "light"
     },
     "output_type": "display_data"
    }
   ],
   "source": [
    "num=df[['Age','Flight Distance']]\n",
    "plt.rcParams['figure.figsize']=[7,7]\n",
    "for (i,j) in zip(num,range(1,len(num)+1)):\n",
    "    plt.subplot(2,2,j)\n",
    "    sns.boxplot(df['satisfaction'],df[i])\n",
    "plt.tight_layout()\n",
    "plt.show()"
   ]
  },
  {
   "cell_type": "markdown",
   "id": "78c7bcd7",
   "metadata": {},
   "source": [
    "<table align=\"left\">\n",
    "    <tr>\n",
    "        <td>\n",
    "            <div align=\"left\", style=\"font-size:120%\">\n",
    "                <font color=\"#21618C\">\n",
    "                    <b>• The average age for satisfied and dissatisfied were found to be 37 and 41 respectively<br>\n",
    "• The average distance travelled by satisfied customers was higher than that of \n",
    "neutral/dissatisfied\n",
    "<br> \n",
    "                </font>\n",
    "            </div>\n",
    "        </td>\n",
    "    </tr>\n",
    "</table>"
   ]
  },
  {
   "cell_type": "markdown",
   "id": "a56e0d06",
   "metadata": {},
   "source": [
    "**Categorical Independent vs target variable**"
   ]
  },
  {
   "cell_type": "code",
   "execution_count": 78,
   "id": "4a804c83",
   "metadata": {},
   "outputs": [
    {
     "data": {
      "image/png": "[encoded data removed]",
      "text/plain": [
       "<Figure size 1440x720 with 5 Axes>"
      ]
     },
     "metadata": {
      "needs_background": "light"
     },
     "output_type": "display_data"
    }
   ],
   "source": [
    "plt.rcParams['figure.figsize']=[20,10]\n",
    "for (i,j) in zip(df_cat,range(1,len(df_cat)+1)):\n",
    "    plt.subplot(4,4,j)\n",
    "    sns.countplot(df[i],hue=df['satisfaction'])\n",
    "plt.tight_layout()\n",
    "plt.show()"
   ]
  },
  {
   "cell_type": "markdown",
   "id": "f9a79ee3",
   "metadata": {},
   "source": [
    "<table align=\"left\">\n",
    "    <tr>\n",
    "        <td>\n",
    "            <div align=\"left\", style=\"font-size:120%\">\n",
    "                <font color=\"#21618C\">\n",
    "                    <b>• Loyal customers were found to be satisfied on comparison with disloyal ones<br>\n",
    "• Business travelers’ are highly satisfied<br>\n",
    "• Moreover, passengers business class get high satisfied count, while passengers in the eco \n",
    "and eco plus class were found to be more dissatisfied<br>\n",
    "• The Main Causes of dissatisfaction are: In-Flight Wifi, Online Booking and Online boarding<br>\n",
    "• Less But Observable Dissatisfaction is caused by Leg-Room Services and Cleanliness<br>\n",
    "• Some Dissatisfaction is also caused by Gate Location, Food and Drinks, Seat Comfort, \n",
    "Inflight Entertainment, On Board Services<br>\n",
    "• Online Boarding Shows generally satisfactory ratings, but is one of the main cause of \n",
    "dissatisfaction among the dissatisfied customers\n",
    "\n",
    "<br> \n",
    "                </font>\n",
    "            </div>\n",
    "        </td>\n",
    "    </tr>\n",
    "</table>"
   ]
  },
  {
   "cell_type": "markdown",
   "id": "c82c7551",
   "metadata": {},
   "source": [
    "<a id='Statistical_Tests'></a>\n",
    "### 4.3 Statistical Tests"
   ]
  },
  {
   "cell_type": "markdown",
   "id": "ebbaf050",
   "metadata": {},
   "source": [
    "<a id='Chisquare'></a>\n",
    "### 4.3.1  Chi-square Test of Independence"
   ]
  },
  {
   "cell_type": "markdown",
   "id": "686ce864",
   "metadata": {},
   "source": [
    " So far we have observed that the satisfaction of the customer has a significant relationship with \n",
    "other variables such as the type of travel, their rating of factors like inflight wifi/seat \n",
    "comfort/on-board service etc. We have made these observations by studying the graphs above.\n",
    "We can further validate these observations using statistical tests like Chi-squared \n",
    "contingency(Test of independence) and Kruskal Wallis test."
   ]
  },
  {
   "cell_type": "markdown",
   "id": "5313326c",
   "metadata": {},
   "source": [
    "**Chi-Square test of independence**"
   ]
  },
  {
   "cell_type": "markdown",
   "id": "7f9ae2ff",
   "metadata": {},
   "source": [
    "The Chi-Square test of independence is used to determine if there is a significant relationship \n",
    "between two nominal (categorical) variables. \n",
    "\n",
    "The hypothesis to test the independence of attributes\n",
    "\n",
    "H0: The attributes are independent.\n",
    "\n",
    "H1: The attributes are dependent "
   ]
  },
  {
   "cell_type": "code",
   "execution_count": 79,
   "id": "bba2d53a",
   "metadata": {},
   "outputs": [
    {
     "data": {
      "text/html": [
       "<div>\n",
       "<style scoped>\n",
       "    .dataframe tbody tr th:only-of-type {\n",
       "        vertical-align: middle;\n",
       "    }\n",
       "\n",
       "    .dataframe tbody tr th {\n",
       "        vertical-align: top;\n",
       "    }\n",
       "\n",
       "    .dataframe thead th {\n",
       "        text-align: right;\n",
       "    }\n",
       "</style>\n",
       "<table border=\"1\" class=\"dataframe\">\n",
       "  <thead>\n",
       "    <tr style=\"text-align: right;\">\n",
       "      <th></th>\n",
       "      <th>p_value</th>\n",
       "    </tr>\n",
       "  </thead>\n",
       "  <tbody>\n",
       "    <tr>\n",
       "      <th>Gender</th>\n",
       "      <td>3.521830e-05</td>\n",
       "    </tr>\n",
       "    <tr>\n",
       "      <th>Customer Type</th>\n",
       "      <td>0.000000e+00</td>\n",
       "    </tr>\n",
       "    <tr>\n",
       "      <th>Type of Travel</th>\n",
       "      <td>0.000000e+00</td>\n",
       "    </tr>\n",
       "    <tr>\n",
       "      <th>Class</th>\n",
       "      <td>0.000000e+00</td>\n",
       "    </tr>\n",
       "    <tr>\n",
       "      <th>Flight Distance</th>\n",
       "      <td>0.000000e+00</td>\n",
       "    </tr>\n",
       "    <tr>\n",
       "      <th>Inflight wifi service</th>\n",
       "      <td>0.000000e+00</td>\n",
       "    </tr>\n",
       "    <tr>\n",
       "      <th>Departure/Arrival time convenient</th>\n",
       "      <td>2.473802e-127</td>\n",
       "    </tr>\n",
       "    <tr>\n",
       "      <th>Ease of Online booking</th>\n",
       "      <td>0.000000e+00</td>\n",
       "    </tr>\n",
       "    <tr>\n",
       "      <th>Gate location</th>\n",
       "      <td>0.000000e+00</td>\n",
       "    </tr>\n",
       "    <tr>\n",
       "      <th>Food and drink</th>\n",
       "      <td>0.000000e+00</td>\n",
       "    </tr>\n",
       "    <tr>\n",
       "      <th>Online boarding</th>\n",
       "      <td>0.000000e+00</td>\n",
       "    </tr>\n",
       "    <tr>\n",
       "      <th>Seat comfort</th>\n",
       "      <td>0.000000e+00</td>\n",
       "    </tr>\n",
       "    <tr>\n",
       "      <th>Inflight entertainment</th>\n",
       "      <td>0.000000e+00</td>\n",
       "    </tr>\n",
       "    <tr>\n",
       "      <th>On-board service</th>\n",
       "      <td>0.000000e+00</td>\n",
       "    </tr>\n",
       "    <tr>\n",
       "      <th>Leg room service</th>\n",
       "      <td>0.000000e+00</td>\n",
       "    </tr>\n",
       "    <tr>\n",
       "      <th>Baggage handling</th>\n",
       "      <td>0.000000e+00</td>\n",
       "    </tr>\n",
       "    <tr>\n",
       "      <th>Checkin service</th>\n",
       "      <td>0.000000e+00</td>\n",
       "    </tr>\n",
       "    <tr>\n",
       "      <th>Inflight service</th>\n",
       "      <td>0.000000e+00</td>\n",
       "    </tr>\n",
       "    <tr>\n",
       "      <th>Cleanliness</th>\n",
       "      <td>0.000000e+00</td>\n",
       "    </tr>\n",
       "  </tbody>\n",
       "</table>\n",
       "</div>"
      ],
      "text/plain": [
       "                                         p_value\n",
       "Gender                              3.521830e-05\n",
       "Customer Type                       0.000000e+00\n",
       "Type of Travel                      0.000000e+00\n",
       "Class                               0.000000e+00\n",
       "Flight Distance                     0.000000e+00\n",
       "Inflight wifi service               0.000000e+00\n",
       "Departure/Arrival time convenient  2.473802e-127\n",
       "Ease of Online booking              0.000000e+00\n",
       "Gate location                       0.000000e+00\n",
       "Food and drink                      0.000000e+00\n",
       "Online boarding                     0.000000e+00\n",
       "Seat comfort                        0.000000e+00\n",
       "Inflight entertainment              0.000000e+00\n",
       "On-board service                    0.000000e+00\n",
       "Leg room service                    0.000000e+00\n",
       "Baggage handling                    0.000000e+00\n",
       "Checkin service                     0.000000e+00\n",
       "Inflight service                    0.000000e+00\n",
       "Cleanliness                         0.000000e+00"
      ]
     },
     "execution_count": 79,
     "metadata": {},
     "output_type": "execute_result"
    }
   ],
   "source": [
    "df_cat=df[['Gender', 'Customer Type', 'Type of Travel', 'Class',\n",
    "       'Flight Distance', 'Inflight wifi service',\n",
    "       'Departure/Arrival time convenient', 'Ease of Online booking',\n",
    "       'Gate location', 'Food and drink', 'Online boarding', 'Seat comfort',\n",
    "       'Inflight entertainment', 'On-board service', 'Leg room service',\n",
    "       'Baggage handling', 'Checkin service', 'Inflight service',\n",
    "       'Cleanliness']]\n",
    "df_p=pd.DataFrame()\n",
    "for i in df_cat.columns:\n",
    "    x=pd.crosstab(df[i],df['satisfaction'])\n",
    "    obs_val=x.values \n",
    "    test_stat, p, dof, expected_value = chi2_contingency(observed = obs_val, correction = False)\n",
    "    values =  pd.DataFrame({ \"p_value\": p},index=[i])\n",
    "    df_p = df_p.append(values)\n",
    "df_p"
   ]
  },
  {
   "cell_type": "markdown",
   "id": "f72c9086",
   "metadata": {},
   "source": [
    "Gender and satisfaction\n",
    "\n",
    "For the variable Gender the p_value < α ,so we reject the null hypothesis.This means that the Gender and the target variable satisfied are dependent.Gender plays a role in customer satisfaction.\n",
    "\n",
    "Customer type and satisfaction\n",
    "\n",
    "For the variable Customer Type the p_value < α ,so we reject the null hypothesis.The variable customer type also makes a difference in the customer satisfaction.\n",
    "\n",
    "Type of Travel and satisfaction\n",
    "\n",
    "For the variable Type of travel the p_value < α ,so we reject the null hypothesis.The business travelers travel more frequently than people who travel for personal affairs.So they are more familiar with the flight experiences than the other group.This can create an effect in the customer satisfaction.\n",
    "\n",
    "Class and satisfaction.\n",
    "\n",
    "For the varaible Class the p_value <  α , so we reject the null hypothesis.The variable satisfaction is dependent on the variable satisfaction.\n",
    "\n",
    "Rating variables and satisfaction.\n",
    "\n",
    "For all the variables the p_value < α , so we reject the null hypothesis. The variable satisfaction is \n",
    "dependent on the rating variables.\n",
    "\n"
   ]
  },
  {
   "cell_type": "markdown",
   "id": "7e487dd6",
   "metadata": {},
   "source": [
    "<a id='Kruskal_Wallis_Test'></a>\n",
    "### 4.3.2  Kruskal Wallis Test"
   ]
  },
  {
   "cell_type": "markdown",
   "id": "63521270",
   "metadata": {},
   "source": [
    "It is used to check the equality of population medians for more than two independent samples. \n",
    "It is a non-parametric test that works similar to ANOVA, but doesn’t require the tests of \n",
    "normality and equal variances to be satisfied.\n",
    "\n",
    "**Kruskal Wallis Test**\n",
    "\n",
    "The null and alternative hypothesis is given as:\n",
    "\n",
    "H0:The median of all treatments are the same.\n",
    "\n",
    "H1: At least one treatment has a different median.\n"
   ]
  },
  {
   "cell_type": "code",
   "execution_count": 131,
   "id": "a0eaab0a",
   "metadata": {
    "scrolled": true
   },
   "outputs": [
    {
     "data": {
      "text/html": [
       "<div>\n",
       "<style scoped>\n",
       "    .dataframe tbody tr th:only-of-type {\n",
       "        vertical-align: middle;\n",
       "    }\n",
       "\n",
       "    .dataframe tbody tr th {\n",
       "        vertical-align: top;\n",
       "    }\n",
       "\n",
       "    .dataframe thead th {\n",
       "        text-align: right;\n",
       "    }\n",
       "</style>\n",
       "<table border=\"1\" class=\"dataframe\">\n",
       "  <thead>\n",
       "    <tr style=\"text-align: right;\">\n",
       "      <th></th>\n",
       "      <th>p_value</th>\n",
       "    </tr>\n",
       "  </thead>\n",
       "  <tbody>\n",
       "    <tr>\n",
       "      <th>Age</th>\n",
       "      <td>0.000000e+00</td>\n",
       "    </tr>\n",
       "    <tr>\n",
       "      <th>Flight Distance</th>\n",
       "      <td>0.000000e+00</td>\n",
       "    </tr>\n",
       "    <tr>\n",
       "      <th>Departure Delay in Minutes</th>\n",
       "      <td>3.580163e-137</td>\n",
       "    </tr>\n",
       "    <tr>\n",
       "      <th>Arrival Delay in Minutes</th>\n",
       "      <td>7.087659e-287</td>\n",
       "    </tr>\n",
       "  </tbody>\n",
       "</table>\n",
       "</div>"
      ],
      "text/plain": [
       "                                  p_value\n",
       "Age                          0.000000e+00\n",
       "Flight Distance              0.000000e+00\n",
       "Departure Delay in Minutes  3.580163e-137\n",
       "Arrival Delay in Minutes    7.087659e-287"
      ]
     },
     "execution_count": 131,
     "metadata": {},
     "output_type": "execute_result"
    }
   ],
   "source": [
    "df_h"
   ]
  },
  {
   "cell_type": "markdown",
   "id": "903fab7f",
   "metadata": {},
   "source": [
    "Numerical variables and satisfaction.\n",
    "For all the numerical variables the p_value < α , so we reject the null hypothesis. The variable \n",
    "satisfaction is dependent on the numerical variables."
   ]
  },
  {
   "cell_type": "markdown",
   "id": "9e7eb6d9",
   "metadata": {},
   "source": [
    "<a id='Prepare'></a>\n",
    "### 4.4 Prepare The Data"
   ]
  },
  {
   "cell_type": "markdown",
   "id": "f5fb1757",
   "metadata": {},
   "source": [
    "<a id='Dummy_Encoding'></a>\n",
    "### 4.4.1 Dummy Encoding Of Categorical Variables  "
   ]
  },
  {
   "cell_type": "code",
   "execution_count": 340,
   "id": "003ce29c",
   "metadata": {},
   "outputs": [],
   "source": [
    "from sklearn.preprocessing import LabelEncoder\n",
    "LE=LabelEncoder()\n",
    "df[\"satisfaction\"]=LE.fit_transform(df[\"satisfaction\"])"
   ]
  },
  {
   "cell_type": "code",
   "execution_count": 341,
   "id": "20946a36",
   "metadata": {},
   "outputs": [
    {
     "data": {
      "text/html": [
       "<div>\n",
       "<style scoped>\n",
       "    .dataframe tbody tr th:only-of-type {\n",
       "        vertical-align: middle;\n",
       "    }\n",
       "\n",
       "    .dataframe tbody tr th {\n",
       "        vertical-align: top;\n",
       "    }\n",
       "\n",
       "    .dataframe thead th {\n",
       "        text-align: right;\n",
       "    }\n",
       "</style>\n",
       "<table border=\"1\" class=\"dataframe\">\n",
       "  <thead>\n",
       "    <tr style=\"text-align: right;\">\n",
       "      <th></th>\n",
       "      <th>Age</th>\n",
       "      <th>Flight Distance</th>\n",
       "      <th>Inflight wifi service</th>\n",
       "      <th>Departure/Arrival time convenient</th>\n",
       "      <th>Ease of Online booking</th>\n",
       "      <th>Gate location</th>\n",
       "      <th>Food and drink</th>\n",
       "      <th>Online boarding</th>\n",
       "      <th>Seat comfort</th>\n",
       "      <th>Inflight entertainment</th>\n",
       "      <th>On-board service</th>\n",
       "      <th>Leg room service</th>\n",
       "      <th>Baggage handling</th>\n",
       "      <th>Checkin service</th>\n",
       "      <th>Inflight service</th>\n",
       "      <th>Cleanliness</th>\n",
       "      <th>Departure Delay in Minutes</th>\n",
       "      <th>Arrival Delay in Minutes</th>\n",
       "      <th>satisfaction</th>\n",
       "      <th>Gender_Male</th>\n",
       "      <th>Customer Type_disloyal Customer</th>\n",
       "      <th>Type of Travel_Personal Travel</th>\n",
       "      <th>Class_Eco</th>\n",
       "      <th>Class_Eco Plus</th>\n",
       "    </tr>\n",
       "  </thead>\n",
       "  <tbody>\n",
       "    <tr>\n",
       "      <th>0</th>\n",
       "      <td>52</td>\n",
       "      <td>160</td>\n",
       "      <td>5</td>\n",
       "      <td>4</td>\n",
       "      <td>3</td>\n",
       "      <td>4</td>\n",
       "      <td>3</td>\n",
       "      <td>4</td>\n",
       "      <td>3</td>\n",
       "      <td>5</td>\n",
       "      <td>5</td>\n",
       "      <td>5</td>\n",
       "      <td>5</td>\n",
       "      <td>2</td>\n",
       "      <td>5</td>\n",
       "      <td>5</td>\n",
       "      <td>50</td>\n",
       "      <td>44.0</td>\n",
       "      <td>1</td>\n",
       "      <td>0</td>\n",
       "      <td>0</td>\n",
       "      <td>0</td>\n",
       "      <td>1</td>\n",
       "      <td>0</td>\n",
       "    </tr>\n",
       "    <tr>\n",
       "      <th>1</th>\n",
       "      <td>36</td>\n",
       "      <td>2863</td>\n",
       "      <td>1</td>\n",
       "      <td>1</td>\n",
       "      <td>3</td>\n",
       "      <td>1</td>\n",
       "      <td>5</td>\n",
       "      <td>4</td>\n",
       "      <td>5</td>\n",
       "      <td>4</td>\n",
       "      <td>4</td>\n",
       "      <td>4</td>\n",
       "      <td>4</td>\n",
       "      <td>3</td>\n",
       "      <td>4</td>\n",
       "      <td>5</td>\n",
       "      <td>0</td>\n",
       "      <td>0.0</td>\n",
       "      <td>1</td>\n",
       "      <td>0</td>\n",
       "      <td>0</td>\n",
       "      <td>0</td>\n",
       "      <td>0</td>\n",
       "      <td>0</td>\n",
       "    </tr>\n",
       "  </tbody>\n",
       "</table>\n",
       "</div>"
      ],
      "text/plain": [
       "   Age  Flight Distance  Inflight wifi service  \\\n",
       "0   52              160                      5   \n",
       "1   36             2863                      1   \n",
       "\n",
       "   Departure/Arrival time convenient  Ease of Online booking  Gate location  \\\n",
       "0                                  4                       3              4   \n",
       "1                                  1                       3              1   \n",
       "\n",
       "   Food and drink  Online boarding  Seat comfort  Inflight entertainment  \\\n",
       "0               3                4             3                       5   \n",
       "1               5                4             5                       4   \n",
       "\n",
       "   On-board service  Leg room service  Baggage handling  Checkin service  \\\n",
       "0                 5                 5                 5                2   \n",
       "1                 4                 4                 4                3   \n",
       "\n",
       "   Inflight service  Cleanliness  Departure Delay in Minutes  \\\n",
       "0                 5            5                          50   \n",
       "1                 4            5                           0   \n",
       "\n",
       "   Arrival Delay in Minutes  satisfaction  Gender_Male  \\\n",
       "0                      44.0             1            0   \n",
       "1                       0.0             1            0   \n",
       "\n",
       "   Customer Type_disloyal Customer  Type of Travel_Personal Travel  Class_Eco  \\\n",
       "0                                0                               0          1   \n",
       "1                                0                               0          0   \n",
       "\n",
       "   Class_Eco Plus  \n",
       "0               0  \n",
       "1               0  "
      ]
     },
     "execution_count": 341,
     "metadata": {},
     "output_type": "execute_result"
    }
   ],
   "source": [
    "df_cat=df[[\"Gender\",'Customer Type','Type of Travel', 'Class']]\n",
    "df=pd.get_dummies(df,columns=df_cat.columns,drop_first=True)\n",
    "df.head(2)"
   ]
  },
  {
   "cell_type": "code",
   "execution_count": 86,
   "id": "861a0764",
   "metadata": {},
   "outputs": [
    {
     "data": {
      "text/plain": [
       "(129487, 24)"
      ]
     },
     "execution_count": 86,
     "metadata": {},
     "output_type": "execute_result"
    }
   ],
   "source": [
    "df.shape"
   ]
  },
  {
   "cell_type": "markdown",
   "id": "f387bd92",
   "metadata": {},
   "source": [
    "##### Scorecard"
   ]
  },
  {
   "cell_type": "code",
   "execution_count": 342,
   "id": "f27ef410",
   "metadata": {},
   "outputs": [
    {
     "data": {
      "text/html": [
       "<div>\n",
       "<style scoped>\n",
       "    .dataframe tbody tr th:only-of-type {\n",
       "        vertical-align: middle;\n",
       "    }\n",
       "\n",
       "    .dataframe tbody tr th {\n",
       "        vertical-align: top;\n",
       "    }\n",
       "\n",
       "    .dataframe thead th {\n",
       "        text-align: right;\n",
       "    }\n",
       "</style>\n",
       "<table border=\"1\" class=\"dataframe\">\n",
       "  <thead>\n",
       "    <tr style=\"text-align: right;\">\n",
       "      <th></th>\n",
       "    </tr>\n",
       "  </thead>\n",
       "  <tbody>\n",
       "    <tr>\n",
       "      <th>Model_Name</th>\n",
       "    </tr>\n",
       "    <tr>\n",
       "      <th>TN</th>\n",
       "    </tr>\n",
       "    <tr>\n",
       "      <th>FN</th>\n",
       "    </tr>\n",
       "    <tr>\n",
       "      <th>TP</th>\n",
       "    </tr>\n",
       "    <tr>\n",
       "      <th>FP</th>\n",
       "    </tr>\n",
       "    <tr>\n",
       "      <th>Accuracy</th>\n",
       "    </tr>\n",
       "    <tr>\n",
       "      <th>Kfold_accuracy</th>\n",
       "    </tr>\n",
       "    <tr>\n",
       "      <th>F1-score</th>\n",
       "    </tr>\n",
       "    <tr>\n",
       "      <th>ROC-AUCscore</th>\n",
       "    </tr>\n",
       "  </tbody>\n",
       "</table>\n",
       "</div>"
      ],
      "text/plain": [
       "Empty DataFrame\n",
       "Columns: []\n",
       "Index: [Model_Name, TN, FN, TP, FP, Accuracy, Kfold_accuracy, F1-score, ROC-AUCscore]"
      ]
     },
     "execution_count": 342,
     "metadata": {},
     "output_type": "execute_result"
    }
   ],
   "source": [
    "scorecard=pd.DataFrame(index=[\"Model_Name\",\"TN\",\"FN\",\"TP\",\"FP\",\"Accuracy\",\"Kfold_accuracy\",\"F1-score\",\"ROC-AUCscore\"])\n",
    "scorecard"
   ]
  },
  {
   "cell_type": "markdown",
   "id": "a5779b22",
   "metadata": {},
   "source": [
    "<a id='Base_Model'></a>\n",
    "### 5. Logistic Regression"
   ]
  },
  {
   "cell_type": "markdown",
   "id": "b4005b62",
   "metadata": {},
   "source": [
    "<table align=\"left\">\n",
    "    <tr>\n",
    "        <td>\n",
    "            <div align=\"left\", style=\"font-size:120%\">\n",
    "                <font color=\"#21618C\">\n",
    "                    <b>We used Logistic Regression for our base model:?<br>\n",
    "• Logistic Regression is a binary classification algorithm. It predicts the probability of \n",
    "occurrence of a label class.<br>\n",
    "• Consider that logistic regression is used to identify whether the consumer satisfied or not.\n",
    "<br> \n",
    "                </font>\n",
    "            </div>\n",
    "        </td>\n",
    "    </tr>\n",
    "</table>"
   ]
  },
  {
   "cell_type": "markdown",
   "id": "5d96176f",
   "metadata": {},
   "source": [
    "<a id='Train_Test_Split'></a>\n",
    "### 5.1 Train Test Split"
   ]
  },
  {
   "cell_type": "code",
   "execution_count": 343,
   "id": "36490dde",
   "metadata": {},
   "outputs": [],
   "source": [
    "X=df.drop(\"satisfaction\",axis=1)\n",
    "Y=df[\"satisfaction\"]\n",
    "from sklearn.model_selection import train_test_split\n",
    "xtrain,xtest,ytrain,ytest=train_test_split(X,Y,train_size=0.7,random_state=100)"
   ]
  },
  {
   "cell_type": "markdown",
   "id": "18dc90fb",
   "metadata": {},
   "source": [
    "#### Base Model"
   ]
  },
  {
   "cell_type": "code",
   "execution_count": 344,
   "id": "52ed699c",
   "metadata": {},
   "outputs": [
    {
     "name": "stdout",
     "output_type": "stream",
     "text": [
      "              precision    recall  f1-score   support\n",
      "\n",
      "           0       0.85      0.81      0.83     21972\n",
      "           1       0.76      0.82      0.79     16875\n",
      "\n",
      "    accuracy                           0.81     38847\n",
      "   macro avg       0.81      0.81      0.81     38847\n",
      "weighted avg       0.81      0.81      0.81     38847\n",
      "\n"
     ]
    }
   ],
   "source": [
    "from sklearn.linear_model import LogisticRegression\n",
    "LR=LogisticRegression()\n",
    "model1=LR.fit(xtrain,ytrain)\n",
    "ypred=model1.predict(xtest)\n",
    "from sklearn.metrics import classification_report\n",
    "print(classification_report(ytest,ypred))"
   ]
  },
  {
   "cell_type": "code",
   "execution_count": 278,
   "id": "00b30390",
   "metadata": {},
   "outputs": [
    {
     "data": {
      "image/png": "[encoded data removed]",
      "text/plain": [
       "<Figure size 360x360 with 1 Axes>"
      ]
     },
     "metadata": {
      "needs_background": "light"
     },
     "output_type": "display_data"
    }
   ],
   "source": [
    "xtrain[df_num.columns].boxplot()\n",
    "plt.xticks(rotation=90)\n",
    "plt.show()"
   ]
  },
  {
   "cell_type": "code",
   "execution_count": 345,
   "id": "270a7d35",
   "metadata": {},
   "outputs": [
    {
     "data": {
      "text/plain": [
       "(0.81, 0.79)"
      ]
     },
     "execution_count": 345,
     "metadata": {},
     "output_type": "execute_result"
    }
   ],
   "source": [
    "from sklearn.metrics import f1_score,accuracy_score\n",
    "round(accuracy_score(ytest,ypred),2),round(f1_score(ytest,ypred),2)"
   ]
  },
  {
   "cell_type": "code",
   "execution_count": 346,
   "id": "69acfdf5",
   "metadata": {},
   "outputs": [
    {
     "name": "stdout",
     "output_type": "stream",
     "text": [
      "[0.80925168 0.82925322 0.81064175 0.81172291 0.7627616  0.80817052\n",
      " 0.8125724  0.82252085 0.81495212 0.80468026]\n",
      "mean score 0.81\n"
     ]
    }
   ],
   "source": [
    "from sklearn.model_selection import KFold,cross_val_score\n",
    "cv = KFold(n_splits=10, random_state=1, shuffle=True)\n",
    "\n",
    "scores = cross_val_score(model1, X,Y,\n",
    "                         cv=cv, n_jobs=-1)\n",
    "\n",
    "print(abs(scores))\n",
    "print(\"mean score\",round(np.mean(abs(scores)),2))"
   ]
  },
  {
   "cell_type": "code",
   "execution_count": 168,
   "id": "d4c4c686",
   "metadata": {},
   "outputs": [],
   "source": [
    "from sklearn.metrics import confusion_matrix\n",
    "from matplotlib.colors import ListedColormap"
   ]
  },
  {
   "cell_type": "code",
   "execution_count": 210,
   "id": "62efbc4f",
   "metadata": {},
   "outputs": [],
   "source": [
    "plt.rcParams[\"figure.figsize\"]=[5,5]"
   ]
  },
  {
   "cell_type": "code",
   "execution_count": 347,
   "id": "ec4c2094",
   "metadata": {},
   "outputs": [
    {
     "data": {
      "image/png": "[encoded data removed]",
      "text/plain": [
       "<Figure size 504x504 with 1 Axes>"
      ]
     },
     "metadata": {
      "needs_background": "light"
     },
     "output_type": "display_data"
    }
   ],
   "source": [
    "cm = confusion_matrix(ytest, ypred)\n",
    "conf_matrix = pd.DataFrame(data = cm,columns = ['Predicted:0','Predicted:1'], index = ['Actual:0','Actual:1'])\n",
    "sns.heatmap(conf_matrix, annot = True, fmt = 'd', cmap = ListedColormap(['lightskyblue']), cbar = False, \n",
    "            linewidths = 0.1, annot_kws = {'size':25})\n",
    "plt.xticks(fontsize = 20)\n",
    "plt.yticks(fontsize = 20)\n",
    "plt.show()"
   ]
  },
  {
   "cell_type": "code",
   "execution_count": 348,
   "id": "2c959054",
   "metadata": {},
   "outputs": [
    {
     "data": {
      "text/plain": [
       "(17702, 3101, 13774, 4270)"
      ]
     },
     "execution_count": 348,
     "metadata": {},
     "output_type": "execute_result"
    }
   ],
   "source": [
    "cm[0,0],cm[1,0],cm[1,1],cm[0,1]"
   ]
  },
  {
   "cell_type": "code",
   "execution_count": 349,
   "id": "129ac335",
   "metadata": {},
   "outputs": [],
   "source": [
    "from sklearn.metrics import roc_curve,roc_curve\n",
    "from sklearn import metrics"
   ]
  },
  {
   "cell_type": "code",
   "execution_count": 350,
   "id": "4862c598",
   "metadata": {},
   "outputs": [
    {
     "data": {
      "text/html": [
       "<div>\n",
       "<style scoped>\n",
       "    .dataframe tbody tr th:only-of-type {\n",
       "        vertical-align: middle;\n",
       "    }\n",
       "\n",
       "    .dataframe tbody tr th {\n",
       "        vertical-align: top;\n",
       "    }\n",
       "\n",
       "    .dataframe thead th {\n",
       "        text-align: right;\n",
       "    }\n",
       "</style>\n",
       "<table border=\"1\" class=\"dataframe\">\n",
       "  <thead>\n",
       "    <tr style=\"text-align: right;\">\n",
       "      <th></th>\n",
       "    </tr>\n",
       "  </thead>\n",
       "  <tbody>\n",
       "    <tr>\n",
       "      <th>Model_Name</th>\n",
       "    </tr>\n",
       "    <tr>\n",
       "      <th>TN</th>\n",
       "    </tr>\n",
       "    <tr>\n",
       "      <th>FN</th>\n",
       "    </tr>\n",
       "    <tr>\n",
       "      <th>TP</th>\n",
       "    </tr>\n",
       "    <tr>\n",
       "      <th>FP</th>\n",
       "    </tr>\n",
       "    <tr>\n",
       "      <th>Accuracy</th>\n",
       "    </tr>\n",
       "    <tr>\n",
       "      <th>Kfold_accuracy</th>\n",
       "    </tr>\n",
       "    <tr>\n",
       "      <th>F1-score</th>\n",
       "    </tr>\n",
       "    <tr>\n",
       "      <th>ROC-AUCscore</th>\n",
       "    </tr>\n",
       "  </tbody>\n",
       "</table>\n",
       "</div>"
      ],
      "text/plain": [
       "Empty DataFrame\n",
       "Columns: []\n",
       "Index: [Model_Name, TN, FN, TP, FP, Accuracy, Kfold_accuracy, F1-score, ROC-AUCscore]"
      ]
     },
     "execution_count": 350,
     "metadata": {},
     "output_type": "execute_result"
    }
   ],
   "source": [
    "scorecard"
   ]
  },
  {
   "cell_type": "code",
   "execution_count": 318,
   "id": "dbe52600",
   "metadata": {},
   "outputs": [
    {
     "data": {
      "image/png": "[encoded data removed]",
      "text/plain": [
       "<Figure size 504x504 with 1 Axes>"
      ]
     },
     "metadata": {
      "needs_background": "light"
     },
     "output_type": "display_data"
    }
   ],
   "source": [
    "fpr, tpr, thresholds = roc_curve(ytest, ypred)\n",
    "plt.plot(fpr, tpr)\n",
    "plt.xlim([0.0, 1.0])\n",
    "plt.ylim([0.0, 1.0])\n",
    "plt.plot([0, 1], [0, 1],'r--')\n",
    "plt.title('ROC curve for Satisfaction Prediction Classifier', fontsize = 15)\n",
    "plt.xlabel('False positive rate (1-Specificity)', fontsize = 15)\n",
    "plt.ylabel('True positive rate (Sensitivity)', fontsize = 15)\n",
    "plt.text(x = 0.02, y = 0.9, s = ('AUC Score:', round(metrics.roc_auc_score(ytest, ypred),4)))\n",
    "plt.grid(True)"
   ]
  },
  {
   "cell_type": "code",
   "execution_count": 351,
   "id": "68b0ee64",
   "metadata": {},
   "outputs": [
    {
     "data": {
      "text/html": [
       "<div>\n",
       "<style scoped>\n",
       "    .dataframe tbody tr th:only-of-type {\n",
       "        vertical-align: middle;\n",
       "    }\n",
       "\n",
       "    .dataframe tbody tr th {\n",
       "        vertical-align: top;\n",
       "    }\n",
       "\n",
       "    .dataframe thead th {\n",
       "        text-align: right;\n",
       "    }\n",
       "</style>\n",
       "<table border=\"1\" class=\"dataframe\">\n",
       "  <thead>\n",
       "    <tr style=\"text-align: right;\">\n",
       "      <th></th>\n",
       "    </tr>\n",
       "  </thead>\n",
       "  <tbody>\n",
       "    <tr>\n",
       "      <th>Model_Name</th>\n",
       "    </tr>\n",
       "    <tr>\n",
       "      <th>TN</th>\n",
       "    </tr>\n",
       "    <tr>\n",
       "      <th>FN</th>\n",
       "    </tr>\n",
       "    <tr>\n",
       "      <th>TP</th>\n",
       "    </tr>\n",
       "    <tr>\n",
       "      <th>FP</th>\n",
       "    </tr>\n",
       "    <tr>\n",
       "      <th>Accuracy</th>\n",
       "    </tr>\n",
       "    <tr>\n",
       "      <th>Kfold_accuracy</th>\n",
       "    </tr>\n",
       "    <tr>\n",
       "      <th>F1-score</th>\n",
       "    </tr>\n",
       "    <tr>\n",
       "      <th>ROC-AUCscore</th>\n",
       "    </tr>\n",
       "  </tbody>\n",
       "</table>\n",
       "</div>"
      ],
      "text/plain": [
       "Empty DataFrame\n",
       "Columns: []\n",
       "Index: [Model_Name, TN, FN, TP, FP, Accuracy, Kfold_accuracy, F1-score, ROC-AUCscore]"
      ]
     },
     "execution_count": 351,
     "metadata": {},
     "output_type": "execute_result"
    }
   ],
   "source": [
    "scorecard"
   ]
  },
  {
   "cell_type": "code",
   "execution_count": 352,
   "id": "889dc616",
   "metadata": {},
   "outputs": [],
   "source": [
    "scorecard[\"Base_Model\"]=[\"BaseModel\",cm[0,0],cm[1,0],cm[1,1],cm[0,1],round(accuracy_score(ytest,ypred),2),round(np.mean(abs(scores)),2),round(f1_score(ytest,ypred),2),round(metrics.roc_auc_score(ytest, ypred),2)]"
   ]
  },
  {
   "cell_type": "code",
   "execution_count": 353,
   "id": "a210ff25",
   "metadata": {},
   "outputs": [
    {
     "data": {
      "text/html": [
       "<div>\n",
       "<style scoped>\n",
       "    .dataframe tbody tr th:only-of-type {\n",
       "        vertical-align: middle;\n",
       "    }\n",
       "\n",
       "    .dataframe tbody tr th {\n",
       "        vertical-align: top;\n",
       "    }\n",
       "\n",
       "    .dataframe thead th {\n",
       "        text-align: right;\n",
       "    }\n",
       "</style>\n",
       "<table border=\"1\" class=\"dataframe\">\n",
       "  <thead>\n",
       "    <tr style=\"text-align: right;\">\n",
       "      <th></th>\n",
       "      <th>Base_Model</th>\n",
       "    </tr>\n",
       "  </thead>\n",
       "  <tbody>\n",
       "    <tr>\n",
       "      <th>Model_Name</th>\n",
       "      <td>BaseModel</td>\n",
       "    </tr>\n",
       "    <tr>\n",
       "      <th>TN</th>\n",
       "      <td>17702</td>\n",
       "    </tr>\n",
       "    <tr>\n",
       "      <th>FN</th>\n",
       "      <td>3101</td>\n",
       "    </tr>\n",
       "    <tr>\n",
       "      <th>TP</th>\n",
       "      <td>13774</td>\n",
       "    </tr>\n",
       "    <tr>\n",
       "      <th>FP</th>\n",
       "      <td>4270</td>\n",
       "    </tr>\n",
       "    <tr>\n",
       "      <th>Accuracy</th>\n",
       "      <td>0.81</td>\n",
       "    </tr>\n",
       "    <tr>\n",
       "      <th>Kfold_accuracy</th>\n",
       "      <td>0.81</td>\n",
       "    </tr>\n",
       "    <tr>\n",
       "      <th>F1-score</th>\n",
       "      <td>0.79</td>\n",
       "    </tr>\n",
       "    <tr>\n",
       "      <th>ROC-AUCscore</th>\n",
       "      <td>0.81</td>\n",
       "    </tr>\n",
       "  </tbody>\n",
       "</table>\n",
       "</div>"
      ],
      "text/plain": [
       "               Base_Model\n",
       "Model_Name      BaseModel\n",
       "TN                  17702\n",
       "FN                   3101\n",
       "TP                  13774\n",
       "FP                   4270\n",
       "Accuracy             0.81\n",
       "Kfold_accuracy       0.81\n",
       "F1-score             0.79\n",
       "ROC-AUCscore         0.81"
      ]
     },
     "execution_count": 353,
     "metadata": {},
     "output_type": "execute_result"
    }
   ],
   "source": [
    "scorecard"
   ]
  },
  {
   "cell_type": "markdown",
   "id": "7589476c",
   "metadata": {},
   "source": [
    "### Model Building"
   ]
  },
  {
   "cell_type": "markdown",
   "id": "1e121c57",
   "metadata": {},
   "source": [
    "#### Scaling numerical variables for logistic regression"
   ]
  },
  {
   "cell_type": "code",
   "execution_count": 354,
   "id": "1394dbc2",
   "metadata": {},
   "outputs": [],
   "source": [
    "X=df.drop(\"satisfaction\",axis=1)\n",
    "Y=df[\"satisfaction\"]\n",
    "from sklearn.model_selection import train_test_split\n",
    "xtrain,xtest,ytrain,ytest=train_test_split(X,Y,train_size=0.7,random_state=100)"
   ]
  },
  {
   "cell_type": "code",
   "execution_count": 355,
   "id": "787af86d",
   "metadata": {},
   "outputs": [],
   "source": [
    "from sklearn.preprocessing import PowerTransformer\n",
    "PT=PowerTransformer()\n",
    "df_num=df[['Age','Flight Distance','Departure Delay in Minutes','Arrival Delay in Minutes']]\n",
    "xtrain[df_num.columns]=PT.fit_transform(xtrain[df_num.columns])\n",
    "xtest[df_num.columns]=PT.transform(xtest[df_num.columns])"
   ]
  },
  {
   "cell_type": "code",
   "execution_count": 356,
   "id": "32e4297c",
   "metadata": {},
   "outputs": [],
   "source": [
    "from sklearn.preprocessing import StandardScaler\n",
    "SS=StandardScaler()\n",
    "df_num=df[['Age','Flight Distance','Departure Delay in Minutes','Arrival Delay in Minutes']]\n",
    "xtrain[df_num.columns]=SS.fit_transform(xtrain[df_num.columns])\n",
    "xtest[df_num.columns]=SS.transform(xtest[df_num.columns])"
   ]
  },
  {
   "cell_type": "code",
   "execution_count": 357,
   "id": "58b84ce7",
   "metadata": {},
   "outputs": [
    {
     "data": {
      "text/html": [
       "<div>\n",
       "<style scoped>\n",
       "    .dataframe tbody tr th:only-of-type {\n",
       "        vertical-align: middle;\n",
       "    }\n",
       "\n",
       "    .dataframe tbody tr th {\n",
       "        vertical-align: top;\n",
       "    }\n",
       "\n",
       "    .dataframe thead th {\n",
       "        text-align: right;\n",
       "    }\n",
       "</style>\n",
       "<table border=\"1\" class=\"dataframe\">\n",
       "  <thead>\n",
       "    <tr style=\"text-align: right;\">\n",
       "      <th></th>\n",
       "      <th>Age</th>\n",
       "      <th>Flight Distance</th>\n",
       "      <th>Inflight wifi service</th>\n",
       "      <th>Departure/Arrival time convenient</th>\n",
       "      <th>Ease of Online booking</th>\n",
       "      <th>Gate location</th>\n",
       "      <th>Food and drink</th>\n",
       "      <th>Online boarding</th>\n",
       "      <th>Seat comfort</th>\n",
       "      <th>Inflight entertainment</th>\n",
       "      <th>On-board service</th>\n",
       "      <th>Leg room service</th>\n",
       "      <th>Baggage handling</th>\n",
       "      <th>Checkin service</th>\n",
       "      <th>Inflight service</th>\n",
       "      <th>Cleanliness</th>\n",
       "      <th>Departure Delay in Minutes</th>\n",
       "      <th>Arrival Delay in Minutes</th>\n",
       "      <th>Gender_Male</th>\n",
       "      <th>Customer Type_disloyal Customer</th>\n",
       "      <th>Type of Travel_Personal Travel</th>\n",
       "      <th>Class_Eco</th>\n",
       "      <th>Class_Eco Plus</th>\n",
       "    </tr>\n",
       "  </thead>\n",
       "  <tbody>\n",
       "    <tr>\n",
       "      <th>90954</th>\n",
       "      <td>0.451220</td>\n",
       "      <td>-0.763460</td>\n",
       "      <td>2</td>\n",
       "      <td>2</td>\n",
       "      <td>2</td>\n",
       "      <td>1</td>\n",
       "      <td>4</td>\n",
       "      <td>2</td>\n",
       "      <td>4</td>\n",
       "      <td>4</td>\n",
       "      <td>1</td>\n",
       "      <td>3</td>\n",
       "      <td>2</td>\n",
       "      <td>1</td>\n",
       "      <td>2</td>\n",
       "      <td>4</td>\n",
       "      <td>-0.831883</td>\n",
       "      <td>-0.840603</td>\n",
       "      <td>1</td>\n",
       "      <td>0</td>\n",
       "      <td>1</td>\n",
       "      <td>1</td>\n",
       "      <td>0</td>\n",
       "    </tr>\n",
       "    <tr>\n",
       "      <th>59044</th>\n",
       "      <td>-1.584768</td>\n",
       "      <td>-0.108307</td>\n",
       "      <td>1</td>\n",
       "      <td>3</td>\n",
       "      <td>3</td>\n",
       "      <td>3</td>\n",
       "      <td>1</td>\n",
       "      <td>1</td>\n",
       "      <td>1</td>\n",
       "      <td>1</td>\n",
       "      <td>2</td>\n",
       "      <td>2</td>\n",
       "      <td>4</td>\n",
       "      <td>2</td>\n",
       "      <td>3</td>\n",
       "      <td>1</td>\n",
       "      <td>-0.831883</td>\n",
       "      <td>0.871664</td>\n",
       "      <td>1</td>\n",
       "      <td>0</td>\n",
       "      <td>0</td>\n",
       "      <td>0</td>\n",
       "      <td>0</td>\n",
       "    </tr>\n",
       "  </tbody>\n",
       "</table>\n",
       "</div>"
      ],
      "text/plain": [
       "            Age  Flight Distance  Inflight wifi service  \\\n",
       "90954  0.451220        -0.763460                      2   \n",
       "59044 -1.584768        -0.108307                      1   \n",
       "\n",
       "       Departure/Arrival time convenient  Ease of Online booking  \\\n",
       "90954                                  2                       2   \n",
       "59044                                  3                       3   \n",
       "\n",
       "       Gate location  Food and drink  Online boarding  Seat comfort  \\\n",
       "90954              1               4                2             4   \n",
       "59044              3               1                1             1   \n",
       "\n",
       "       Inflight entertainment  On-board service  Leg room service  \\\n",
       "90954                       4                 1                 3   \n",
       "59044                       1                 2                 2   \n",
       "\n",
       "       Baggage handling  Checkin service  Inflight service  Cleanliness  \\\n",
       "90954                 2                1                 2            4   \n",
       "59044                 4                2                 3            1   \n",
       "\n",
       "       Departure Delay in Minutes  Arrival Delay in Minutes  Gender_Male  \\\n",
       "90954                   -0.831883                 -0.840603            1   \n",
       "59044                   -0.831883                  0.871664            1   \n",
       "\n",
       "       Customer Type_disloyal Customer  Type of Travel_Personal Travel  \\\n",
       "90954                                0                               1   \n",
       "59044                                0                               0   \n",
       "\n",
       "       Class_Eco  Class_Eco Plus  \n",
       "90954          1               0  \n",
       "59044          0               0  "
      ]
     },
     "execution_count": 357,
     "metadata": {},
     "output_type": "execute_result"
    }
   ],
   "source": [
    "xtrain.head(2)"
   ]
  },
  {
   "cell_type": "code",
   "execution_count": 358,
   "id": "e6d47e86",
   "metadata": {},
   "outputs": [
    {
     "data": {
      "image/png": "[encoded data removed]",
      "text/plain": [
       "<Figure size 504x504 with 1 Axes>"
      ]
     },
     "metadata": {
      "needs_background": "light"
     },
     "output_type": "display_data"
    }
   ],
   "source": [
    "xtrain[df_num.columns].boxplot()\n",
    "plt.xticks(rotation=90)\n",
    "plt.show()"
   ]
  },
  {
   "cell_type": "code",
   "execution_count": 359,
   "id": "30af50d1",
   "metadata": {},
   "outputs": [
    {
     "name": "stdout",
     "output_type": "stream",
     "text": [
      "              precision    recall  f1-score   support\n",
      "\n",
      "           0       0.88      0.90      0.89     21972\n",
      "           1       0.87      0.84      0.85     16875\n",
      "\n",
      "    accuracy                           0.88     38847\n",
      "   macro avg       0.87      0.87      0.87     38847\n",
      "weighted avg       0.88      0.88      0.87     38847\n",
      "\n"
     ]
    }
   ],
   "source": [
    "LR=LogisticRegression()\n",
    "model2=LR.fit(xtrain,ytrain)\n",
    "ypred=model2.predict(xtest)\n",
    "from sklearn.metrics import classification_report\n",
    "print(classification_report(ytest,ypred))"
   ]
  },
  {
   "cell_type": "code",
   "execution_count": 360,
   "id": "7c1f6e80",
   "metadata": {},
   "outputs": [
    {
     "name": "stdout",
     "output_type": "stream",
     "text": [
      "[0.80925168 0.82925322 0.81064175 0.81172291 0.7627616  0.80817052\n",
      " 0.8125724  0.82252085 0.81495212 0.80468026]\n",
      "mean score 0.81\n"
     ]
    }
   ],
   "source": [
    "from sklearn.model_selection import KFold,cross_val_score\n",
    "cv = KFold(n_splits=10, random_state=1, shuffle=True)\n",
    "\n",
    "scores = cross_val_score(model2, X,Y,\n",
    "                         cv=cv, n_jobs=-1)\n",
    "\n",
    "print(abs(scores))\n",
    "print(\"mean score\",round(np.mean(abs(scores)),2))"
   ]
  },
  {
   "cell_type": "code",
   "execution_count": 361,
   "id": "f5e01ac5",
   "metadata": {},
   "outputs": [
    {
     "data": {
      "image/png": "[encoded data removed]",
      "text/plain": [
       "<Figure size 504x504 with 1 Axes>"
      ]
     },
     "metadata": {
      "needs_background": "light"
     },
     "output_type": "display_data"
    }
   ],
   "source": [
    "cm = confusion_matrix(ytest, ypred)\n",
    "conf_matrix = pd.DataFrame(data = cm,columns = ['Predicted:0','Predicted:1'], index = ['Actual:0','Actual:1'])\n",
    "sns.heatmap(conf_matrix, annot = True, fmt = 'd', cmap = ListedColormap(['lightskyblue']), cbar = False, \n",
    "            linewidths = 0.1, annot_kws = {'size':25})\n",
    "plt.xticks(fontsize = 20)\n",
    "plt.yticks(fontsize = 20)\n",
    "plt.show()"
   ]
  },
  {
   "cell_type": "code",
   "execution_count": 362,
   "id": "d47a255d",
   "metadata": {},
   "outputs": [
    {
     "data": {
      "image/png": "[encoded data removed]",
      "text/plain": [
       "<Figure size 504x504 with 1 Axes>"
      ]
     },
     "metadata": {
      "needs_background": "light"
     },
     "output_type": "display_data"
    }
   ],
   "source": [
    "fpr, tpr, thresholds = roc_curve(ytest, ypred)\n",
    "plt.plot(fpr, tpr)\n",
    "plt.xlim([0.0, 1.0])\n",
    "plt.ylim([0.0, 1.0])\n",
    "plt.plot([0, 1], [0, 1],'r--')\n",
    "plt.title('ROC curve for Satisfaction Prediction Classifier', fontsize = 15)\n",
    "plt.xlabel('False positive rate (1-Specificity)', fontsize = 15)\n",
    "plt.ylabel('True positive rate (Sensitivity)', fontsize = 15)\n",
    "plt.text(x = 0.02, y = 0.9, s = ('AUC Score:', round(metrics.roc_auc_score(ytest, ypred),4)))\n",
    "plt.grid(True)"
   ]
  },
  {
   "cell_type": "code",
   "execution_count": 363,
   "id": "382d9d99",
   "metadata": {},
   "outputs": [],
   "source": [
    "scorecard[\"LR_scaled\"]=[\"LR_Scaled\",cm[0,0],cm[1,0],cm[1,1],cm[0,1],round(accuracy_score(ytest,ypred),2),round(np.mean(abs(scores)),2),round(f1_score(ytest,ypred),2),round(metrics.roc_auc_score(ytest, ypred),2)]"
   ]
  },
  {
   "cell_type": "code",
   "execution_count": 364,
   "id": "125d6178",
   "metadata": {},
   "outputs": [
    {
     "data": {
      "text/html": [
       "<div>\n",
       "<style scoped>\n",
       "    .dataframe tbody tr th:only-of-type {\n",
       "        vertical-align: middle;\n",
       "    }\n",
       "\n",
       "    .dataframe tbody tr th {\n",
       "        vertical-align: top;\n",
       "    }\n",
       "\n",
       "    .dataframe thead th {\n",
       "        text-align: right;\n",
       "    }\n",
       "</style>\n",
       "<table border=\"1\" class=\"dataframe\">\n",
       "  <thead>\n",
       "    <tr style=\"text-align: right;\">\n",
       "      <th></th>\n",
       "      <th>Base_Model</th>\n",
       "      <th>LR_scaled</th>\n",
       "    </tr>\n",
       "  </thead>\n",
       "  <tbody>\n",
       "    <tr>\n",
       "      <th>Model_Name</th>\n",
       "      <td>BaseModel</td>\n",
       "      <td>LR_Scaled</td>\n",
       "    </tr>\n",
       "    <tr>\n",
       "      <th>TN</th>\n",
       "      <td>17702</td>\n",
       "      <td>19837</td>\n",
       "    </tr>\n",
       "    <tr>\n",
       "      <th>FN</th>\n",
       "      <td>3101</td>\n",
       "      <td>2713</td>\n",
       "    </tr>\n",
       "    <tr>\n",
       "      <th>TP</th>\n",
       "      <td>13774</td>\n",
       "      <td>14162</td>\n",
       "    </tr>\n",
       "    <tr>\n",
       "      <th>FP</th>\n",
       "      <td>4270</td>\n",
       "      <td>2135</td>\n",
       "    </tr>\n",
       "    <tr>\n",
       "      <th>Accuracy</th>\n",
       "      <td>0.81</td>\n",
       "      <td>0.88</td>\n",
       "    </tr>\n",
       "    <tr>\n",
       "      <th>Kfold_accuracy</th>\n",
       "      <td>0.81</td>\n",
       "      <td>0.81</td>\n",
       "    </tr>\n",
       "    <tr>\n",
       "      <th>F1-score</th>\n",
       "      <td>0.79</td>\n",
       "      <td>0.85</td>\n",
       "    </tr>\n",
       "    <tr>\n",
       "      <th>ROC-AUCscore</th>\n",
       "      <td>0.81</td>\n",
       "      <td>0.87</td>\n",
       "    </tr>\n",
       "  </tbody>\n",
       "</table>\n",
       "</div>"
      ],
      "text/plain": [
       "               Base_Model  LR_scaled\n",
       "Model_Name      BaseModel  LR_Scaled\n",
       "TN                  17702      19837\n",
       "FN                   3101       2713\n",
       "TP                  13774      14162\n",
       "FP                   4270       2135\n",
       "Accuracy             0.81       0.88\n",
       "Kfold_accuracy       0.81       0.81\n",
       "F1-score             0.79       0.85\n",
       "ROC-AUCscore         0.81       0.87"
      ]
     },
     "execution_count": 364,
     "metadata": {},
     "output_type": "execute_result"
    }
   ],
   "source": [
    "scorecard"
   ]
  },
  {
   "cell_type": "markdown",
   "id": "5de78c49",
   "metadata": {},
   "source": [
    "#### Decision Tree"
   ]
  },
  {
   "cell_type": "code",
   "execution_count": 365,
   "id": "3e3ce562",
   "metadata": {},
   "outputs": [],
   "source": [
    "from sklearn.tree import DecisionTreeClassifier"
   ]
  },
  {
   "cell_type": "code",
   "execution_count": 366,
   "id": "b83c5fd5",
   "metadata": {},
   "outputs": [
    {
     "name": "stdout",
     "output_type": "stream",
     "text": [
      "              precision    recall  f1-score   support\n",
      "\n",
      "           0       0.95      0.95      0.95     21972\n",
      "           1       0.94      0.94      0.94     16875\n",
      "\n",
      "    accuracy                           0.95     38847\n",
      "   macro avg       0.95      0.95      0.95     38847\n",
      "weighted avg       0.95      0.95      0.95     38847\n",
      "\n"
     ]
    }
   ],
   "source": [
    "dt=DecisionTreeClassifier(criterion=\"entropy\",random_state = 10)\n",
    "model3=dt.fit(xtrain,ytrain)\n",
    "ypred=model3.predict(xtest)\n",
    "from sklearn.metrics import classification_report\n",
    "print(classification_report(ytest,ypred))"
   ]
  },
  {
   "cell_type": "code",
   "execution_count": 367,
   "id": "b75338d8",
   "metadata": {},
   "outputs": [
    {
     "name": "stdout",
     "output_type": "stream",
     "text": [
      "[0.94740907 0.94625068 0.94864468 0.94740907 0.94794965 0.94756352\n",
      " 0.94802687 0.94586036 0.94794563 0.94879518]\n",
      "mean score 0.9475854707017834\n"
     ]
    }
   ],
   "source": [
    "from sklearn.model_selection import KFold,cross_val_score\n",
    "cv = KFold(n_splits=10, random_state=1, shuffle=True)\n",
    "\n",
    "scores = cross_val_score(model3, X,Y,\n",
    "                         cv=cv, n_jobs=-1)\n",
    "\n",
    "print(abs(scores))\n",
    "print(\"mean score\",np.mean(abs(scores)))"
   ]
  },
  {
   "cell_type": "code",
   "execution_count": 368,
   "id": "da396154",
   "metadata": {},
   "outputs": [
    {
     "data": {
      "image/png": "[encoded data removed]",
      "text/plain": [
       "<Figure size 504x504 with 1 Axes>"
      ]
     },
     "metadata": {
      "needs_background": "light"
     },
     "output_type": "display_data"
    }
   ],
   "source": [
    "cm = confusion_matrix(ytest, ypred)\n",
    "conf_matrix = pd.DataFrame(data = cm,columns = ['Predicted:0','Predicted:1'], index = ['Actual:0','Actual:1'])\n",
    "sns.heatmap(conf_matrix, annot = True, fmt = 'd', cmap = ListedColormap(['lightskyblue']), cbar = False, \n",
    "            linewidths = 0.1, annot_kws = {'size':25})\n",
    "plt.xticks(fontsize = 20)\n",
    "plt.yticks(fontsize = 20)\n",
    "plt.show()"
   ]
  },
  {
   "cell_type": "code",
   "execution_count": 369,
   "id": "55a75c35",
   "metadata": {},
   "outputs": [
    {
     "data": {
      "image/png": "[encoded data removed]",
      "text/plain": [
       "<Figure size 504x504 with 1 Axes>"
      ]
     },
     "metadata": {
      "needs_background": "light"
     },
     "output_type": "display_data"
    }
   ],
   "source": [
    "fpr, tpr, thresholds = roc_curve(ytest, ypred)\n",
    "plt.plot(fpr, tpr)\n",
    "plt.xlim([0.0, 1.0])\n",
    "plt.ylim([0.0, 1.0])\n",
    "plt.plot([0, 1], [0, 1],'r--')\n",
    "plt.title('ROC curve for Satisfaction Prediction Classifier', fontsize = 15)\n",
    "plt.xlabel('False positive rate (1-Specificity)', fontsize = 15)\n",
    "plt.ylabel('True positive rate (Sensitivity)', fontsize = 15)\n",
    "plt.text(x = 0.02, y = 0.9, s = ('AUC Score:', round(metrics.roc_auc_score(ytest, ypred),4)))\n",
    "plt.grid(True)"
   ]
  },
  {
   "cell_type": "code",
   "execution_count": 371,
   "id": "3871cb4c",
   "metadata": {},
   "outputs": [],
   "source": [
    "scorecard[\"DecisionTree\"]=[\"DecisionTree\",cm[0,0],cm[1,0],cm[1,1],cm[0,1],round(accuracy_score(ytest,ypred),2),round(np.mean(abs(scores)),2),round(f1_score(ytest,ypred),2),round(metrics.roc_auc_score(ytest, ypred),2)]"
   ]
  },
  {
   "cell_type": "code",
   "execution_count": 372,
   "id": "4da7b3e0",
   "metadata": {},
   "outputs": [
    {
     "data": {
      "text/html": [
       "<div>\n",
       "<style scoped>\n",
       "    .dataframe tbody tr th:only-of-type {\n",
       "        vertical-align: middle;\n",
       "    }\n",
       "\n",
       "    .dataframe tbody tr th {\n",
       "        vertical-align: top;\n",
       "    }\n",
       "\n",
       "    .dataframe thead th {\n",
       "        text-align: right;\n",
       "    }\n",
       "</style>\n",
       "<table border=\"1\" class=\"dataframe\">\n",
       "  <thead>\n",
       "    <tr style=\"text-align: right;\">\n",
       "      <th></th>\n",
       "      <th>Base_Model</th>\n",
       "      <th>LR_scaled</th>\n",
       "      <th>DecisionTree</th>\n",
       "    </tr>\n",
       "  </thead>\n",
       "  <tbody>\n",
       "    <tr>\n",
       "      <th>Model_Name</th>\n",
       "      <td>BaseModel</td>\n",
       "      <td>LR_Scaled</td>\n",
       "      <td>DecisionTree</td>\n",
       "    </tr>\n",
       "    <tr>\n",
       "      <th>TN</th>\n",
       "      <td>17702</td>\n",
       "      <td>19837</td>\n",
       "      <td>20953</td>\n",
       "    </tr>\n",
       "    <tr>\n",
       "      <th>FN</th>\n",
       "      <td>3101</td>\n",
       "      <td>2713</td>\n",
       "      <td>1063</td>\n",
       "    </tr>\n",
       "    <tr>\n",
       "      <th>TP</th>\n",
       "      <td>13774</td>\n",
       "      <td>14162</td>\n",
       "      <td>15812</td>\n",
       "    </tr>\n",
       "    <tr>\n",
       "      <th>FP</th>\n",
       "      <td>4270</td>\n",
       "      <td>2135</td>\n",
       "      <td>1019</td>\n",
       "    </tr>\n",
       "    <tr>\n",
       "      <th>Accuracy</th>\n",
       "      <td>0.81</td>\n",
       "      <td>0.88</td>\n",
       "      <td>0.95</td>\n",
       "    </tr>\n",
       "    <tr>\n",
       "      <th>Kfold_accuracy</th>\n",
       "      <td>0.81</td>\n",
       "      <td>0.81</td>\n",
       "      <td>0.95</td>\n",
       "    </tr>\n",
       "    <tr>\n",
       "      <th>F1-score</th>\n",
       "      <td>0.79</td>\n",
       "      <td>0.85</td>\n",
       "      <td>0.94</td>\n",
       "    </tr>\n",
       "    <tr>\n",
       "      <th>ROC-AUCscore</th>\n",
       "      <td>0.81</td>\n",
       "      <td>0.87</td>\n",
       "      <td>0.95</td>\n",
       "    </tr>\n",
       "  </tbody>\n",
       "</table>\n",
       "</div>"
      ],
      "text/plain": [
       "               Base_Model  LR_scaled  DecisionTree\n",
       "Model_Name      BaseModel  LR_Scaled  DecisionTree\n",
       "TN                  17702      19837         20953\n",
       "FN                   3101       2713          1063\n",
       "TP                  13774      14162         15812\n",
       "FP                   4270       2135          1019\n",
       "Accuracy             0.81       0.88          0.95\n",
       "Kfold_accuracy       0.81       0.81          0.95\n",
       "F1-score             0.79       0.85          0.94\n",
       "ROC-AUCscore         0.81       0.87          0.95"
      ]
     },
     "execution_count": 372,
     "metadata": {},
     "output_type": "execute_result"
    }
   ],
   "source": [
    "scorecard"
   ]
  },
  {
   "cell_type": "markdown",
   "id": "f78f949c",
   "metadata": {},
   "source": [
    "##### Tuned Decision Tree"
   ]
  },
  {
   "cell_type": "code",
   "execution_count": 240,
   "id": "832fd820",
   "metadata": {},
   "outputs": [
    {
     "name": "stdout",
     "output_type": "stream",
     "text": [
      "best params: {'criterion': 'entropy', 'max_depth': 11, 'min_samples_split': 5}\n"
     ]
    }
   ],
   "source": [
    "#Tuned decision tree\n",
    "tuned_p=[{\"criterion\":[\"gini\",\"entropy\"],\"max_depth\":range(2,12),\"min_samples_split\":[5,10,15,20,25]}]\n",
    "tree_grid=GridSearchCV(estimator=dt,param_grid=tuned_p,cv=5,n_jobs=-1,scoring=\"accuracy\")\n",
    "tree_grid.fit(xtrain,ytrain)\n",
    "print(\"best params:\",tree_grid.best_params_)"
   ]
  },
  {
   "cell_type": "code",
   "execution_count": 373,
   "id": "09889dd6",
   "metadata": {},
   "outputs": [
    {
     "name": "stdout",
     "output_type": "stream",
     "text": [
      "              precision    recall  f1-score   support\n",
      "\n",
      "           0       0.94      0.96      0.95     21972\n",
      "           1       0.95      0.93      0.94     16875\n",
      "\n",
      "    accuracy                           0.95     38847\n",
      "   macro avg       0.95      0.95      0.95     38847\n",
      "weighted avg       0.95      0.95      0.95     38847\n",
      "\n"
     ]
    }
   ],
   "source": [
    "dt=DecisionTreeClassifier(criterion=\"entropy\",max_depth=11,min_samples_split=5,random_state = 10)\n",
    "model4=dt.fit(xtrain,ytrain)\n",
    "ypred=model4.predict(xtest)\n",
    "from sklearn.metrics import classification_report\n",
    "print(classification_report(ytest,ypred))"
   ]
  },
  {
   "cell_type": "code",
   "execution_count": 374,
   "id": "61124232",
   "metadata": {},
   "outputs": [
    {
     "name": "stdout",
     "output_type": "stream",
     "text": [
      "[0.95034366 0.95034366 0.94733184 0.94717739 0.94926249 0.94926249\n",
      " 0.94671403 0.9476367  0.94964473 0.94894964]\n",
      "mean score 0.9486666633027891\n"
     ]
    }
   ],
   "source": [
    "from sklearn.model_selection import KFold,cross_val_score\n",
    "cv = KFold(n_splits=10, random_state=1, shuffle=True)\n",
    "\n",
    "scores = cross_val_score(dt, X,Y,\n",
    "                         cv=cv, n_jobs=-1)\n",
    "\n",
    "print(abs(scores))\n",
    "print(\"mean score\",np.mean(abs(scores)))"
   ]
  },
  {
   "cell_type": "code",
   "execution_count": 375,
   "id": "84d250ea",
   "metadata": {},
   "outputs": [
    {
     "data": {
      "image/png": "[encoded data removed]",
      "text/plain": [
       "<Figure size 504x504 with 1 Axes>"
      ]
     },
     "metadata": {
      "needs_background": "light"
     },
     "output_type": "display_data"
    }
   ],
   "source": [
    "cm = confusion_matrix(ytest, ypred)\n",
    "conf_matrix = pd.DataFrame(data = cm,columns = ['Predicted:0','Predicted:1'], index = ['Actual:0','Actual:1'])\n",
    "sns.heatmap(conf_matrix, annot = True, fmt = 'd', cmap = ListedColormap(['lightskyblue']), cbar = False, \n",
    "            linewidths = 0.1, annot_kws = {'size':25})\n",
    "plt.xticks(fontsize = 20)\n",
    "plt.yticks(fontsize = 20)\n",
    "plt.show()"
   ]
  },
  {
   "cell_type": "code",
   "execution_count": 376,
   "id": "db4ded6d",
   "metadata": {
    "scrolled": true
   },
   "outputs": [
    {
     "data": {
      "image/png": "[encoded data removed]",
      "text/plain": [
       "<Figure size 504x504 with 1 Axes>"
      ]
     },
     "metadata": {
      "needs_background": "light"
     },
     "output_type": "display_data"
    }
   ],
   "source": [
    "fpr, tpr, thresholds = roc_curve(ytest, ypred)\n",
    "plt.plot(fpr, tpr)\n",
    "plt.xlim([0.0, 1.0])\n",
    "plt.ylim([0.0, 1.0])\n",
    "plt.plot([0, 1], [0, 1],'r--')\n",
    "plt.title('ROC curve for Satisfaction Prediction Classifier', fontsize = 15)\n",
    "plt.xlabel('False positive rate (1-Specificity)', fontsize = 15)\n",
    "plt.ylabel('True positive rate (Sensitivity)', fontsize = 15)\n",
    "plt.text(x = 0.02, y = 0.9, s = ('AUC Score:', round(metrics.roc_auc_score(ytest, ypred),4)))\n",
    "plt.grid(True)"
   ]
  },
  {
   "cell_type": "code",
   "execution_count": 377,
   "id": "84803c96",
   "metadata": {},
   "outputs": [],
   "source": [
    "scorecard[\"DecisionTreeTuned\"]=[\"DecisionTree_tuned\",cm[0,0],cm[1,0],cm[1,1],cm[0,1],round(accuracy_score(ytest,ypred),2),round(np.mean(abs(scores)),2),round(f1_score(ytest,ypred),2),round(metrics.roc_auc_score(ytest, ypred),2)]"
   ]
  },
  {
   "cell_type": "code",
   "execution_count": 378,
   "id": "e9d55ca5",
   "metadata": {},
   "outputs": [
    {
     "data": {
      "text/html": [
       "<div>\n",
       "<style scoped>\n",
       "    .dataframe tbody tr th:only-of-type {\n",
       "        vertical-align: middle;\n",
       "    }\n",
       "\n",
       "    .dataframe tbody tr th {\n",
       "        vertical-align: top;\n",
       "    }\n",
       "\n",
       "    .dataframe thead th {\n",
       "        text-align: right;\n",
       "    }\n",
       "</style>\n",
       "<table border=\"1\" class=\"dataframe\">\n",
       "  <thead>\n",
       "    <tr style=\"text-align: right;\">\n",
       "      <th></th>\n",
       "      <th>Base_Model</th>\n",
       "      <th>LR_scaled</th>\n",
       "      <th>DecisionTree</th>\n",
       "      <th>DecisionTreeTuned</th>\n",
       "    </tr>\n",
       "  </thead>\n",
       "  <tbody>\n",
       "    <tr>\n",
       "      <th>Model_Name</th>\n",
       "      <td>BaseModel</td>\n",
       "      <td>LR_Scaled</td>\n",
       "      <td>DecisionTree</td>\n",
       "      <td>DecisionTree_tuned</td>\n",
       "    </tr>\n",
       "    <tr>\n",
       "      <th>TN</th>\n",
       "      <td>17702</td>\n",
       "      <td>19837</td>\n",
       "      <td>20953</td>\n",
       "      <td>21189</td>\n",
       "    </tr>\n",
       "    <tr>\n",
       "      <th>FN</th>\n",
       "      <td>3101</td>\n",
       "      <td>2713</td>\n",
       "      <td>1063</td>\n",
       "      <td>1238</td>\n",
       "    </tr>\n",
       "    <tr>\n",
       "      <th>TP</th>\n",
       "      <td>13774</td>\n",
       "      <td>14162</td>\n",
       "      <td>15812</td>\n",
       "      <td>15637</td>\n",
       "    </tr>\n",
       "    <tr>\n",
       "      <th>FP</th>\n",
       "      <td>4270</td>\n",
       "      <td>2135</td>\n",
       "      <td>1019</td>\n",
       "      <td>783</td>\n",
       "    </tr>\n",
       "    <tr>\n",
       "      <th>Accuracy</th>\n",
       "      <td>0.81</td>\n",
       "      <td>0.88</td>\n",
       "      <td>0.95</td>\n",
       "      <td>0.95</td>\n",
       "    </tr>\n",
       "    <tr>\n",
       "      <th>Kfold_accuracy</th>\n",
       "      <td>0.81</td>\n",
       "      <td>0.81</td>\n",
       "      <td>0.95</td>\n",
       "      <td>0.95</td>\n",
       "    </tr>\n",
       "    <tr>\n",
       "      <th>F1-score</th>\n",
       "      <td>0.79</td>\n",
       "      <td>0.85</td>\n",
       "      <td>0.94</td>\n",
       "      <td>0.94</td>\n",
       "    </tr>\n",
       "    <tr>\n",
       "      <th>ROC-AUCscore</th>\n",
       "      <td>0.81</td>\n",
       "      <td>0.87</td>\n",
       "      <td>0.95</td>\n",
       "      <td>0.95</td>\n",
       "    </tr>\n",
       "  </tbody>\n",
       "</table>\n",
       "</div>"
      ],
      "text/plain": [
       "               Base_Model  LR_scaled  DecisionTree   DecisionTreeTuned\n",
       "Model_Name      BaseModel  LR_Scaled  DecisionTree  DecisionTree_tuned\n",
       "TN                  17702      19837         20953               21189\n",
       "FN                   3101       2713          1063                1238\n",
       "TP                  13774      14162         15812               15637\n",
       "FP                   4270       2135          1019                 783\n",
       "Accuracy             0.81       0.88          0.95                0.95\n",
       "Kfold_accuracy       0.81       0.81          0.95                0.95\n",
       "F1-score             0.79       0.85          0.94                0.94\n",
       "ROC-AUCscore         0.81       0.87          0.95                0.95"
      ]
     },
     "execution_count": 378,
     "metadata": {},
     "output_type": "execute_result"
    }
   ],
   "source": [
    "scorecard"
   ]
  },
  {
   "cell_type": "markdown",
   "id": "a4a8ecf8",
   "metadata": {},
   "source": [
    "#### RandomForestClassifier"
   ]
  },
  {
   "cell_type": "code",
   "execution_count": 247,
   "id": "b207b414",
   "metadata": {},
   "outputs": [],
   "source": [
    "from sklearn.ensemble import RandomForestClassifier"
   ]
  },
  {
   "cell_type": "code",
   "execution_count": 379,
   "id": "f15bea45",
   "metadata": {},
   "outputs": [
    {
     "name": "stdout",
     "output_type": "stream",
     "text": [
      "              precision    recall  f1-score   support\n",
      "\n",
      "           0       0.95      0.97      0.96     21972\n",
      "           1       0.96      0.93      0.94     16875\n",
      "\n",
      "    accuracy                           0.95     38847\n",
      "   macro avg       0.95      0.95      0.95     38847\n",
      "weighted avg       0.95      0.95      0.95     38847\n",
      "\n"
     ]
    }
   ],
   "source": [
    "rf=RandomForestClassifier(n_estimators=5,criterion=\"entropy\",random_state = 10)\n",
    "model5=rf.fit(xtrain,ytrain)\n",
    "ypred=model5.predict(xtest)\n",
    "from sklearn.metrics import classification_report\n",
    "print(classification_report(ytest,ypred))"
   ]
  },
  {
   "cell_type": "code",
   "execution_count": 380,
   "id": "f86d7d03",
   "metadata": {},
   "outputs": [
    {
     "name": "stdout",
     "output_type": "stream",
     "text": [
      "[0.95428218 0.95327825 0.95358715 0.95366438 0.95281489 0.95157927\n",
      " 0.95366438 0.95250232 0.95219339 0.95435589]\n",
      "mean score 0.953192208290918\n"
     ]
    }
   ],
   "source": [
    "from sklearn.model_selection import KFold,cross_val_score\n",
    "cv = KFold(n_splits=10, random_state=1, shuffle=True)\n",
    "\n",
    "scores = cross_val_score(rf, X,Y,\n",
    "                         cv=cv, n_jobs=-1)\n",
    "\n",
    "print(abs(scores))\n",
    "print(\"mean score\",np.mean(abs(scores)))"
   ]
  },
  {
   "cell_type": "code",
   "execution_count": 381,
   "id": "471d8d87",
   "metadata": {},
   "outputs": [
    {
     "data": {
      "image/png": "[encoded data removed]",
      "text/plain": [
       "<Figure size 504x504 with 1 Axes>"
      ]
     },
     "metadata": {
      "needs_background": "light"
     },
     "output_type": "display_data"
    }
   ],
   "source": [
    "cm = confusion_matrix(ytest, ypred)\n",
    "conf_matrix = pd.DataFrame(data = cm,columns = ['Predicted:0','Predicted:1'], index = ['Actual:0','Actual:1'])\n",
    "sns.heatmap(conf_matrix, annot = True, fmt = 'd', cmap = ListedColormap(['lightskyblue']), cbar = False, \n",
    "            linewidths = 0.1, annot_kws = {'size':25})\n",
    "plt.xticks(fontsize = 20)\n",
    "plt.yticks(fontsize = 20)\n",
    "plt.show()"
   ]
  },
  {
   "cell_type": "code",
   "execution_count": 382,
   "id": "dd80ba9f",
   "metadata": {},
   "outputs": [
    {
     "data": {
      "image/png": "[encoded data removed]",
      "text/plain": [
       "<Figure size 504x504 with 1 Axes>"
      ]
     },
     "metadata": {
      "needs_background": "light"
     },
     "output_type": "display_data"
    }
   ],
   "source": [
    "fpr, tpr, thresholds = roc_curve(ytest, ypred)\n",
    "plt.plot(fpr, tpr)\n",
    "plt.xlim([0.0, 1.0])\n",
    "plt.ylim([0.0, 1.0])\n",
    "plt.plot([0, 1], [0, 1],'r--')\n",
    "plt.title('ROC curve for Satisfaction Prediction Classifier', fontsize = 15)\n",
    "plt.xlabel('False positive rate (1-Specificity)', fontsize = 15)\n",
    "plt.ylabel('True positive rate (Sensitivity)', fontsize = 15)\n",
    "plt.text(x = 0.02, y = 0.9, s = ('AUC Score:', round(metrics.roc_auc_score(ytest, ypred),4)))\n",
    "plt.grid(True)"
   ]
  },
  {
   "cell_type": "code",
   "execution_count": 383,
   "id": "08290b62",
   "metadata": {},
   "outputs": [],
   "source": [
    "scorecard[\"RandomForest\"]=[\"RandomForest\",cm[0,0],cm[1,0],cm[1,1],cm[0,1],round(accuracy_score(ytest,ypred),2),round(np.mean(abs(scores)),2),round(f1_score(ytest,ypred),2),round(metrics.roc_auc_score(ytest, ypred),2)]"
   ]
  },
  {
   "cell_type": "code",
   "execution_count": 384,
   "id": "2db470eb",
   "metadata": {},
   "outputs": [
    {
     "data": {
      "text/html": [
       "<div>\n",
       "<style scoped>\n",
       "    .dataframe tbody tr th:only-of-type {\n",
       "        vertical-align: middle;\n",
       "    }\n",
       "\n",
       "    .dataframe tbody tr th {\n",
       "        vertical-align: top;\n",
       "    }\n",
       "\n",
       "    .dataframe thead th {\n",
       "        text-align: right;\n",
       "    }\n",
       "</style>\n",
       "<table border=\"1\" class=\"dataframe\">\n",
       "  <thead>\n",
       "    <tr style=\"text-align: right;\">\n",
       "      <th></th>\n",
       "      <th>Base_Model</th>\n",
       "      <th>LR_scaled</th>\n",
       "      <th>DecisionTree</th>\n",
       "      <th>DecisionTreeTuned</th>\n",
       "      <th>RandomForest</th>\n",
       "    </tr>\n",
       "  </thead>\n",
       "  <tbody>\n",
       "    <tr>\n",
       "      <th>Model_Name</th>\n",
       "      <td>BaseModel</td>\n",
       "      <td>LR_Scaled</td>\n",
       "      <td>DecisionTree</td>\n",
       "      <td>DecisionTree_tuned</td>\n",
       "      <td>RandomForest</td>\n",
       "    </tr>\n",
       "    <tr>\n",
       "      <th>TN</th>\n",
       "      <td>17702</td>\n",
       "      <td>19837</td>\n",
       "      <td>20953</td>\n",
       "      <td>21189</td>\n",
       "      <td>21258</td>\n",
       "    </tr>\n",
       "    <tr>\n",
       "      <th>FN</th>\n",
       "      <td>3101</td>\n",
       "      <td>2713</td>\n",
       "      <td>1063</td>\n",
       "      <td>1238</td>\n",
       "      <td>1149</td>\n",
       "    </tr>\n",
       "    <tr>\n",
       "      <th>TP</th>\n",
       "      <td>13774</td>\n",
       "      <td>14162</td>\n",
       "      <td>15812</td>\n",
       "      <td>15637</td>\n",
       "      <td>15726</td>\n",
       "    </tr>\n",
       "    <tr>\n",
       "      <th>FP</th>\n",
       "      <td>4270</td>\n",
       "      <td>2135</td>\n",
       "      <td>1019</td>\n",
       "      <td>783</td>\n",
       "      <td>714</td>\n",
       "    </tr>\n",
       "    <tr>\n",
       "      <th>Accuracy</th>\n",
       "      <td>0.81</td>\n",
       "      <td>0.88</td>\n",
       "      <td>0.95</td>\n",
       "      <td>0.95</td>\n",
       "      <td>0.95</td>\n",
       "    </tr>\n",
       "    <tr>\n",
       "      <th>Kfold_accuracy</th>\n",
       "      <td>0.81</td>\n",
       "      <td>0.81</td>\n",
       "      <td>0.95</td>\n",
       "      <td>0.95</td>\n",
       "      <td>0.95</td>\n",
       "    </tr>\n",
       "    <tr>\n",
       "      <th>F1-score</th>\n",
       "      <td>0.79</td>\n",
       "      <td>0.85</td>\n",
       "      <td>0.94</td>\n",
       "      <td>0.94</td>\n",
       "      <td>0.94</td>\n",
       "    </tr>\n",
       "    <tr>\n",
       "      <th>ROC-AUCscore</th>\n",
       "      <td>0.81</td>\n",
       "      <td>0.87</td>\n",
       "      <td>0.95</td>\n",
       "      <td>0.95</td>\n",
       "      <td>0.95</td>\n",
       "    </tr>\n",
       "  </tbody>\n",
       "</table>\n",
       "</div>"
      ],
      "text/plain": [
       "               Base_Model  LR_scaled  DecisionTree   DecisionTreeTuned  \\\n",
       "Model_Name      BaseModel  LR_Scaled  DecisionTree  DecisionTree_tuned   \n",
       "TN                  17702      19837         20953               21189   \n",
       "FN                   3101       2713          1063                1238   \n",
       "TP                  13774      14162         15812               15637   \n",
       "FP                   4270       2135          1019                 783   \n",
       "Accuracy             0.81       0.88          0.95                0.95   \n",
       "Kfold_accuracy       0.81       0.81          0.95                0.95   \n",
       "F1-score             0.79       0.85          0.94                0.94   \n",
       "ROC-AUCscore         0.81       0.87          0.95                0.95   \n",
       "\n",
       "                RandomForest  \n",
       "Model_Name      RandomForest  \n",
       "TN                     21258  \n",
       "FN                      1149  \n",
       "TP                     15726  \n",
       "FP                       714  \n",
       "Accuracy                0.95  \n",
       "Kfold_accuracy          0.95  \n",
       "F1-score                0.94  \n",
       "ROC-AUCscore            0.95  "
      ]
     },
     "execution_count": 384,
     "metadata": {},
     "output_type": "execute_result"
    }
   ],
   "source": [
    "scorecard"
   ]
  },
  {
   "cell_type": "markdown",
   "id": "73d16e39",
   "metadata": {},
   "source": [
    "#### RandomForestTuned"
   ]
  },
  {
   "cell_type": "code",
   "execution_count": 385,
   "id": "b2b02219",
   "metadata": {},
   "outputs": [
    {
     "name": "stdout",
     "output_type": "stream",
     "text": [
      "              precision    recall  f1-score   support\n",
      "\n",
      "           0       0.95      0.98      0.97     21972\n",
      "           1       0.97      0.94      0.95     16875\n",
      "\n",
      "    accuracy                           0.96     38847\n",
      "   macro avg       0.96      0.96      0.96     38847\n",
      "weighted avg       0.96      0.96      0.96     38847\n",
      "\n"
     ]
    }
   ],
   "source": [
    "rf=RandomForestClassifier(criterion=\"entropy\",max_depth=20,min_samples_split=25,random_state = 10,n_estimators=100)\n",
    "model6=rf.fit(xtrain,ytrain)\n",
    "ypred=model6.predict(xtest)\n",
    "from sklearn.metrics import classification_report\n",
    "print(classification_report(ytest,ypred))"
   ]
  },
  {
   "cell_type": "code",
   "execution_count": 386,
   "id": "df9ef07e",
   "metadata": {},
   "outputs": [
    {
     "name": "stdout",
     "output_type": "stream",
     "text": [
      "[0.96154143 0.96200479 0.96161866 0.96038304 0.9590702  0.96300873\n",
      " 0.96177311 0.961384   0.96323757 0.96269694]\n",
      "mean score 0.9616718458452761\n"
     ]
    }
   ],
   "source": [
    "from sklearn.model_selection import KFold,cross_val_score\n",
    "cv = KFold(n_splits=10, random_state=1, shuffle=True)\n",
    "\n",
    "scores = cross_val_score(rf, X,Y,\n",
    "                         cv=cv, n_jobs=-1)\n",
    "\n",
    "print(abs(scores))\n",
    "print(\"mean score\",np.mean(abs(scores)))"
   ]
  },
  {
   "cell_type": "code",
   "execution_count": 387,
   "id": "c3ecbfd8",
   "metadata": {},
   "outputs": [
    {
     "data": {
      "image/png": "[encoded data removed]",
      "text/plain": [
       "<Figure size 504x504 with 1 Axes>"
      ]
     },
     "metadata": {
      "needs_background": "light"
     },
     "output_type": "display_data"
    }
   ],
   "source": [
    "cm = confusion_matrix(ytest, ypred)\n",
    "conf_matrix = pd.DataFrame(data = cm,columns = ['Predicted:0','Predicted:1'], index = ['Actual:0','Actual:1'])\n",
    "sns.heatmap(conf_matrix, annot = True, fmt = 'd', cmap = ListedColormap(['lightskyblue']), cbar = False, \n",
    "            linewidths = 0.1, annot_kws = {'size':25})\n",
    "plt.xticks(fontsize = 20)\n",
    "plt.yticks(fontsize = 20)\n",
    "plt.show()"
   ]
  },
  {
   "cell_type": "code",
   "execution_count": 388,
   "id": "270f910b",
   "metadata": {},
   "outputs": [
    {
     "data": {
      "image/png": "[encoded data removed]",
      "text/plain": [
       "<Figure size 504x504 with 1 Axes>"
      ]
     },
     "metadata": {
      "needs_background": "light"
     },
     "output_type": "display_data"
    }
   ],
   "source": [
    "fpr, tpr, thresholds = roc_curve(ytest, ypred)\n",
    "plt.plot(fpr, tpr)\n",
    "plt.xlim([0.0, 1.0])\n",
    "plt.ylim([0.0, 1.0])\n",
    "plt.plot([0, 1], [0, 1],'r--')\n",
    "plt.title('ROC curve for Satisfaction Prediction Classifier', fontsize = 15)\n",
    "plt.xlabel('False positive rate (1-Specificity)', fontsize = 15)\n",
    "plt.ylabel('True positive rate (Sensitivity)', fontsize = 15)\n",
    "plt.text(x = 0.02, y = 0.9, s = ('AUC Score:', round(metrics.roc_auc_score(ytest, ypred),4)))\n",
    "plt.grid(True)"
   ]
  },
  {
   "cell_type": "code",
   "execution_count": 389,
   "id": "0a65a65a",
   "metadata": {},
   "outputs": [],
   "source": [
    "scorecard[\"RandomForestTuned\"]=[\"RandomForest_tuned\",cm[0,0],cm[1,0],cm[1,1],cm[0,1],round(accuracy_score(ytest,ypred),2),round(np.mean(abs(scores)),2),round(f1_score(ytest,ypred),2),round(metrics.roc_auc_score(ytest, ypred),2)]"
   ]
  },
  {
   "cell_type": "code",
   "execution_count": 390,
   "id": "6550a2f7",
   "metadata": {},
   "outputs": [
    {
     "data": {
      "text/html": [
       "<div>\n",
       "<style scoped>\n",
       "    .dataframe tbody tr th:only-of-type {\n",
       "        vertical-align: middle;\n",
       "    }\n",
       "\n",
       "    .dataframe tbody tr th {\n",
       "        vertical-align: top;\n",
       "    }\n",
       "\n",
       "    .dataframe thead th {\n",
       "        text-align: right;\n",
       "    }\n",
       "</style>\n",
       "<table border=\"1\" class=\"dataframe\">\n",
       "  <thead>\n",
       "    <tr style=\"text-align: right;\">\n",
       "      <th></th>\n",
       "      <th>Base_Model</th>\n",
       "      <th>LR_scaled</th>\n",
       "      <th>DecisionTree</th>\n",
       "      <th>DecisionTreeTuned</th>\n",
       "      <th>RandomForest</th>\n",
       "      <th>RandomForestTuned</th>\n",
       "    </tr>\n",
       "  </thead>\n",
       "  <tbody>\n",
       "    <tr>\n",
       "      <th>Model_Name</th>\n",
       "      <td>BaseModel</td>\n",
       "      <td>LR_Scaled</td>\n",
       "      <td>DecisionTree</td>\n",
       "      <td>DecisionTree_tuned</td>\n",
       "      <td>RandomForest</td>\n",
       "      <td>RandomForest_tuned</td>\n",
       "    </tr>\n",
       "    <tr>\n",
       "      <th>TN</th>\n",
       "      <td>17702</td>\n",
       "      <td>19837</td>\n",
       "      <td>20953</td>\n",
       "      <td>21189</td>\n",
       "      <td>21258</td>\n",
       "      <td>21503</td>\n",
       "    </tr>\n",
       "    <tr>\n",
       "      <th>FN</th>\n",
       "      <td>3101</td>\n",
       "      <td>2713</td>\n",
       "      <td>1063</td>\n",
       "      <td>1238</td>\n",
       "      <td>1149</td>\n",
       "      <td>1069</td>\n",
       "    </tr>\n",
       "    <tr>\n",
       "      <th>TP</th>\n",
       "      <td>13774</td>\n",
       "      <td>14162</td>\n",
       "      <td>15812</td>\n",
       "      <td>15637</td>\n",
       "      <td>15726</td>\n",
       "      <td>15806</td>\n",
       "    </tr>\n",
       "    <tr>\n",
       "      <th>FP</th>\n",
       "      <td>4270</td>\n",
       "      <td>2135</td>\n",
       "      <td>1019</td>\n",
       "      <td>783</td>\n",
       "      <td>714</td>\n",
       "      <td>469</td>\n",
       "    </tr>\n",
       "    <tr>\n",
       "      <th>Accuracy</th>\n",
       "      <td>0.81</td>\n",
       "      <td>0.88</td>\n",
       "      <td>0.95</td>\n",
       "      <td>0.95</td>\n",
       "      <td>0.95</td>\n",
       "      <td>0.96</td>\n",
       "    </tr>\n",
       "    <tr>\n",
       "      <th>Kfold_accuracy</th>\n",
       "      <td>0.81</td>\n",
       "      <td>0.81</td>\n",
       "      <td>0.95</td>\n",
       "      <td>0.95</td>\n",
       "      <td>0.95</td>\n",
       "      <td>0.96</td>\n",
       "    </tr>\n",
       "    <tr>\n",
       "      <th>F1-score</th>\n",
       "      <td>0.79</td>\n",
       "      <td>0.85</td>\n",
       "      <td>0.94</td>\n",
       "      <td>0.94</td>\n",
       "      <td>0.94</td>\n",
       "      <td>0.95</td>\n",
       "    </tr>\n",
       "    <tr>\n",
       "      <th>ROC-AUCscore</th>\n",
       "      <td>0.81</td>\n",
       "      <td>0.87</td>\n",
       "      <td>0.95</td>\n",
       "      <td>0.95</td>\n",
       "      <td>0.95</td>\n",
       "      <td>0.96</td>\n",
       "    </tr>\n",
       "  </tbody>\n",
       "</table>\n",
       "</div>"
      ],
      "text/plain": [
       "               Base_Model  LR_scaled  DecisionTree   DecisionTreeTuned  \\\n",
       "Model_Name      BaseModel  LR_Scaled  DecisionTree  DecisionTree_tuned   \n",
       "TN                  17702      19837         20953               21189   \n",
       "FN                   3101       2713          1063                1238   \n",
       "TP                  13774      14162         15812               15637   \n",
       "FP                   4270       2135          1019                 783   \n",
       "Accuracy             0.81       0.88          0.95                0.95   \n",
       "Kfold_accuracy       0.81       0.81          0.95                0.95   \n",
       "F1-score             0.79       0.85          0.94                0.94   \n",
       "ROC-AUCscore         0.81       0.87          0.95                0.95   \n",
       "\n",
       "                RandomForest   RandomForestTuned  \n",
       "Model_Name      RandomForest  RandomForest_tuned  \n",
       "TN                     21258               21503  \n",
       "FN                      1149                1069  \n",
       "TP                     15726               15806  \n",
       "FP                       714                 469  \n",
       "Accuracy                0.95                0.96  \n",
       "Kfold_accuracy          0.95                0.96  \n",
       "F1-score                0.94                0.95  \n",
       "ROC-AUCscore            0.95                0.96  "
      ]
     },
     "execution_count": 390,
     "metadata": {},
     "output_type": "execute_result"
    }
   ],
   "source": [
    "scorecard"
   ]
  },
  {
   "cell_type": "markdown",
   "id": "50c88c51",
   "metadata": {},
   "source": [
    "##### Boosting-XGBoost"
   ]
  },
  {
   "cell_type": "code",
   "execution_count": 157,
   "id": "c8c6cb64",
   "metadata": {},
   "outputs": [],
   "source": [
    "from xgboost import XGBClassifier"
   ]
  },
  {
   "cell_type": "code",
   "execution_count": 391,
   "id": "f58f614d",
   "metadata": {},
   "outputs": [
    {
     "name": "stdout",
     "output_type": "stream",
     "text": [
      "[12:24:46] WARNING: ..\\src\\learner.cc:1115: Starting in XGBoost 1.3.0, the default evaluation metric used with the objective 'binary:logistic' was changed from 'error' to 'logloss'. Explicitly set eval_metric if you'd like to restore the old behavior.\n",
      "              precision    recall  f1-score   support\n",
      "\n",
      "           0       0.96      0.98      0.97     21972\n",
      "           1       0.97      0.94      0.96     16875\n",
      "\n",
      "    accuracy                           0.96     38847\n",
      "   macro avg       0.96      0.96      0.96     38847\n",
      "weighted avg       0.96      0.96      0.96     38847\n",
      "\n"
     ]
    }
   ],
   "source": [
    "xg=XGBClassifier()\n",
    "model7=xg.fit(xtrain,ytrain)\n",
    "ypred=model7.predict(xtest)\n",
    "from sklearn.metrics import classification_report\n",
    "print(classification_report(ytest,ypred))"
   ]
  },
  {
   "cell_type": "code",
   "execution_count": 392,
   "id": "8a4b515d",
   "metadata": {},
   "outputs": [
    {
     "data": {
      "image/png": "[encoded data removed]",
      "text/plain": [
       "<Figure size 504x504 with 1 Axes>"
      ]
     },
     "metadata": {
      "needs_background": "light"
     },
     "output_type": "display_data"
    }
   ],
   "source": [
    "cm = confusion_matrix(ytest, ypred)\n",
    "conf_matrix = pd.DataFrame(data = cm,columns = ['Predicted:0','Predicted:1'], index = ['Actual:0','Actual:1'])\n",
    "sns.heatmap(conf_matrix, annot = True, fmt = 'd', cmap = ListedColormap(['lightskyblue']), cbar = False, \n",
    "            linewidths = 0.1, annot_kws = {'size':25})\n",
    "plt.xticks(fontsize = 20)\n",
    "plt.yticks(fontsize = 20)\n",
    "plt.show()"
   ]
  },
  {
   "cell_type": "code",
   "execution_count": 393,
   "id": "5df18455",
   "metadata": {},
   "outputs": [
    {
     "data": {
      "image/png": "[encoded data removed]",
      "text/plain": [
       "<Figure size 504x504 with 1 Axes>"
      ]
     },
     "metadata": {
      "needs_background": "light"
     },
     "output_type": "display_data"
    }
   ],
   "source": [
    "fpr, tpr, thresholds = roc_curve(ytest, ypred)\n",
    "plt.plot(fpr, tpr)\n",
    "plt.xlim([0.0, 1.0])\n",
    "plt.ylim([0.0, 1.0])\n",
    "plt.plot([0, 1], [0, 1],'r--')\n",
    "plt.title('ROC curve for Satisfaction Prediction Classifier', fontsize = 15)\n",
    "plt.xlabel('False positive rate (1-Specificity)', fontsize = 15)\n",
    "plt.ylabel('True positive rate (Sensitivity)', fontsize = 15)\n",
    "plt.text(x = 0.02, y = 0.9, s = ('AUC Score:', round(metrics.roc_auc_score(ytest, ypred),4)))\n",
    "plt.grid(True)"
   ]
  },
  {
   "cell_type": "code",
   "execution_count": 394,
   "id": "e52781bf",
   "metadata": {},
   "outputs": [
    {
     "name": "stdout",
     "output_type": "stream",
     "text": [
      "[0.96331763 0.9626226  0.96269982 0.96478493 0.96200479 0.96447602\n",
      " 0.9632404  0.96169293 0.96431881 0.96439605]\n",
      "mean score 0.9633553973880993\n"
     ]
    }
   ],
   "source": [
    "from sklearn.model_selection import KFold,cross_val_score\n",
    "cv = KFold(n_splits=10, random_state=1, shuffle=True)\n",
    "\n",
    "scores = cross_val_score(xg, X,Y,\n",
    "                         cv=cv, n_jobs=-1)\n",
    "\n",
    "print(abs(scores))\n",
    "print(\"mean score\",np.mean(abs(scores)))"
   ]
  },
  {
   "cell_type": "code",
   "execution_count": 395,
   "id": "5efa0f4e",
   "metadata": {},
   "outputs": [],
   "source": [
    "scorecard[\"XGBoost\"]=[\"XGBoost\",cm[0,0],cm[1,0],cm[1,1],cm[0,1],round(accuracy_score(ytest,ypred),2),round(np.mean(abs(scores)),2),round(f1_score(ytest,ypred),2),round(metrics.roc_auc_score(ytest, ypred),2)]"
   ]
  },
  {
   "cell_type": "code",
   "execution_count": 396,
   "id": "ea7b4ef2",
   "metadata": {},
   "outputs": [
    {
     "data": {
      "text/html": [
       "<div>\n",
       "<style scoped>\n",
       "    .dataframe tbody tr th:only-of-type {\n",
       "        vertical-align: middle;\n",
       "    }\n",
       "\n",
       "    .dataframe tbody tr th {\n",
       "        vertical-align: top;\n",
       "    }\n",
       "\n",
       "    .dataframe thead th {\n",
       "        text-align: right;\n",
       "    }\n",
       "</style>\n",
       "<table border=\"1\" class=\"dataframe\">\n",
       "  <thead>\n",
       "    <tr style=\"text-align: right;\">\n",
       "      <th></th>\n",
       "      <th>Base_Model</th>\n",
       "      <th>LR_scaled</th>\n",
       "      <th>DecisionTree</th>\n",
       "      <th>DecisionTreeTuned</th>\n",
       "      <th>RandomForest</th>\n",
       "      <th>RandomForestTuned</th>\n",
       "      <th>XGBoost</th>\n",
       "    </tr>\n",
       "  </thead>\n",
       "  <tbody>\n",
       "    <tr>\n",
       "      <th>Model_Name</th>\n",
       "      <td>BaseModel</td>\n",
       "      <td>LR_Scaled</td>\n",
       "      <td>DecisionTree</td>\n",
       "      <td>DecisionTree_tuned</td>\n",
       "      <td>RandomForest</td>\n",
       "      <td>RandomForest_tuned</td>\n",
       "      <td>XGBoost</td>\n",
       "    </tr>\n",
       "    <tr>\n",
       "      <th>TN</th>\n",
       "      <td>17702</td>\n",
       "      <td>19837</td>\n",
       "      <td>20953</td>\n",
       "      <td>21189</td>\n",
       "      <td>21258</td>\n",
       "      <td>21503</td>\n",
       "      <td>21497</td>\n",
       "    </tr>\n",
       "    <tr>\n",
       "      <th>FN</th>\n",
       "      <td>3101</td>\n",
       "      <td>2713</td>\n",
       "      <td>1063</td>\n",
       "      <td>1238</td>\n",
       "      <td>1149</td>\n",
       "      <td>1069</td>\n",
       "      <td>993</td>\n",
       "    </tr>\n",
       "    <tr>\n",
       "      <th>TP</th>\n",
       "      <td>13774</td>\n",
       "      <td>14162</td>\n",
       "      <td>15812</td>\n",
       "      <td>15637</td>\n",
       "      <td>15726</td>\n",
       "      <td>15806</td>\n",
       "      <td>15882</td>\n",
       "    </tr>\n",
       "    <tr>\n",
       "      <th>FP</th>\n",
       "      <td>4270</td>\n",
       "      <td>2135</td>\n",
       "      <td>1019</td>\n",
       "      <td>783</td>\n",
       "      <td>714</td>\n",
       "      <td>469</td>\n",
       "      <td>475</td>\n",
       "    </tr>\n",
       "    <tr>\n",
       "      <th>Accuracy</th>\n",
       "      <td>0.81</td>\n",
       "      <td>0.88</td>\n",
       "      <td>0.95</td>\n",
       "      <td>0.95</td>\n",
       "      <td>0.95</td>\n",
       "      <td>0.96</td>\n",
       "      <td>0.96</td>\n",
       "    </tr>\n",
       "    <tr>\n",
       "      <th>Kfold_accuracy</th>\n",
       "      <td>0.81</td>\n",
       "      <td>0.81</td>\n",
       "      <td>0.95</td>\n",
       "      <td>0.95</td>\n",
       "      <td>0.95</td>\n",
       "      <td>0.96</td>\n",
       "      <td>0.96</td>\n",
       "    </tr>\n",
       "    <tr>\n",
       "      <th>F1-score</th>\n",
       "      <td>0.79</td>\n",
       "      <td>0.85</td>\n",
       "      <td>0.94</td>\n",
       "      <td>0.94</td>\n",
       "      <td>0.94</td>\n",
       "      <td>0.95</td>\n",
       "      <td>0.96</td>\n",
       "    </tr>\n",
       "    <tr>\n",
       "      <th>ROC-AUCscore</th>\n",
       "      <td>0.81</td>\n",
       "      <td>0.87</td>\n",
       "      <td>0.95</td>\n",
       "      <td>0.95</td>\n",
       "      <td>0.95</td>\n",
       "      <td>0.96</td>\n",
       "      <td>0.96</td>\n",
       "    </tr>\n",
       "  </tbody>\n",
       "</table>\n",
       "</div>"
      ],
      "text/plain": [
       "               Base_Model  LR_scaled  DecisionTree   DecisionTreeTuned  \\\n",
       "Model_Name      BaseModel  LR_Scaled  DecisionTree  DecisionTree_tuned   \n",
       "TN                  17702      19837         20953               21189   \n",
       "FN                   3101       2713          1063                1238   \n",
       "TP                  13774      14162         15812               15637   \n",
       "FP                   4270       2135          1019                 783   \n",
       "Accuracy             0.81       0.88          0.95                0.95   \n",
       "Kfold_accuracy       0.81       0.81          0.95                0.95   \n",
       "F1-score             0.79       0.85          0.94                0.94   \n",
       "ROC-AUCscore         0.81       0.87          0.95                0.95   \n",
       "\n",
       "                RandomForest   RandomForestTuned  XGBoost  \n",
       "Model_Name      RandomForest  RandomForest_tuned  XGBoost  \n",
       "TN                     21258               21503    21497  \n",
       "FN                      1149                1069      993  \n",
       "TP                     15726               15806    15882  \n",
       "FP                       714                 469      475  \n",
       "Accuracy                0.95                0.96     0.96  \n",
       "Kfold_accuracy          0.95                0.96     0.96  \n",
       "F1-score                0.94                0.95     0.96  \n",
       "ROC-AUCscore            0.95                0.96     0.96  "
      ]
     },
     "execution_count": 396,
     "metadata": {},
     "output_type": "execute_result"
    }
   ],
   "source": [
    "scorecard"
   ]
  },
  {
   "cell_type": "code",
   "execution_count": 398,
   "id": "9ee1cc60",
   "metadata": {},
   "outputs": [],
   "source": [
    "sc=scorecard.T"
   ]
  },
  {
   "cell_type": "code",
   "execution_count": 399,
   "id": "88970bc3",
   "metadata": {},
   "outputs": [
    {
     "data": {
      "text/html": [
       "<div>\n",
       "<style scoped>\n",
       "    .dataframe tbody tr th:only-of-type {\n",
       "        vertical-align: middle;\n",
       "    }\n",
       "\n",
       "    .dataframe tbody tr th {\n",
       "        vertical-align: top;\n",
       "    }\n",
       "\n",
       "    .dataframe thead th {\n",
       "        text-align: right;\n",
       "    }\n",
       "</style>\n",
       "<table border=\"1\" class=\"dataframe\">\n",
       "  <thead>\n",
       "    <tr style=\"text-align: right;\">\n",
       "      <th></th>\n",
       "      <th>Model_Name</th>\n",
       "      <th>TN</th>\n",
       "      <th>FN</th>\n",
       "      <th>TP</th>\n",
       "      <th>FP</th>\n",
       "      <th>Accuracy</th>\n",
       "      <th>Kfold_accuracy</th>\n",
       "      <th>F1-score</th>\n",
       "      <th>ROC-AUCscore</th>\n",
       "    </tr>\n",
       "  </thead>\n",
       "  <tbody>\n",
       "    <tr>\n",
       "      <th>Base_Model</th>\n",
       "      <td>BaseModel</td>\n",
       "      <td>17702</td>\n",
       "      <td>3101</td>\n",
       "      <td>13774</td>\n",
       "      <td>4270</td>\n",
       "      <td>0.81</td>\n",
       "      <td>0.81</td>\n",
       "      <td>0.79</td>\n",
       "      <td>0.81</td>\n",
       "    </tr>\n",
       "    <tr>\n",
       "      <th>LR_scaled</th>\n",
       "      <td>LR_Scaled</td>\n",
       "      <td>19837</td>\n",
       "      <td>2713</td>\n",
       "      <td>14162</td>\n",
       "      <td>2135</td>\n",
       "      <td>0.88</td>\n",
       "      <td>0.81</td>\n",
       "      <td>0.85</td>\n",
       "      <td>0.87</td>\n",
       "    </tr>\n",
       "    <tr>\n",
       "      <th>DecisionTree</th>\n",
       "      <td>DecisionTree</td>\n",
       "      <td>20953</td>\n",
       "      <td>1063</td>\n",
       "      <td>15812</td>\n",
       "      <td>1019</td>\n",
       "      <td>0.95</td>\n",
       "      <td>0.95</td>\n",
       "      <td>0.94</td>\n",
       "      <td>0.95</td>\n",
       "    </tr>\n",
       "    <tr>\n",
       "      <th>DecisionTreeTuned</th>\n",
       "      <td>DecisionTree_tuned</td>\n",
       "      <td>21189</td>\n",
       "      <td>1238</td>\n",
       "      <td>15637</td>\n",
       "      <td>783</td>\n",
       "      <td>0.95</td>\n",
       "      <td>0.95</td>\n",
       "      <td>0.94</td>\n",
       "      <td>0.95</td>\n",
       "    </tr>\n",
       "    <tr>\n",
       "      <th>RandomForest</th>\n",
       "      <td>RandomForest</td>\n",
       "      <td>21258</td>\n",
       "      <td>1149</td>\n",
       "      <td>15726</td>\n",
       "      <td>714</td>\n",
       "      <td>0.95</td>\n",
       "      <td>0.95</td>\n",
       "      <td>0.94</td>\n",
       "      <td>0.95</td>\n",
       "    </tr>\n",
       "    <tr>\n",
       "      <th>RandomForestTuned</th>\n",
       "      <td>RandomForest_tuned</td>\n",
       "      <td>21503</td>\n",
       "      <td>1069</td>\n",
       "      <td>15806</td>\n",
       "      <td>469</td>\n",
       "      <td>0.96</td>\n",
       "      <td>0.96</td>\n",
       "      <td>0.95</td>\n",
       "      <td>0.96</td>\n",
       "    </tr>\n",
       "    <tr>\n",
       "      <th>XGBoost</th>\n",
       "      <td>XGBoost</td>\n",
       "      <td>21497</td>\n",
       "      <td>993</td>\n",
       "      <td>15882</td>\n",
       "      <td>475</td>\n",
       "      <td>0.96</td>\n",
       "      <td>0.96</td>\n",
       "      <td>0.96</td>\n",
       "      <td>0.96</td>\n",
       "    </tr>\n",
       "  </tbody>\n",
       "</table>\n",
       "</div>"
      ],
      "text/plain": [
       "                           Model_Name     TN    FN     TP    FP Accuracy  \\\n",
       "Base_Model                  BaseModel  17702  3101  13774  4270     0.81   \n",
       "LR_scaled                   LR_Scaled  19837  2713  14162  2135     0.88   \n",
       "DecisionTree             DecisionTree  20953  1063  15812  1019     0.95   \n",
       "DecisionTreeTuned  DecisionTree_tuned  21189  1238  15637   783     0.95   \n",
       "RandomForest             RandomForest  21258  1149  15726   714     0.95   \n",
       "RandomForestTuned  RandomForest_tuned  21503  1069  15806   469     0.96   \n",
       "XGBoost                       XGBoost  21497   993  15882   475     0.96   \n",
       "\n",
       "                  Kfold_accuracy F1-score ROC-AUCscore  \n",
       "Base_Model                  0.81     0.79         0.81  \n",
       "LR_scaled                   0.81     0.85         0.87  \n",
       "DecisionTree                0.95     0.94         0.95  \n",
       "DecisionTreeTuned           0.95     0.94         0.95  \n",
       "RandomForest                0.95     0.94         0.95  \n",
       "RandomForestTuned           0.96     0.95         0.96  \n",
       "XGBoost                     0.96     0.96         0.96  "
      ]
     },
     "execution_count": 399,
     "metadata": {},
     "output_type": "execute_result"
    }
   ],
   "source": [
    "sc"
   ]
  },
  {
   "cell_type": "code",
   "execution_count": 403,
   "id": "78fba4e4",
   "metadata": {},
   "outputs": [
    {
     "data": {
      "image/png": "[encoded data removed]",
      "text/plain": [
       "<Figure size 504x504 with 1 Axes>"
      ]
     },
     "metadata": {
      "needs_background": "light"
     },
     "output_type": "display_data"
    }
   ],
   "source": [
    "plt.bar(sc[\"Model_Name\"],sc[\"F1-score\"])\n",
    "plt.show()"
   ]
  },
  {
   "cell_type": "markdown",
   "id": "e70909d9",
   "metadata": {},
   "source": [
    "##### We see that XGBoost gave us the best results overall for prediction of satisfaction"
   ]
  },
  {
   "cell_type": "markdown",
   "id": "e5bc4051",
   "metadata": {},
   "source": [
    "##### We proceed with feature selection on the best model to see if we can maintain the accuracy while also reducing the complexity"
   ]
  },
  {
   "cell_type": "code",
   "execution_count": 266,
   "id": "7702d085",
   "metadata": {},
   "outputs": [
    {
     "data": {
      "text/plain": [
       "Index(['Online boarding', 'Type of Travel_Personal Travel',\n",
       "       'Inflight wifi service', 'Customer Type_disloyal Customer',\n",
       "       'Inflight entertainment', 'Checkin service', 'Class_Eco', 'Cleanliness',\n",
       "       'Baggage handling', 'Seat comfort'],\n",
       "      dtype='object')"
      ]
     },
     "execution_count": 266,
     "metadata": {},
     "output_type": "execute_result"
    }
   ],
   "source": [
    "data=pd.DataFrame(model7.feature_importances_,index=xtrain.columns)\n",
    "###taking the top 10 features\n",
    "data.sort_values(by=0,ascending=False).head(10).index"
   ]
  },
  {
   "cell_type": "code",
   "execution_count": 267,
   "id": "120dd6f5",
   "metadata": {},
   "outputs": [],
   "source": [
    "X=df[['Online boarding', 'Type of Travel_Personal Travel',\n",
    "       'Inflight wifi service', 'Customer Type_disloyal Customer',\n",
    "       'Inflight entertainment', 'Checkin service', 'Class_Eco', 'Cleanliness',\n",
    "       'Baggage handling', 'Seat comfort']]\n",
    "from sklearn.model_selection import train_test_split\n",
    "xtrain,xtest,ytrain,ytest=train_test_split(X,Y,train_size=0.7,random_state=100)"
   ]
  },
  {
   "cell_type": "code",
   "execution_count": 268,
   "id": "2a49c869",
   "metadata": {},
   "outputs": [
    {
     "name": "stdout",
     "output_type": "stream",
     "text": [
      "[16:09:55] WARNING: ..\\src\\learner.cc:1115: Starting in XGBoost 1.3.0, the default evaluation metric used with the objective 'binary:logistic' was changed from 'error' to 'logloss'. Explicitly set eval_metric if you'd like to restore the old behavior.\n",
      "              precision    recall  f1-score   support\n",
      "\n",
      "           0       0.95      0.97      0.96     21972\n",
      "           1       0.96      0.93      0.95     16875\n",
      "\n",
      "    accuracy                           0.95     38847\n",
      "   macro avg       0.95      0.95      0.95     38847\n",
      "weighted avg       0.95      0.95      0.95     38847\n",
      "\n"
     ]
    }
   ],
   "source": [
    "xg=XGBClassifier()\n",
    "model=xg.fit(xtrain,ytrain)\n",
    "ypred=model.predict(xtest)\n",
    "from sklearn.metrics import classification_report\n",
    "print(classification_report(ytest,ypred))"
   ]
  },
  {
   "cell_type": "markdown",
   "id": "b8ef41a7",
   "metadata": {},
   "source": [
    "#### After reducing the features from 24 to 10 we still see an accuracy of 95%,this can be particularly useful in day to day business requirements as reducing the complexity can make model prediction easier and more efficient.There is a minimal drop in accuracy of the model after removing more than 50% of the features, making it more practical for real time application.\n",
    "###### The most important features contributing to the model and therefore to predicting customer satisfaction were found to be:\n",
    "\n",
    "'Online boarding'\n",
    "\n",
    "'Type of Travel'\n",
    "\n",
    "'Inflight wifi service'\n",
    "\n",
    "'Customer Type'\n",
    "\n",
    "'Inflight entertainment'\n",
    "\n",
    "'Checkin service'\n",
    "\n",
    "'Class'\n",
    "\n",
    "'Cleanliness'\n",
    "\n",
    "'Baggage handling'\n",
    "\n",
    "'Seat comfort'"
   ]
  },
  {
   "cell_type": "code",
   "execution_count": 290,
   "id": "5d9a02f1",
   "metadata": {},
   "outputs": [
    {
     "data": {
      "text/html": [
       "<div>\n",
       "<style scoped>\n",
       "    .dataframe tbody tr th:only-of-type {\n",
       "        vertical-align: middle;\n",
       "    }\n",
       "\n",
       "    .dataframe tbody tr th {\n",
       "        vertical-align: top;\n",
       "    }\n",
       "\n",
       "    .dataframe thead th {\n",
       "        text-align: right;\n",
       "    }\n",
       "</style>\n",
       "<table border=\"1\" class=\"dataframe\">\n",
       "  <thead>\n",
       "    <tr style=\"text-align: right;\">\n",
       "      <th></th>\n",
       "      <th>Model_Name</th>\n",
       "      <th>Accuracy</th>\n",
       "      <th>Kfold_accuracy</th>\n",
       "      <th>F1-score</th>\n",
       "    </tr>\n",
       "  </thead>\n",
       "  <tbody>\n",
       "    <tr>\n",
       "      <th>Base_Model</th>\n",
       "      <td>BaseModel</td>\n",
       "      <td>0.81</td>\n",
       "      <td>0.81</td>\n",
       "      <td>0.79</td>\n",
       "    </tr>\n",
       "    <tr>\n",
       "      <th>LR_scaled</th>\n",
       "      <td>LR_Scaled</td>\n",
       "      <td>0.88</td>\n",
       "      <td>0.81</td>\n",
       "      <td>0.85</td>\n",
       "    </tr>\n",
       "    <tr>\n",
       "      <th>DecisionTree</th>\n",
       "      <td>DecisionTree</td>\n",
       "      <td>0.95</td>\n",
       "      <td>0.95</td>\n",
       "      <td>0.94</td>\n",
       "    </tr>\n",
       "    <tr>\n",
       "      <th>DecisionTreeTuned</th>\n",
       "      <td>DecisionTree_tuned</td>\n",
       "      <td>0.95</td>\n",
       "      <td>0.95</td>\n",
       "      <td>0.94</td>\n",
       "    </tr>\n",
       "    <tr>\n",
       "      <th>RandomForest</th>\n",
       "      <td>RandomForest</td>\n",
       "      <td>0.95</td>\n",
       "      <td>0.95</td>\n",
       "      <td>0.94</td>\n",
       "    </tr>\n",
       "    <tr>\n",
       "      <th>RandomForestTuned</th>\n",
       "      <td>RandomForest_tuned</td>\n",
       "      <td>0.96</td>\n",
       "      <td>0.96</td>\n",
       "      <td>0.95</td>\n",
       "    </tr>\n",
       "    <tr>\n",
       "      <th>XGBoost</th>\n",
       "      <td>XGBoost</td>\n",
       "      <td>0.96</td>\n",
       "      <td>0.96</td>\n",
       "      <td>0.96</td>\n",
       "    </tr>\n",
       "  </tbody>\n",
       "</table>\n",
       "</div>"
      ],
      "text/plain": [
       "                           Model_Name Accuracy Kfold_accuracy F1-score\n",
       "Base_Model                  BaseModel     0.81           0.81     0.79\n",
       "LR_scaled                   LR_Scaled     0.88           0.81     0.85\n",
       "DecisionTree             DecisionTree     0.95           0.95     0.94\n",
       "DecisionTreeTuned  DecisionTree_tuned     0.95           0.95     0.94\n",
       "RandomForest             RandomForest     0.95           0.95     0.94\n",
       "RandomForestTuned  RandomForest_tuned     0.96           0.96     0.95\n",
       "XGBoost                       XGBoost     0.96           0.96     0.96"
      ]
     },
     "execution_count": 290,
     "metadata": {},
     "output_type": "execute_result"
    }
   ],
   "source": [
    "sc=scorecard.T\n",
    "sc"
   ]
  },
  {
   "cell_type": "code",
   "execution_count": 306,
   "id": "5b23553e",
   "metadata": {},
   "outputs": [
    {
     "data": {
      "image/png": "[encoded data removed]",
      "text/plain": [
       "<Figure size 504x504 with 1 Axes>"
      ]
     },
     "metadata": {
      "needs_background": "light"
     },
     "output_type": "display_data"
    }
   ],
   "source": [
    "sns.lineplot(sc[\"Model_Name\"],sc[\"Accuracy\"],marker=\"o\")\n",
    "plt.xticks(rotation=90)\n",
    "plt.title(\"ACCURACY ACROSS ALL MODELS\")\n",
    "plt.show()"
   ]
  },
  {
   "cell_type": "code",
   "execution_count": 307,
   "id": "5b429a61",
   "metadata": {},
   "outputs": [
    {
     "data": {
      "image/png": "[encoded data removed]",
      "text/plain": [
       "<Figure size 504x504 with 1 Axes>"
      ]
     },
     "metadata": {
      "needs_background": "light"
     },
     "output_type": "display_data"
    }
   ],
   "source": [
    "sns.lineplot(sc[\"Model_Name\"],sc[\"F1-score\"],marker=\"o\")\n",
    "plt.xticks(rotation=90)\n",
    "plt.title(\"F1-SCORE ACROSS ALL MODELS\")\n",
    "plt.show()"
   ]
  },
  {
   "cell_type": "code",
   "execution_count": 301,
   "id": "f7c45396",
   "metadata": {},
   "outputs": [],
   "source": [
    "df1=df.copy()"
   ]
  },
  {
   "cell_type": "code",
   "execution_count": 302,
   "id": "80918968",
   "metadata": {},
   "outputs": [
    {
     "data": {
      "text/plain": [
       "Index(['Unnamed: 0', 'id', 'Gender', 'Customer Type', 'Age', 'Type of Travel',\n",
       "       'Class', 'Flight Distance', 'Inflight wifi service',\n",
       "       'Departure/Arrival time convenient', 'Ease of Online booking',\n",
       "       'Gate location', 'Food and drink', 'Online boarding', 'Seat comfort',\n",
       "       'Inflight entertainment', 'On-board service', 'Leg room service',\n",
       "       'Baggage handling', 'Checkin service', 'Inflight service',\n",
       "       'Cleanliness', 'Departure Delay in Minutes', 'Arrival Delay in Minutes',\n",
       "       'satisfaction'],\n",
       "      dtype='object')"
      ]
     },
     "execution_count": 302,
     "metadata": {},
     "output_type": "execute_result"
    }
   ],
   "source": [
    "df1.columns"
   ]
  },
  {
   "cell_type": "code",
   "execution_count": 303,
   "id": "009c0cca",
   "metadata": {},
   "outputs": [],
   "source": [
    "df1=df1[df1[\"Class\"]==\"Eco\"]"
   ]
  },
  {
   "cell_type": "code",
   "execution_count": 304,
   "id": "141cbef8",
   "metadata": {},
   "outputs": [
    {
     "data": {
      "image/png": "[encoded data removed]",
      "text/plain": [
       "<Figure size 504x504 with 14 Axes>"
      ]
     },
     "metadata": {
      "needs_background": "light"
     },
     "output_type": "display_data"
    }
   ],
   "source": [
    "df_rating=df1[['Inflight wifi service','Departure/Arrival time convenient','Ease of Online booking',\n",
    "             'Gate location','Food and drink','Online boarding','Seat comfort','Inflight entertainment','On-board service',\n",
    "             'Leg room service','Baggage handling','Checkin service','Inflight service','Cleanliness']]\n",
    "\n",
    "plt.rcParams['figure.figsize']=[7,7]\n",
    "for i,j in zip(df_rating,range(1,len(df_rating)+1)):\n",
    "    plt.subplot(5,3,j)\n",
    "    sns.countplot(df1[i],palette='Paired')\n",
    "plt.tight_layout()\n",
    "plt.show()"
   ]
  }
 ],
 "metadata": {
  "kernelspec": {
   "display_name": "Python 3 (ipykernel)",
   "language": "python",
   "name": "python3"
  },
  "language_info": {
   "codemirror_mode": {
    "name": "ipython",
    "version": 3
   },
   "file_extension": ".py",
   "mimetype": "text/x-python",
   "name": "python",
   "nbconvert_exporter": "python",
   "pygments_lexer": "ipython3",
   "version": "3.9.7"
  }
 },
 "nbformat": 4,
 "nbformat_minor": 5
}
